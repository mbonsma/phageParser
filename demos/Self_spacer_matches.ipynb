{
 "cells": [
  {
   "cell_type": "code",
   "execution_count": 100,
   "metadata": {
    "collapsed": true
   },
   "outputs": [],
   "source": [
    "%matplotlib inline"
   ]
  },
  {
   "cell_type": "code",
   "execution_count": null,
   "metadata": {
    "collapsed": true
   },
   "outputs": [],
   "source": []
  },
  {
   "cell_type": "code",
   "execution_count": 1,
   "metadata": {
    "collapsed": true
   },
   "outputs": [],
   "source": [
    "import requests\n",
    "import json\n",
    "import numpy as np\n",
    "import random\n",
    "import matplotlib.pyplot as plt\n",
    "from matplotlib import mlab\n",
    "import seaborn as sns\n",
    "import pandas as pd\n",
    "from scipy import stats\n",
    "sns.set_palette(\"husl\")"
   ]
  },
  {
   "cell_type": "code",
   "execution_count": 3,
   "metadata": {
    "collapsed": false
   },
   "outputs": [],
   "source": [
    "#Url of the phageParser API\n",
    "apiurl = 'https://phageparser.herokuapp.com'\n",
    "#Get the initial page for listing of accessible objects and get url for organisms and casproteins\n",
    "url_json=requests.get(apiurl).json()\n",
    "organisms_url = url_json['organisms']\n",
    "cas_proteins_url = url_json['casproteins']"
   ]
  },
  {
   "cell_type": "code",
   "execution_count": 4,
   "metadata": {
    "collapsed": true
   },
   "outputs": [],
   "source": [
    "#Iterate through each page and merge the json response into a dictionary for cas proteins\n",
    "cas_protein_dict = {}\n",
    "r=requests.get(cas_proteins_url)\n",
    "last_page = r.json()['meta']['total_pages']\n",
    "for page in range(1,last_page+1):\n",
    "    url = cas_proteins_url+'?page={}'.format(page)\n",
    "    payload = requests.get(url).json()\n",
    "    cas_protein_objs = payload['cas_proteins']\n",
    "    for cas_protein_obj in cas_protein_objs:\n",
    "        cas_protein_dict[cas_protein_obj['id']] = cas_protein_obj"
   ]
  },
  {
   "cell_type": "code",
   "execution_count": 5,
   "metadata": {
    "collapsed": true
   },
   "outputs": [],
   "source": [
    "#Iterate through each page and merge the json response into a dictionary for organisms\n",
    "organism_dict = {}\n",
    "r=requests.get(organisms_url)\n",
    "last_page = r.json()['meta']['total_pages']\n",
    "for page in range(1,last_page+1):\n",
    "    url = organisms_url+'?page={}&include[]=cas_proteins&include[]=loci.spacers'.format(page)\n",
    "    payload = requests.get(url).json()\n",
    "    organism_objs = payload['organisms']\n",
    "    for organism_obj in organism_objs:\n",
    "        organism_dict[organism_obj['id']] = organism_obj"
   ]
  },
  {
   "cell_type": "code",
   "execution_count": 6,
   "metadata": {
    "collapsed": true
   },
   "outputs": [],
   "source": [
    "#Make a set of specific cas proteins by grouping them from gene field\n",
    "cas3_proteins = {k: v for k, v in cas_protein_dict.items() if 'cas3' in v['gene']}\n",
    "cas9_proteins = {k: v for k, v in cas_protein_dict.items() if 'cas9' in v['gene']}\n",
    "cas10_proteins = {k: v for k, v in cas_protein_dict.items() if 'cas10' in v['gene']}"
   ]
  },
  {
   "cell_type": "code",
   "execution_count": 7,
   "metadata": {
    "collapsed": true
   },
   "outputs": [],
   "source": [
    "#Estimate the CRISPR type in organisms by checking the identified cas proteins in each organism\n",
    "#Also find the locus size by checking if all of the loci in an organism consist of a single spacer\n",
    "for k,v in organism_dict.items():\n",
    "    v['CRISPR_type'] = []\n",
    "    v['single_spacer'] = False\n",
    "    if v['cas_proteins']:\n",
    "        org_proteins = set(v['cas_proteins'])\n",
    "        if not org_proteins.isdisjoint(cas3_proteins): #has cas3 proteins\n",
    "            v['CRISPR_type'] += ['Type I']\n",
    "        if not org_proteins.isdisjoint(cas9_proteins): #has cas9 proteins\n",
    "            v['CRISPR_type'] += ['Type II']\n",
    "        if not org_proteins.isdisjoint(cas10_proteins): #has cas10 proteins\n",
    "            v['CRISPR_type'] += ['Type III']\n",
    "    if v['loci']:\n",
    "        if all([len(loc['spacers']) < 2 for loc in v['loci']]):\n",
    "            v['single_spacer'] = True"
   ]
  },
  {
   "cell_type": "code",
   "execution_count": 8,
   "metadata": {
    "collapsed": false
   },
   "outputs": [
    {
     "name": "stdout",
     "output_type": "stream",
     "text": [
      "Active CRISPR system percentage for organisms with single spacer is 97.46%\n",
      "Active CRISPR system percentage for organisms with multiple spacer is 97.32%\n"
     ]
    }
   ],
   "source": [
    "#Calculate the availability of an active CRISPR system for each organism, group by single or multiple spacers.\n",
    "iscrispr_single_spacer = [bool(v['CRISPR_type']) for k,v in organism_dict.items() if v['single_spacer']]\n",
    "iscrispr_multi_spacer = [bool(v['CRISPR_type']) for k,v in organism_dict.items() if not v['single_spacer']]\n",
    "iscrispr_single_spacer_prc = sum(iscrispr_single_spacer)/len(iscrispr_single_spacer)*100\n",
    "iscrispr_multi_spacer_prc = sum(iscrispr_multi_spacer)/len(iscrispr_multi_spacer)*100\n",
    "print(\"Active CRISPR system percentage for organisms with single spacer is {:.2f}%\".format(iscrispr_single_spacer_prc))\n",
    "print(\"Active CRISPR system percentage for organisms with multiple spacer is {:.2f}%\".format(iscrispr_multi_spacer_prc))"
   ]
  },
  {
   "cell_type": "code",
   "execution_count": 17,
   "metadata": {
    "collapsed": false
   },
   "outputs": [
    {
     "data": {
      "text/plain": [
       "'NC_014206'"
      ]
     },
     "execution_count": 17,
     "metadata": {},
     "output_type": "execute_result"
    }
   ],
   "source": [
    "organism_dict[2]['accession']"
   ]
  },
  {
   "cell_type": "code",
   "execution_count": 18,
   "metadata": {
    "collapsed": true
   },
   "outputs": [],
   "source": []
  },
  {
   "cell_type": "markdown",
   "metadata": {},
   "source": [
    "Things to include:\n",
    "- [x] cas proteins\n",
    "- [x] locus length\n",
    "- [ ] self-targeting spacers\n",
    "- [ ] prophages\n",
    "- [ ] active vs inactive from vasu?"
   ]
  },
  {
   "cell_type": "code",
   "execution_count": 20,
   "metadata": {
    "collapsed": true
   },
   "outputs": [],
   "source": [
    "self_spacers_url = url_json['organismselfspacers']"
   ]
  },
  {
   "cell_type": "code",
   "execution_count": 21,
   "metadata": {
    "collapsed": true
   },
   "outputs": [],
   "source": [
    "#Iterate through each page and merge the json response into a dictionary for self-targeting spacers\n",
    "self_spacers_dict = {}\n",
    "r=requests.get(self_spacers_url)\n",
    "last_page = r.json()['meta']['total_pages']\n",
    "for page in range(1,last_page+1):\n",
    "    url = self_spacers_url+'?page={}'.format(page)\n",
    "    payload = requests.get(url).json()\n",
    "    self_spacer_objs = payload['organism_self_spacers']\n",
    "    for self_spacer_obj in self_spacer_objs:\n",
    "        self_spacers_dict[self_spacer_obj['id']] = self_spacer_obj"
   ]
  },
  {
   "cell_type": "code",
   "execution_count": 165,
   "metadata": {
    "collapsed": false
   },
   "outputs": [
    {
     "data": {
      "text/plain": [
       "{'evalue': 6.04178e-14,\n",
       " 'genomic_end': 1364399,\n",
       " 'genomic_start': 1364435,\n",
       " 'id': 35,\n",
       " 'organism': 84,\n",
       " 'spacer': 2442}"
      ]
     },
     "execution_count": 165,
     "metadata": {},
     "output_type": "execute_result"
    }
   ],
   "source": [
    "self_spacers_dict[35]"
   ]
  },
  {
   "cell_type": "code",
   "execution_count": 174,
   "metadata": {
    "collapsed": false
   },
   "outputs": [],
   "source": [
    "# check for which organisms have self-targeting spacers\n",
    "\n",
    "for key, value in self_spacers_dict.items():\n",
    "    if value['evalue'] < 10**-5:\n",
    "        org_id = value['organism']        \n",
    "        try: # if there's already a self-spacer key, add to it\n",
    "            organism_dict[org_id]['self_spacer'][key] = value\n",
    "        except:\n",
    "            organism_dict[org_id]['self_spacer'] = {key:value}\n",
    "        "
   ]
  },
  {
   "cell_type": "code",
   "execution_count": 92,
   "metadata": {
    "collapsed": false
   },
   "outputs": [],
   "source": [
    "# load data on which organisms have active accessions\n",
    "\n",
    "active_accessions = pd.read_table(\"../data/active_accessions.txt\",header = None)\n",
    "active_accessions = np.array(active_accessions).flatten()"
   ]
  },
  {
   "cell_type": "code",
   "execution_count": 191,
   "metadata": {
    "collapsed": false
   },
   "outputs": [
    {
     "name": "stdout",
     "output_type": "stream",
     "text": [
      "2639\n"
     ]
    }
   ],
   "source": [
    "# count self-targeting spacers\n",
    "\n",
    "num_self_targeting = np.zeros((len(organism_dict), 2))\n",
    "\n",
    "i = 0\n",
    "for key, value in organism_dict.items():\n",
    "    try:\n",
    "        spacer_ids = []\n",
    "        for k, v in value['self_spacer'].items():\n",
    "            spacer_ids.append(v['spacer']) \n",
    "        num_unique = len(np.unique(spacer_ids)) # count only number of unique spacers that are self-targeting\n",
    "        num_self_targeting[i,0] += num_unique\n",
    "            \n",
    "        for l in value['loci']:\n",
    "            num_self_targeting[i,1]+=(len(l['spacers']))\n",
    "            \n",
    "    except:\n",
    "        for l in value['loci']:\n",
    "            num_self_targeting[i,1]+=(len(l['spacers']))\n",
    "    i += 1\n",
    "    "
   ]
  },
  {
   "cell_type": "code",
   "execution_count": 189,
   "metadata": {
    "collapsed": false
   },
   "outputs": [
    {
     "name": "stdout",
     "output_type": "stream",
     "text": [
      "1\n",
      "1\n",
      "1\n",
      "3\n",
      "1\n",
      "1\n",
      "2\n",
      "1\n"
     ]
    }
   ],
   "source": [
    "for v in organism_dict[2639]['loci']:\n",
    "    print(len(v['spacers']))"
   ]
  },
  {
   "cell_type": "code",
   "execution_count": null,
   "metadata": {
    "collapsed": true
   },
   "outputs": [],
   "source": []
  },
  {
   "cell_type": "code",
   "execution_count": 185,
   "metadata": {
    "collapsed": false
   },
   "outputs": [],
   "source": [
    "\n",
    "spacer_ids = []\n",
    "for key, value in organism_dict[2639]['self_spacer'].items():\n",
    "    spacer_ids.append(value['spacer'])\n",
    "    #print(value)\n"
   ]
  },
  {
   "cell_type": "code",
   "execution_count": 187,
   "metadata": {
    "collapsed": false
   },
   "outputs": [
    {
     "data": {
      "text/plain": [
       "array([ 21160,  44750,  84249,  84250, 103724, 123851])"
      ]
     },
     "execution_count": 187,
     "metadata": {},
     "output_type": "execute_result"
    }
   ],
   "source": [
    "np.unique(spacer_ids)"
   ]
  },
  {
   "cell_type": "code",
   "execution_count": 184,
   "metadata": {
    "collapsed": false
   },
   "outputs": [
    {
     "data": {
      "text/plain": [
       "dict"
      ]
     },
     "execution_count": 184,
     "metadata": {},
     "output_type": "execute_result"
    }
   ],
   "source": [
    "organism_dict[2639]['self_spacer'].items()"
   ]
  },
  {
   "cell_type": "code",
   "execution_count": 194,
   "metadata": {
    "collapsed": false
   },
   "outputs": [
    {
     "data": {
      "text/plain": [
       "<matplotlib.text.Text at 0x7f47713ea198>"
      ]
     },
     "execution_count": 194,
     "metadata": {},
     "output_type": "execute_result"
    },
    {
     "data": {
      "image/png": "[encoded data removed]",
      "text/plain": [
       "<matplotlib.figure.Figure at 0x7f4772b26e48>"
      ]
     },
     "metadata": {},
     "output_type": "display_data"
    }
   ],
   "source": [
    "# plot: number of self-targeting spacers per organism\n",
    "\n",
    "plt.figure(figsize = (10,4))\n",
    "plt.hist(num_self_targeting[:,0], bins = np.arange(0,90,1))\n",
    "plt.yscale('log')\n",
    "plt.ylim(6*10**-1, 3*10**3)\n",
    "plt.ylabel(\"Number of organisms\")\n",
    "plt.xlabel(\"Number of self-targeting spacers\")"
   ]
  },
  {
   "cell_type": "code",
   "execution_count": 204,
   "metadata": {
    "collapsed": false
   },
   "outputs": [
    {
     "data": {
      "text/plain": [
       "(0.5, 100)"
      ]
     },
     "execution_count": 204,
     "metadata": {},
     "output_type": "execute_result"
    },
    {
     "data": {
      "image/png": "[encoded data removed]",
      "text/plain": [
       "<matplotlib.figure.Figure at 0x7f4772017550>"
      ]
     },
     "metadata": {},
     "output_type": "display_data"
    }
   ],
   "source": [
    "# plot number of self-targeting spacers vs. number of spacers\n",
    "\n",
    "plt.figure()\n",
    "plt.scatter(num_self_targeting[:,1], num_self_targeting[:,0])\n",
    "plt.ylabel(\"Number of unique self-targeting spacers\")\n",
    "plt.xlabel(\"Number of spacers in organism\")\n",
    "plt.xscale('log')\n",
    "plt.yscale('log')\n",
    "plt.xlim(0.5, 800)\n",
    "plt.ylim(0.5, 100)"
   ]
  },
  {
   "cell_type": "code",
   "execution_count": 145,
   "metadata": {
    "collapsed": false
   },
   "outputs": [
    {
     "data": {
      "text/plain": [
       "17"
      ]
     },
     "execution_count": 145,
     "metadata": {},
     "output_type": "execute_result"
    }
   ],
   "source": [
    "len(organism_dict[5]['loci'][0]['spacers'])"
   ]
  },
  {
   "cell_type": "code",
   "execution_count": 147,
   "metadata": {
    "collapsed": false
   },
   "outputs": [
    {
     "data": {
      "text/plain": [
       "35"
      ]
     },
     "execution_count": 147,
     "metadata": {},
     "output_type": "execute_result"
    }
   ],
   "source": [
    "len(organism_dict[5]['self_spacer'])"
   ]
  },
  {
   "cell_type": "code",
   "execution_count": 205,
   "metadata": {
    "collapsed": false
   },
   "outputs": [
    {
     "data": {
      "text/plain": [
       "array([   0.,    0.,    0., ...,  661.,  721.,  811.])"
      ]
     },
     "execution_count": 205,
     "metadata": {},
     "output_type": "execute_result"
    }
   ],
   "source": [
    "np.sort(num_self_targeting[:,1])"
   ]
  },
  {
   "cell_type": "code",
   "execution_count": 153,
   "metadata": {
    "collapsed": false
   },
   "outputs": [
    {
     "data": {
      "text/plain": [
       "3411"
      ]
     },
     "execution_count": 153,
     "metadata": {},
     "output_type": "execute_result"
    }
   ],
   "source": [
    "i"
   ]
  },
  {
   "cell_type": "code",
   "execution_count": null,
   "metadata": {
    "collapsed": true
   },
   "outputs": [],
   "source": [
    "organism_dict"
   ]
  }
 ],
 "metadata": {
  "kernelspec": {
   "display_name": "Python [conda env:django]",
   "language": "python",
   "name": "conda-env-django-py"
  },
  "language_info": {
   "codemirror_mode": {
    "name": "ipython",
    "version": 3
   },
   "file_extension": ".py",
   "mimetype": "text/x-python",
   "name": "python",
   "nbconvert_exporter": "python",
   "pygments_lexer": "ipython3",
   "version": "3.5.2"
  }
 },
 "nbformat": 4,
 "nbformat_minor": 1
}
