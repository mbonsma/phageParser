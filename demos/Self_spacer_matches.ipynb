{
 "cells": [
  {
   "cell_type": "code",
   "execution_count": 100,
   "metadata": {
    "collapsed": true
   },
   "outputs": [],
   "source": [
    "%matplotlib inline"
   ]
  },
  {
   "cell_type": "code",
   "execution_count": null,
   "metadata": {
    "collapsed": true
   },
   "outputs": [],
   "source": []
  },
  {
   "cell_type": "code",
   "execution_count": 341,
   "metadata": {
    "collapsed": true
   },
   "outputs": [],
   "source": [
    "import requests\n",
    "import json\n",
    "import numpy as np\n",
    "import random\n",
    "import matplotlib.pyplot as plt\n",
    "from matplotlib import mlab\n",
    "import seaborn as sns\n",
    "import pandas as pd\n",
    "from scipy import stats\n",
    "from io import StringIO\n",
    "sns.set_palette(\"husl\")"
   ]
  },
  {
   "cell_type": "code",
   "execution_count": 3,
   "metadata": {
    "collapsed": false
   },
   "outputs": [],
   "source": [
    "#Url of the phageParser API\n",
    "apiurl = 'https://phageparser.herokuapp.com'\n",
    "#Get the initial page for listing of accessible objects and get url for organisms and casproteins\n",
    "url_json=requests.get(apiurl).json()\n",
    "organisms_url = url_json['organisms']\n",
    "cas_proteins_url = url_json['casproteins']"
   ]
  },
  {
   "cell_type": "code",
   "execution_count": 4,
   "metadata": {
    "collapsed": true
   },
   "outputs": [],
   "source": [
    "#Iterate through each page and merge the json response into a dictionary for cas proteins\n",
    "cas_protein_dict = {}\n",
    "r=requests.get(cas_proteins_url)\n",
    "last_page = r.json()['meta']['total_pages']\n",
    "for page in range(1,last_page+1):\n",
    "    url = cas_proteins_url+'?page={}'.format(page)\n",
    "    payload = requests.get(url).json()\n",
    "    cas_protein_objs = payload['cas_proteins']\n",
    "    for cas_protein_obj in cas_protein_objs:\n",
    "        cas_protein_dict[cas_protein_obj['id']] = cas_protein_obj"
   ]
  },
  {
   "cell_type": "code",
   "execution_count": 5,
   "metadata": {
    "collapsed": true
   },
   "outputs": [],
   "source": [
    "#Iterate through each page and merge the json response into a dictionary for organisms\n",
    "organism_dict = {}\n",
    "r=requests.get(organisms_url)\n",
    "last_page = r.json()['meta']['total_pages']\n",
    "for page in range(1,last_page+1):\n",
    "    url = organisms_url+'?page={}&include[]=cas_proteins&include[]=loci.spacers'.format(page)\n",
    "    payload = requests.get(url).json()\n",
    "    organism_objs = payload['organisms']\n",
    "    for organism_obj in organism_objs:\n",
    "        organism_dict[organism_obj['id']] = organism_obj"
   ]
  },
  {
   "cell_type": "code",
   "execution_count": 6,
   "metadata": {
    "collapsed": true
   },
   "outputs": [],
   "source": [
    "#Make a set of specific cas proteins by grouping them from gene field\n",
    "cas3_proteins = {k: v for k, v in cas_protein_dict.items() if 'cas3' in v['gene']}\n",
    "cas9_proteins = {k: v for k, v in cas_protein_dict.items() if 'cas9' in v['gene']}\n",
    "cas10_proteins = {k: v for k, v in cas_protein_dict.items() if 'cas10' in v['gene']}"
   ]
  },
  {
   "cell_type": "code",
   "execution_count": 7,
   "metadata": {
    "collapsed": true
   },
   "outputs": [],
   "source": [
    "#Estimate the CRISPR type in organisms by checking the identified cas proteins in each organism\n",
    "#Also find the locus size by checking if all of the loci in an organism consist of a single spacer\n",
    "for k,v in organism_dict.items():\n",
    "    v['CRISPR_type'] = []\n",
    "    v['single_spacer'] = False\n",
    "    if v['cas_proteins']:\n",
    "        org_proteins = set(v['cas_proteins'])\n",
    "        if not org_proteins.isdisjoint(cas3_proteins): #has cas3 proteins\n",
    "            v['CRISPR_type'] += ['Type I']\n",
    "        if not org_proteins.isdisjoint(cas9_proteins): #has cas9 proteins\n",
    "            v['CRISPR_type'] += ['Type II']\n",
    "        if not org_proteins.isdisjoint(cas10_proteins): #has cas10 proteins\n",
    "            v['CRISPR_type'] += ['Type III']\n",
    "    if v['loci']:\n",
    "        if all([len(loc['spacers']) < 2 for loc in v['loci']]):\n",
    "            v['single_spacer'] = True"
   ]
  },
  {
   "cell_type": "code",
   "execution_count": 8,
   "metadata": {
    "collapsed": false
   },
   "outputs": [
    {
     "name": "stdout",
     "output_type": "stream",
     "text": [
      "Active CRISPR system percentage for organisms with single spacer is 97.46%\n",
      "Active CRISPR system percentage for organisms with multiple spacer is 97.32%\n"
     ]
    }
   ],
   "source": [
    "#Calculate the availability of an active CRISPR system for each organism, group by single or multiple spacers.\n",
    "iscrispr_single_spacer = [bool(v['CRISPR_type']) for k,v in organism_dict.items() if v['single_spacer']]\n",
    "iscrispr_multi_spacer = [bool(v['CRISPR_type']) for k,v in organism_dict.items() if not v['single_spacer']]\n",
    "iscrispr_single_spacer_prc = sum(iscrispr_single_spacer)/len(iscrispr_single_spacer)*100\n",
    "iscrispr_multi_spacer_prc = sum(iscrispr_multi_spacer)/len(iscrispr_multi_spacer)*100\n",
    "print(\"Active CRISPR system percentage for organisms with single spacer is {:.2f}%\".format(iscrispr_single_spacer_prc))\n",
    "print(\"Active CRISPR system percentage for organisms with multiple spacer is {:.2f}%\".format(iscrispr_multi_spacer_prc))"
   ]
  },
  {
   "cell_type": "code",
   "execution_count": 18,
   "metadata": {
    "collapsed": true
   },
   "outputs": [],
   "source": []
  },
  {
   "cell_type": "markdown",
   "metadata": {},
   "source": [
    "Things to include:\n",
    "- [x] cas proteins\n",
    "- [x] locus length\n",
    "- [x] self-targeting spacers\n",
    "- [ ] prophages\n",
    "- [ ] active vs inactive from vasu?"
   ]
  },
  {
   "cell_type": "code",
   "execution_count": 20,
   "metadata": {
    "collapsed": true
   },
   "outputs": [],
   "source": [
    "self_spacers_url = url_json['organismselfspacers']"
   ]
  },
  {
   "cell_type": "code",
   "execution_count": 21,
   "metadata": {
    "collapsed": true
   },
   "outputs": [],
   "source": [
    "#Iterate through each page and merge the json response into a dictionary for self-targeting spacers\n",
    "self_spacers_dict = {}\n",
    "r=requests.get(self_spacers_url)\n",
    "last_page = r.json()['meta']['total_pages']\n",
    "for page in range(1,last_page+1):\n",
    "    url = self_spacers_url+'?page={}'.format(page)\n",
    "    payload = requests.get(url).json()\n",
    "    self_spacer_objs = payload['organism_self_spacers']\n",
    "    for self_spacer_obj in self_spacer_objs:\n",
    "        self_spacers_dict[self_spacer_obj['id']] = self_spacer_obj"
   ]
  },
  {
   "cell_type": "code",
   "execution_count": 165,
   "metadata": {
    "collapsed": false
   },
   "outputs": [
    {
     "data": {
      "text/plain": [
       "{'evalue': 6.04178e-14,\n",
       " 'genomic_end': 1364399,\n",
       " 'genomic_start': 1364435,\n",
       " 'id': 35,\n",
       " 'organism': 84,\n",
       " 'spacer': 2442}"
      ]
     },
     "execution_count": 165,
     "metadata": {},
     "output_type": "execute_result"
    }
   ],
   "source": [
    "self_spacers_dict[35]"
   ]
  },
  {
   "cell_type": "code",
   "execution_count": 174,
   "metadata": {
    "collapsed": false
   },
   "outputs": [],
   "source": [
    "# check for which organisms have self-targeting spacers\n",
    "\n",
    "for key, value in self_spacers_dict.items():\n",
    "    if value['evalue'] < 10**-5:\n",
    "        org_id = value['organism']        \n",
    "        try: # if there's already a self-spacer key, add to it\n",
    "            organism_dict[org_id]['self_spacer'][key] = value\n",
    "        except:\n",
    "            organism_dict[org_id]['self_spacer'] = {key:value}\n",
    "        "
   ]
  },
  {
   "cell_type": "code",
   "execution_count": 92,
   "metadata": {
    "collapsed": false
   },
   "outputs": [],
   "source": [
    "# load data on which organisms have active accessions\n",
    "\n",
    "active_accessions = pd.read_table(\"../data/active_accessions.txt\",header = None)\n",
    "active_accessions = np.array(active_accessions).flatten()"
   ]
  },
  {
   "cell_type": "code",
   "execution_count": 271,
   "metadata": {
    "collapsed": false,
    "scrolled": true
   },
   "outputs": [],
   "source": [
    "# count self-targeting spacers\n",
    "\n",
    "num_self_targeting = np.zeros((len(organism_dict), 3), dtype = 'object')\n",
    "\n",
    "i = 0\n",
    "for key, value in organism_dict.items():\n",
    "    num_self_targeting[i,0] = value['accession']\n",
    "    try:\n",
    "        spacer_ids = []\n",
    "        for k, v in value['self_spacer'].items():\n",
    "            spacer_ids.append(v['spacer']) \n",
    "        num_unique = len(np.unique(spacer_ids)) # count only number of unique spacers that are self-targeting\n",
    "        num_self_targeting[i,1] += num_unique\n",
    "            \n",
    "        for l in value['loci']:\n",
    "            num_self_targeting[i,2]+=(len(l['spacers']))\n",
    "            \n",
    "    except:\n",
    "        for l in value['loci']:\n",
    "            num_self_targeting[i,2]+=(len(l['spacers']))\n",
    "            \n",
    "    if num_self_targeting[i,2] == num_self_targeting[i,1] and num_self_targeting[i,1] >0: # if all spacers are self-targeting\n",
    "        num_self_targeting[i,1] = 0\n",
    "        num_self_targeting[i,2] = 0\n",
    "    \n",
    "    i += 1\n",
    "    "
   ]
  },
  {
   "cell_type": "markdown",
   "metadata": {},
   "source": [
    "The problem is that some of the CRISPRdb locus positions are wrong: see https://github.com/phageParser/phageParser/issues/264"
   ]
  },
  {
   "cell_type": "markdown",
   "metadata": {},
   "source": [
    "Note that this is number of spacers per organism, not locus, so this distribution looks a bit different from the other one. The max spacers per organism is pretty high here. "
   ]
  },
  {
   "cell_type": "code",
   "execution_count": 272,
   "metadata": {
    "collapsed": false
   },
   "outputs": [
    {
     "data": {
      "text/plain": [
       "(0.8, 1000)"
      ]
     },
     "execution_count": 272,
     "metadata": {},
     "output_type": "execute_result"
    },
    {
     "data": {
      "image/png": "[encoded data removed]",
      "text/plain": [
       "<matplotlib.figure.Figure at 0x7f4770a507f0>"
      ]
     },
     "metadata": {},
     "output_type": "display_data"
    }
   ],
   "source": [
    "plt.figure(figsize = (8,3))\n",
    "bins = plt.hist(num_self_targeting[:,2],bins = np.arange(0,900,1),edgecolor=\"none\")\n",
    "plt.yscale('log')\n",
    "plt.ylim(0.8, 10**3)"
   ]
  },
  {
   "cell_type": "code",
   "execution_count": 185,
   "metadata": {
    "collapsed": false
   },
   "outputs": [],
   "source": [
    "\n",
    "spacer_ids = []\n",
    "for key, value in organism_dict[2639]['self_spacer'].items():\n",
    "    spacer_ids.append(value['spacer'])\n",
    "    #print(value)\n"
   ]
  },
  {
   "cell_type": "code",
   "execution_count": 187,
   "metadata": {
    "collapsed": false
   },
   "outputs": [
    {
     "data": {
      "text/plain": [
       "array([ 21160,  44750,  84249,  84250, 103724, 123851])"
      ]
     },
     "execution_count": 187,
     "metadata": {},
     "output_type": "execute_result"
    }
   ],
   "source": [
    "np.unique(spacer_ids)"
   ]
  },
  {
   "cell_type": "code",
   "execution_count": 184,
   "metadata": {
    "collapsed": false
   },
   "outputs": [
    {
     "data": {
      "text/plain": [
       "dict"
      ]
     },
     "execution_count": 184,
     "metadata": {},
     "output_type": "execute_result"
    }
   ],
   "source": [
    "organism_dict[2639]['self_spacer'].items()"
   ]
  },
  {
   "cell_type": "code",
   "execution_count": 273,
   "metadata": {
    "collapsed": false
   },
   "outputs": [
    {
     "data": {
      "text/plain": [
       "<matplotlib.text.Text at 0x7f47708a54e0>"
      ]
     },
     "execution_count": 273,
     "metadata": {},
     "output_type": "execute_result"
    },
    {
     "data": {
      "image/png": "[encoded data removed]",
      "text/plain": [
       "<matplotlib.figure.Figure at 0x7f4771c5b438>"
      ]
     },
     "metadata": {},
     "output_type": "display_data"
    }
   ],
   "source": [
    "# plot: number of self-targeting spacers per organism\n",
    "\n",
    "plt.figure(figsize = (10,4))\n",
    "plt.hist(num_self_targeting[:,1], bins = np.arange(0,90,1))\n",
    "plt.yscale('log')\n",
    "plt.ylim(6*10**-1, 3*10**3)\n",
    "plt.ylabel(\"Number of organisms\")\n",
    "plt.xlabel(\"Number of self-targeting spacers\")"
   ]
  },
  {
   "cell_type": "code",
   "execution_count": 349,
   "metadata": {
    "collapsed": false
   },
   "outputs": [
    {
     "data": {
      "text/plain": [
       "44"
      ]
     },
     "execution_count": 349,
     "metadata": {},
     "output_type": "execute_result"
    }
   ],
   "source": [
    "len(set(num_self_targeting[:,0]).intersection(set(active_accessions)))"
   ]
  },
  {
   "cell_type": "code",
   "execution_count": 300,
   "metadata": {
    "collapsed": false
   },
   "outputs": [],
   "source": [
    "active_list = []\n",
    "for row in num_self_targeting:\n",
    "    if row[0] in active_accessions:\n",
    "        active_list.append(row)\n",
    "        \n",
    "active_list = np.array(active_list) # these ones are also in organism dict"
   ]
  },
  {
   "cell_type": "code",
   "execution_count": 338,
   "metadata": {
    "collapsed": false
   },
   "outputs": [
    {
     "name": "stdout",
     "output_type": "stream",
     "text": [
      "Fraction of self-targeting in active list: 0.045454545454545456\n",
      "Fraction of self-targeting in total organism list: 0.2222222222222222\n"
     ]
    }
   ],
   "source": [
    "# calculate how many in the active list came up with self-targeting spacers\n",
    "\n",
    "self_targeting_active = active_list[:,1]\n",
    "self_targeting_active = np.array(self_targeting_active, dtype = 'int64')\n",
    "print(\"Fraction of self-targeting in active list:\", \n",
    "      len(np.nonzero(self_targeting_active)[0])/len(self_targeting_active))\n",
    "\n",
    "# calculate fraction of self-targeting spacers in total\n",
    "\n",
    "print(\"Fraction of self-targeting in total organism list:\", \n",
    "      len(np.nonzero(np.array(num_self_targeting[:,1], dtype = 'int64'))[0])/len(num_self_targeting))"
   ]
  },
  {
   "cell_type": "markdown",
   "metadata": {},
   "source": [
    "This is great! It somewhat works, anyway. It isn't picking up self-targeting spacers in truly active systems. "
   ]
  },
  {
   "cell_type": "code",
   "execution_count": 339,
   "metadata": {
    "collapsed": false
   },
   "outputs": [
    {
     "data": {
      "text/plain": [
       "(0.5, 100)"
      ]
     },
     "execution_count": 339,
     "metadata": {},
     "output_type": "execute_result"
    },
    {
     "data": {
      "image/png": "[encoded data removed]",
      "text/plain": [
       "<matplotlib.figure.Figure at 0x7f476fe9add8>"
      ]
     },
     "metadata": {},
     "output_type": "display_data"
    }
   ],
   "source": [
    "# plot number of self-targeting spacers vs. number of spacers\n",
    "\n",
    "plt.figure()\n",
    "plt.scatter(num_self_targeting[:,2], num_self_targeting[:,1])\n",
    "plt.scatter(np.array(active_list)[:,2], np.array(active_list)[:,1], color = 'r')\n",
    "plt.ylabel(\"Number of unique self-targeting spacers\")\n",
    "plt.xlabel(\"Number of spacers in organism\")\n",
    "plt.xscale('log')\n",
    "plt.yscale('log')\n",
    "plt.xlim(0.5, 900)\n",
    "plt.ylim(0.5, 100)"
   ]
  },
  {
   "cell_type": "code",
   "execution_count": 337,
   "metadata": {
    "collapsed": false,
    "scrolled": true
   },
   "outputs": [
    {
     "data": {
      "text/plain": [
       "3411"
      ]
     },
     "execution_count": 337,
     "metadata": {},
     "output_type": "execute_result"
    }
   ],
   "source": [
    "len(organism_dict)"
   ]
  },
  {
   "cell_type": "markdown",
   "metadata": {},
   "source": [
    "That straight line at $y=x$ is weird, right? Check these organisms. Looks like an error."
   ]
  },
  {
   "cell_type": "markdown",
   "metadata": {},
   "source": [
    "Checking for prophages with phaster"
   ]
  },
  {
   "cell_type": "code",
   "execution_count": 343,
   "metadata": {
    "collapsed": false
   },
   "outputs": [],
   "source": [
    "prophages_dict = {}\n",
    "\n",
    "with open(\"../data/active_accessions.txt\", \"r\") as f:\n",
    "    for line in f:\n",
    "        acc = line.rstrip()\n",
    "        print(acc)\n",
    "        apiurl = \"http://phaster.ca/phaster_api?acc={}\".format(acc) \n",
    "        r=requests.get(apiurl)\n",
    "        d=r.json()['summary']\n",
    "        if d.find('Totally 0') != -1:\n",
    "            prophages = False\n",
    "            num_prophages = 0\n",
    "        else:\n",
    "            prophages = True\n",
    "            # find number of prophages\n",
    "            e='\\n'.join(d.split('\\n')[32:])\n",
    "            data = pd.read_table(StringIO(e),skiprows=[1], delim_whitespace=True)\n",
    "            num_prophages = sum(data['COMPLETENESS(score)'].str.contains('intact'))\n",
    "        prophages_dict[acc] = num_prophages"
   ]
  },
  {
   "cell_type": "code",
   "execution_count": 347,
   "metadata": {
    "collapsed": false
   },
   "outputs": [
    {
     "data": {
      "text/plain": [
       "{'NC_000913': 4,\n",
       " 'NC_002655': 12,\n",
       " 'NC_002695': 13,\n",
       " 'NC_009012': 5,\n",
       " 'NC_009801': 3,\n",
       " 'NC_017304': 0}"
      ]
     },
     "execution_count": 347,
     "metadata": {},
     "output_type": "execute_result"
    }
   ],
   "source": [
    "prophages_dict"
   ]
  },
  {
   "cell_type": "code",
   "execution_count": 348,
   "metadata": {
    "collapsed": false
   },
   "outputs": [
    {
     "data": {
      "text/plain": [
       "{'CRISPR_type': ['Type I', 'Type II'],\n",
       " 'accession': 'NZ_LT632614',\n",
       " 'cas_proteins': [87,\n",
       "  380,\n",
       "  92,\n",
       "  28,\n",
       "  35,\n",
       "  71,\n",
       "  8,\n",
       "  357,\n",
       "  24,\n",
       "  9,\n",
       "  374,\n",
       "  80,\n",
       "  164,\n",
       "  27,\n",
       "  301,\n",
       "  133,\n",
       "  283,\n",
       "  68,\n",
       "  14,\n",
       "  217,\n",
       "  120,\n",
       "  78,\n",
       "  362,\n",
       "  377,\n",
       "  81,\n",
       "  389,\n",
       "  42,\n",
       "  63,\n",
       "  378,\n",
       "  237,\n",
       "  61,\n",
       "  392,\n",
       "  76],\n",
       " 'id': 1,\n",
       " 'loci': [{'genomic_end': 181066,\n",
       "   'genomic_start': 178305,\n",
       "   'id': 6505,\n",
       "   'organism': 1,\n",
       "   'spacers': [{'id': 85748,\n",
       "     'length': 34,\n",
       "     'sequence': 'TTTAATGTTCTTTGTGCAGTCATTGATTCAGGTA'},\n",
       "    {'id': 85755,\n",
       "     'length': 35,\n",
       "     'sequence': 'GTACTGGCCGACCAGACTACGGTACTTCCTGATCC'},\n",
       "    {'id': 13777,\n",
       "     'length': 36,\n",
       "     'sequence': 'CATAATTGGGAATTGGTGTGAAATGCTCACCGTCCG'},\n",
       "    {'id': 85767,\n",
       "     'length': 35,\n",
       "     'sequence': 'TCTAACTAGTTGAGGCGCTCTAGCTTTTATTTCAG'},\n",
       "    {'id': 85774, 'length': 30, 'sequence': 'TGATAATTTAAGAACATATAATAATTCTTT'},\n",
       "    {'id': 85776,\n",
       "     'length': 35,\n",
       "     'sequence': 'TACAATTAAAGTATATGAAGCATTCAAAGATTTCT'},\n",
       "    {'id': 85768,\n",
       "     'length': 35,\n",
       "     'sequence': 'AACAGAAAACATGCACAGAAGAAACTGGAAAGCAG'},\n",
       "    {'id': 94513,\n",
       "     'length': 34,\n",
       "     'sequence': 'CATCAACCGGGTTAGCATTAGCATAAGGCGCATC'},\n",
       "    {'id': 85751,\n",
       "     'length': 35,\n",
       "     'sequence': 'TCTATTAACAGCCCATTAACTGATCGACAAGGACG'},\n",
       "    {'id': 85754,\n",
       "     'length': 34,\n",
       "     'sequence': 'TAAATGAATTTTCAATGATTTTAGCGGCTTCGAT'},\n",
       "    {'id': 85761,\n",
       "     'length': 35,\n",
       "     'sequence': 'TCATAACTCTATTCAAATTGCCAAAGTAAGCAATC'},\n",
       "    {'id': 85743,\n",
       "     'length': 36,\n",
       "     'sequence': 'CTTCATTGCAGGGTACAGTTGAAAATTCCCTTACAG'},\n",
       "    {'id': 94514,\n",
       "     'length': 35,\n",
       "     'sequence': 'AAGAAAATCAATAAATCCAAACAACCAACGAATGT'},\n",
       "    {'id': 85775,\n",
       "     'length': 33,\n",
       "     'sequence': 'ATGAATAAAAATGTCTCTAACATGTCAATTCTC'},\n",
       "    {'id': 85760,\n",
       "     'length': 35,\n",
       "     'sequence': 'TTGTGGTTATGCTTGTTCCTGTACGTGCTGTTACT'},\n",
       "    {'id': 85763,\n",
       "     'length': 35,\n",
       "     'sequence': 'CTCTAGCCCGTCATATTCTTCAACTACCCAATCTA'},\n",
       "    {'id': 85762,\n",
       "     'length': 37,\n",
       "     'sequence': 'TCAGTACAGCAGCTTTAATCTCTGCAATCGCCTTAGA'},\n",
       "    {'id': 85750,\n",
       "     'length': 34,\n",
       "     'sequence': 'ATAATACGGTTTTGTAAGCCGTCTAATTCACGTG'},\n",
       "    {'id': 85770,\n",
       "     'length': 35,\n",
       "     'sequence': 'CTTCCTGAATTAAACTTATTGTGTTAACTTTTTCA'},\n",
       "    {'id': 85744,\n",
       "     'length': 35,\n",
       "     'sequence': 'TTATATTCTCCACGTTCATTATTTGTACAATATGA'},\n",
       "    {'id': 85773,\n",
       "     'length': 33,\n",
       "     'sequence': 'AGAGTGATCACTCTTGAAGATGCTCTTGGTTGG'},\n",
       "    {'id': 85746,\n",
       "     'length': 35,\n",
       "     'sequence': 'AATATAACACCAATGATTCCGGTATAAATCACTAA'},\n",
       "    {'id': 85752,\n",
       "     'length': 33,\n",
       "     'sequence': 'ATTGCAAGCGGGTTTGATCGTGTTATTATAAGA'},\n",
       "    {'id': 85765,\n",
       "     'length': 33,\n",
       "     'sequence': 'CCGGATAAAATCGGCAAGGCTTGTGGGTGACGA'},\n",
       "    {'id': 85764,\n",
       "     'length': 36,\n",
       "     'sequence': 'TTTTGAATGTCTGTTTCAGTGTCGAAACTTAGTAAT'},\n",
       "    {'id': 85747,\n",
       "     'length': 36,\n",
       "     'sequence': 'GTCTCTCCAGAAGAACAGGCCAAGCGAAATGAAGAT'},\n",
       "    {'id': 85756,\n",
       "     'length': 35,\n",
       "     'sequence': 'AAAACTTTCATTTGTTAAATTACGCATTTCATTTA'},\n",
       "    {'id': 85771,\n",
       "     'length': 34,\n",
       "     'sequence': 'TTGCTGATGCTTCTCTAGCTGCTGATTCTTGTAT'},\n",
       "    {'id': 85753,\n",
       "     'length': 34,\n",
       "     'sequence': 'TTTATTTAGTCGTTTAGAAACCATGCGCCTCAAT'},\n",
       "    {'id': 13778,\n",
       "     'length': 38,\n",
       "     'sequence': 'TTAATTGCGCCAGAAACAGCACCATTTATGGTTACAGC'},\n",
       "    {'id': 85749,\n",
       "     'length': 35,\n",
       "     'sequence': 'TTATCGTCTATAACTACTAGACCGTCATCAGTAAC'},\n",
       "    {'id': 85757,\n",
       "     'length': 34,\n",
       "     'sequence': 'ATAGTTAGAAGATTTACTCTAGGAGTTTATTGGC'},\n",
       "    {'id': 85777,\n",
       "     'length': 36,\n",
       "     'sequence': 'ACTTTCACTGTAACAAGAAACGCCGACGGCAGAGGC'},\n",
       "    {'id': 85758,\n",
       "     'length': 35,\n",
       "     'sequence': 'TGTAGCGAAGGCGAGGTTCCATAATGTATAAATTT'},\n",
       "    {'id': 85766,\n",
       "     'length': 35,\n",
       "     'sequence': 'GCATCTTCTGAATTAGCCACGTCTTCAAGACTGTT'},\n",
       "    {'id': 85745,\n",
       "     'length': 35,\n",
       "     'sequence': 'TTCCATTCGGCGGCACGTTCGCTGGTTGGATCAAC'},\n",
       "    {'id': 85759,\n",
       "     'length': 34,\n",
       "     'sequence': 'GTGCATGGTTTGCGCTTTGCAACCCTTCCGCTGA'},\n",
       "    {'id': 85772,\n",
       "     'length': 35,\n",
       "     'sequence': 'CTTTGAAAAGGCTCATACCTTGTTACCCCTTGCAT'}]},\n",
       "  {'genomic_end': 1290693,\n",
       "   'genomic_start': 1290466,\n",
       "   'id': 2700,\n",
       "   'organism': 1,\n",
       "   'spacers': [{'id': 16486, 'length': 18, 'sequence': 'TCTTTGATCTGGATCAAT'},\n",
       "    {'id': 16487, 'length': 24, 'sequence': 'ATTTAATTCTTGATTTAGATCAAT'},\n",
       "    {'id': 16488, 'length': 24, 'sequence': 'ATTTAATGCTTGATTTAGATTGAT'},\n",
       "    {'id': 16485,\n",
       "     'length': 42,\n",
       "     'sequence': 'ATTCACTGGTTTAGAAAATAAACCAAACCGGTATCTATTAAT'}]}],\n",
       " 'name': 'Legionella pneumophila',\n",
       " 'self_spacer': [],\n",
       " 'single_spacer': False}"
      ]
     },
     "execution_count": 348,
     "metadata": {},
     "output_type": "execute_result"
    }
   ],
   "source": [
    "organism_dict[1]"
   ]
  },
  {
   "cell_type": "code",
   "execution_count": null,
   "metadata": {
    "collapsed": true
   },
   "outputs": [],
   "source": []
  }
 ],
 "metadata": {
  "kernelspec": {
   "display_name": "Python [conda env:django]",
   "language": "python",
   "name": "conda-env-django-py"
  },
  "language_info": {
   "codemirror_mode": {
    "name": "ipython",
    "version": 3
   },
   "file_extension": ".py",
   "mimetype": "text/x-python",
   "name": "python",
   "nbconvert_exporter": "python",
   "pygments_lexer": "ipython3",
   "version": "3.5.2"
  }
 },
 "nbformat": 4,
 "nbformat_minor": 1
}
