{
 "cells": [
  {
   "cell_type": "markdown",
   "metadata": {},
   "source": [
    "## Run AnaCoDa on downloaded genomes\n",
    "\n",
    "Implemented in python in order to make the error handling easier"
   ]
  },
  {
   "cell_type": "code",
   "execution_count": 1,
   "metadata": {},
   "outputs": [],
   "source": [
    "from __future__ import division # just to be safe\n",
    "import pandas as pd"
   ]
  },
  {
   "cell_type": "code",
   "execution_count": 2,
   "metadata": {},
   "outputs": [],
   "source": [
    "!ls *expression.csv | cut -d\"-\" -f1 > done_accessions.txt "
   ]
  },
  {
   "cell_type": "code",
   "execution_count": 3,
   "metadata": {},
   "outputs": [],
   "source": [
    "accessions_done = pd.read_csv(\"done_accessions.txt\", names = ['acc'])\n",
    "accessions = pd.read_csv(\"organism_accessions.txt\", names = ['acc'])"
   ]
  },
  {
   "cell_type": "code",
   "execution_count": null,
   "metadata": {},
   "outputs": [
    {
     "name": "stdout",
     "output_type": "stream",
     "text": [
      "trying accession NZ_CP012266\n",
      "completed accession NZ_CP012266\n",
      "trying accession NC_002163\n",
      "completed accession NC_002163\n",
      "trying accession NC_006624\n",
      "completed accession NC_006624\n",
      "trying accession NZ_CP014671\n",
      "completed accession NZ_CP014671\n",
      "trying accession NC_010468\n",
      "completed accession NC_010468\n",
      "trying accession NC_010175\n",
      "completed accession NC_010175\n",
      "trying accession NC_018608\n",
      "completed accession NC_018608\n",
      "trying accession NC_013282\n",
      "completed accession NC_013282\n",
      "trying accession NZ_AP014944\n"
     ]
    }
   ],
   "source": [
    "for accession in accessions['acc'][::-1]: # start from the other end\n",
    "    if accessions_done['acc'].str.contains(accession).any():\n",
    "        continue\n",
    "    try:\n",
    "        print(\"trying accession %s\" %accession)\n",
    "        output = !Rscript run_anacoda.R $accession\n",
    "        print(\"completed accession %s\" %accession)\n",
    "    except:\n",
    "        print(output)\n",
    "        continue"
   ]
  },
  {
   "cell_type": "code",
   "execution_count": null,
   "metadata": {},
   "outputs": [],
   "source": []
  }
 ],
 "metadata": {
  "kernelspec": {
   "display_name": "Python [conda env:phageParser]",
   "language": "python",
   "name": "conda-env-phageParser-py"
  },
  "language_info": {
   "codemirror_mode": {
    "name": "ipython",
    "version": 3
   },
   "file_extension": ".py",
   "mimetype": "text/x-python",
   "name": "python",
   "nbconvert_exporter": "python",
   "pygments_lexer": "ipython3",
   "version": "3.6.8"
  }
 },
 "nbformat": 4,
 "nbformat_minor": 2
}
