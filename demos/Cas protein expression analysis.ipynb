{
 "cells": [
  {
   "cell_type": "markdown",
   "metadata": {},
   "source": [
    "# Cas protein and spacer cassette analysis \n",
    "### Relating expression to spacer cassette size (hopefully)\n",
    "\n",
    "Plan:\n",
    "1. Filter Cas protein results in database to only those that are near a CRISPR casette, and/or filter only high e-value hits or certain protein types. \n",
    "2. Get neighbouring casette lengths (copy code from locus number of spacers analysis)\n",
    "3. Get DNA for *cas* genes and get codons, run through a codon usage analyzer\n",
    "\n",
    "Will need to download genomes as well."
   ]
  },
  {
   "cell_type": "markdown",
   "metadata": {},
   "source": [
    "### To-do\n",
    "- Check git log on school Lenovo, get details of database creation (number of genomes analyzed, CRISPRfinder parameters, etc)\n",
    "- \n",
    "\n",
    "## Methods\n",
    "\n",
    "All bacterial and archaeal genome sequences available in NCBI in the vicinity of July 2017 and January 2018 were processed using [CRISPRfinder](https://crisprcas.i2bc.paris-saclay.fr/CrisprCasFinder/Index), downloaded to run locally. Approximately 6000 genomes were processed. (Note: check the git log and try to find out the exact number of genomes that were processed, parameters for CRISPRfinder, etc). \n",
    "\n",
    "3411 genomes were found to contain one or more CRISPR loci as detected by CRISPRfinder. \n",
    "\n",
    "A list of 393 cas protein HMM profiles was obtained from Makarova et al. (2015). Some of these profiles were publicly available; the others that were custom designed by Makarova et al. were also made available ([ftp://ftp.ncbi.nih.gov/pub/wolf/_suppl/CRISPR2015/](ftp://ftp.ncbi.nih.gov/pub/wolf/_suppl/CRISPR2015/)). We used [hmmer](http://www.hmmer.org/) to detect matches to the *cas* profiles and stored high-scoring matches in a database. \n",
    "\n",
    "Of the detected *cas* proteins, we used any that were within 50 000 base pairs of a CRISPR spacer array for the analysis."
   ]
  },
  {
   "cell_type": "code",
   "execution_count": 3,
   "metadata": {},
   "outputs": [],
   "source": [
    "%matplotlib inline"
   ]
  },
  {
   "cell_type": "code",
   "execution_count": 2,
   "metadata": {},
   "outputs": [],
   "source": [
    "import requests\n",
    "import json\n",
    "import numpy as np\n",
    "import random\n",
    "import matplotlib.pyplot as plt\n",
    "from matplotlib import mlab\n",
    "import seaborn as sns\n",
    "import pandas as pd\n",
    "from scipy import stats\n",
    "from tqdm import tqdm\n",
    "from Bio import SeqIO\n",
    "\n",
    "sns.set_palette(\"husl\")"
   ]
  },
  {
   "cell_type": "code",
   "execution_count": 4,
   "metadata": {},
   "outputs": [],
   "source": [
    "#Url of the phageParser API\n",
    "apiurl = 'https://phageparser.herokuapp.com'\n",
    "#Get the initial page for listing of accessible objects and get url for organisms and casproteins\n",
    "url_json=requests.get(apiurl).json()\n",
    "organisms_url = url_json['organisms']\n",
    "cas_proteins_url = url_json['casproteins']\n",
    "organism_cas_url = url_json['organismcas']\n",
    "loci_url = url_json['loci']"
   ]
  },
  {
   "cell_type": "code",
   "execution_count": 5,
   "metadata": {},
   "outputs": [],
   "source": [
    "#Iterate through each page and merge the json response into a dictionary for cas proteins\n",
    "cas_protein_dict = {}\n",
    "r=requests.get(cas_proteins_url)\n",
    "last_page = r.json()['meta']['total_pages']\n",
    "for page in range(1,last_page+1):\n",
    "    url = cas_proteins_url+'?page={}'.format(page)\n",
    "    payload = requests.get(url).json()\n",
    "    cas_protein_objs = payload['cas_proteins']\n",
    "    for cas_protein_obj in cas_protein_objs:\n",
    "        cas_protein_dict[cas_protein_obj['id']] = cas_protein_obj"
   ]
  },
  {
   "cell_type": "code",
   "execution_count": 6,
   "metadata": {},
   "outputs": [
    {
     "name": "stderr",
     "output_type": "stream",
     "text": [
      "100%|██████████| 7/7 [01:23<00:00, 11.60s/it]\n"
     ]
    }
   ],
   "source": [
    "#Iterate through each page and merge the json response into a dictionary for organisms\n",
    "organism_dict = {}\n",
    "r=requests.get(organisms_url)\n",
    "last_page = r.json()['meta']['total_pages']\n",
    "for page in tqdm(range(1,last_page+1)):\n",
    "    url = organisms_url+'?page={}&include[]=cas_proteins&include[]=loci.spacers'.format(page)\n",
    "    payload = requests.get(url).json()\n",
    "    organism_objs = payload['organisms']\n",
    "    for organism_obj in organism_objs:\n",
    "        organism_dict[organism_obj['id']] = organism_obj"
   ]
  },
  {
   "cell_type": "code",
   "execution_count": 7,
   "metadata": {},
   "outputs": [
    {
     "name": "stderr",
     "output_type": "stream",
     "text": [
      "100%|██████████| 446/446 [07:46<00:00,  1.06it/s]\n"
     ]
    }
   ],
   "source": [
    "# Iterate through each page and merge the json response into a dictionary for organism_cas\n",
    "# this takes a long time\n",
    "organism_cas_dict = {}\n",
    "r = requests.get(organism_cas_url)\n",
    "last_page = r.json()['meta']['total_pages']\n",
    "for page in tqdm(range(1, last_page+1)):\n",
    "    url = organism_cas_url+'?page={}'.format(page)\n",
    "    payload = requests.get(url).json()\n",
    "    organism_cas_objs = payload['organism_cas_proteins']\n",
    "    for organism_cas_obj in organism_cas_objs:\n",
    "        organism_cas_dict[organism_cas_obj['id']] = organism_cas_obj"
   ]
  },
  {
   "cell_type": "code",
   "execution_count": 8,
   "metadata": {},
   "outputs": [
    {
     "name": "stderr",
     "output_type": "stream",
     "text": [
      "100%|██████████| 18/18 [01:20<00:00,  4.32s/it]\n"
     ]
    }
   ],
   "source": [
    "# Iterate through each page and merge the json response into a dictionary for loci\n",
    "loci_dict = {}\n",
    "r = requests.get(loci_url)\n",
    "last_page = r.json()['meta']['total_pages']\n",
    "for page in tqdm(range(1, last_page+1)):\n",
    "    url = loci_url+'?page={}&include[]=spacers'.format(page)\n",
    "    payload = requests.get(url).json()\n",
    "    loci_objs = payload['locus']\n",
    "    for locus_obj in loci_objs:\n",
    "        loci_dict[locus_obj['id']] = locus_obj"
   ]
  },
  {
   "cell_type": "code",
   "execution_count": 9,
   "metadata": {},
   "outputs": [],
   "source": [
    "# create dictionary with the info and positions of all cas proteins in each organism\n",
    "# note: this may be longer than the list of cas proteins in the organism dict, since some proteins may appear twice\n",
    "from collections import defaultdict\n",
    "\n",
    "organism_to_cas_dict = defaultdict(dict)\n",
    "for i, values in organism_cas_dict.items():\n",
    "    organism_to_cas_dict[values['organism']][i] = values"
   ]
  },
  {
   "cell_type": "markdown",
   "metadata": {},
   "source": [
    "### Retain only cas proteins near a cassette"
   ]
  },
  {
   "cell_type": "code",
   "execution_count": 10,
   "metadata": {},
   "outputs": [],
   "source": [
    "distance_from_locus = 50000 # base pairs, look up what would be a good value\n",
    "# a cas9 sequence that I randomly found is like 9000 bp, so 50 000 seems like a reasonable cutoff.\n",
    "# also the cutoff doesn't really matter - the numbers are the same whether the cutoff is 50 000 or 500 000"
   ]
  },
  {
   "cell_type": "code",
   "execution_count": 11,
   "metadata": {},
   "outputs": [],
   "source": [
    "organism_names = []\n",
    "loci = []\n",
    "cas_genes = []\n",
    "organism_names_all = []\n",
    "cas_near_cassette_dict = defaultdict(dict)\n",
    "\n",
    "for organism_id in organism_dict.keys():\n",
    "\n",
    "    # search_window[0] must be less than search_window[1]\n",
    "\n",
    "    search_windows = {}\n",
    "    for locus in organism_dict[organism_id]['loci']:\n",
    "        # check that start is less than end\n",
    "        if not locus['genomic_start'] < locus['genomic_end']:\n",
    "            print('end is less than start')\n",
    "        search_windows[locus['id']] = {'window': [locus['genomic_start'] - 1000, locus['genomic_end'] + 1000]}\n",
    "    \n",
    "    for locus_id, windows in search_windows.items():\n",
    "        for cas_id, values in organism_to_cas_dict[organism_id].items():\n",
    "            #print(values['genomic_start'])\n",
    "            if values['genomic_start'] > windows['window'][0] and values['genomic_end'] < windows['window'][1]:\n",
    "                #print(organism_id, organism_dict[organism_id]['accession'], organism_dict[organism_id]['name'], locus_id)\n",
    "                organism_names.append(\"%s %s\\n\" %(organism_dict[organism_id]['accession'], organism_dict[organism_id]['name']))\n",
    "                loci.append(locus_id)\n",
    "                cas_genes.append(values['casprotein'])\n",
    "                cas_near_cassette_dict[organism_id][cas_id] = values\n",
    "                cas_near_cassette_dict[organism_id][cas_id]['locus'] = locus_id # also add locus id\n",
    "                \n",
    "    organism_names_all.append(\"%s %s\\n\" %(organism_dict[organism_id]['accession'], organism_dict[organism_id]['name']))\n",
    "                "
   ]
  },
  {
   "cell_type": "code",
   "execution_count": 12,
   "metadata": {},
   "outputs": [],
   "source": [
    "# create dictionary linking accession numbers and organism IDs\n",
    "accession_to_organism_id = {}\n",
    "for key, values in organism_dict.items():\n",
    "    accession_to_organism_id[values['accession']] = key"
   ]
  },
  {
   "cell_type": "code",
   "execution_count": 13,
   "metadata": {},
   "outputs": [
    {
     "name": "stdout",
     "output_type": "stream",
     "text": [
      "473\n",
      "590\n",
      "202\n",
      "731\n",
      "394\n"
     ]
    }
   ],
   "source": [
    "print(len(set(organism_names)))\n",
    "print(len(set(loci)))\n",
    "print(len(set(cas_genes)))\n",
    "print(len(cas_genes))\n",
    "print(len(cas_protein_dict))"
   ]
  },
  {
   "cell_type": "code",
   "execution_count": 14,
   "metadata": {},
   "outputs": [],
   "source": [
    "# save list of organisms that have cas proteins near casettes\n",
    "organism_names = list(set(organism_names))\n",
    "\n",
    "with open('organism_names.txt', 'w') as file:\n",
    "    for line in organism_names:\n",
    "        file.write(line)\n",
    "        \n",
    "organism_names_all = list(set(organism_names_all))\n",
    "\n",
    "with open('organism_names_all.txt', 'w') as file:\n",
    "    for line in organism_names_all:\n",
    "        file.write(line)\n",
    "        "
   ]
  },
  {
   "cell_type": "code",
   "execution_count": 15,
   "metadata": {},
   "outputs": [],
   "source": [
    "# create accession list\n",
    "!cat organism_names.txt | cut -d\" \" -f1 > organism_accessions.txt\n",
    "\n",
    "!cat organism_names_all.txt | cut -d\" \" -f1 > organism_accessions_all.txt\n",
    "\n",
    "# download all organism genomes that were found to be hits\n",
    "#!cat organism_accessions.txt | python ../parserscripts/acc2gb.py your@email.com nuccore fasta_cds_na > cas_bacteria.dat"
   ]
  },
  {
   "cell_type": "markdown",
   "metadata": {},
   "source": [
    "Need CDS regions for the AnaCoDa thing, so to download CDS fasta I think use `fasta_cds_na` (nucleotides for cds) or `fasta_cds_aa` (translated amino acids for cds). "
   ]
  },
  {
   "cell_type": "code",
   "execution_count": null,
   "metadata": {},
   "outputs": [],
   "source": [
    "# split fasta file for all organisms into files separated by organism - only run once\n",
    "\n",
    "current_accession = 0\n",
    "past_accession = 0\n",
    "\n",
    "for record in tqdm(SeqIO.parse(\"cas_bacteria.dat\", \"fasta\")):\n",
    "    header = record.id\n",
    "    accession = header.rsplit('|')[1].rsplit('.')[0]\n",
    "    current_accession = accession\n",
    "    if current_accession != past_accession: # start a new file\n",
    "        with open(\"%s.fasta\" %accession, \"w\") as output_handle:\n",
    "            SeqIO.write(record, output_handle, \"fasta\")\n",
    "    else:\n",
    "        with open(\"%s.fasta\" %accession, \"a\") as output_handle:\n",
    "            SeqIO.write(record, output_handle, \"fasta\")\n",
    "    past_accession = current_accession"
   ]
  },
  {
   "cell_type": "code",
   "execution_count": 16,
   "metadata": {},
   "outputs": [],
   "source": [
    "folder = \"/media/madeleine/My\\ Passport/Data/AnaCoDa\"\n",
    "folder_python = \"/media/madeleine/My Passport/Data/AnaCoDa\""
   ]
  },
  {
   "cell_type": "code",
   "execution_count": 17,
   "metadata": {},
   "outputs": [
    {
     "name": "stderr",
     "output_type": "stream",
     "text": [
      "1200252it [00:24, 48254.11it/s]\n"
     ]
    }
   ],
   "source": [
    "# link cas genes to their position in the cds list\n",
    "for record in tqdm(SeqIO.parse(\"cas_bacteria.dat\", \"fasta\")):\n",
    "    header = record.id\n",
    "    accession = header.rsplit('|')[1].rsplit('.')[0]\n",
    "    org_id = accession_to_organism_id[accession]\n",
    "    cds_number = int(header.split('_')[-1])\n",
    "    description = record.description\n",
    "    \n",
    "    for key, value in cas_near_cassette_dict[org_id].items():\n",
    "        try: \n",
    "            start = description.index(str(value['genomic_start'])) # this fails if this isn't the cas gene\n",
    "            end = description.index(str(value['genomic_end']))\n",
    "            cas_near_cassette_dict[org_id][key]['cds_number'] = cds_number\n",
    "            #print(org_id)\n",
    "        except:\n",
    "            pass"
   ]
  },
  {
   "cell_type": "markdown",
   "metadata": {},
   "source": [
    "## Analysis plan\n",
    "\n",
    "1. Get expression model data using the [AnaCoDa R package](https://rdrr.io/cran/AnaCoDa/f/inst/doc/anacoda.Rmd), save file as `accession-expression.csv`\n",
    "2. Load expression data using pandas\n",
    "3. Get cas gene ids: \n",
    "```\n",
    "cas_gene_positions = []\n",
    "for val in cas_near_cassette_dict[accession_to_organism_id['NZ_CP015184']].values():\n",
    "    cas_gene_positions.append(val['cds_number'])\n",
    "```\n",
    "4. The gene ids-1 are the index for the expression data frame (b/c zero indexing) **expression levels**\n",
    "5. Get associated locus size: \n",
    "```\n",
    "associated_loci = []\n",
    "loci_lengths = []\n",
    "for val in cas_near_cassette_dict[accession_to_organism_id['NZ_CP015184']].values():\n",
    "    associated_loci.append(val['locus'])\n",
    "    loci_lengths.append(len(loci_dict[val['locus']]['spacers'])\n",
    "```\n",
    "6. Multiple genes may be associated with the same locus, but now `cas_gene_positions` and `associated_loci` should be the same length to match them up (locus indices may be repeated). **locus lengths**\n",
    "\n",
    "Annddd.... done! Make a sweet plot"
   ]
  },
  {
   "cell_type": "markdown",
   "metadata": {},
   "source": [
    "One issue to think about: some cas genes might be counted twice as being near two loci, if the loci are very close together. Is this an issue?"
   ]
  },
  {
   "cell_type": "markdown",
   "metadata": {},
   "source": [
    "Removed genome NZ_CP009177 from organism accession list - causing errors"
   ]
  },
  {
   "cell_type": "code",
   "execution_count": 18,
   "metadata": {},
   "outputs": [],
   "source": [
    "# get list of which organisms have been analyzed\n",
    "!ls $folder/*expression.csv | cut -d\"-\" -f1 | rev | cut -d\"/\" -f1 | rev > done_accessions.txt "
   ]
  },
  {
   "cell_type": "code",
   "execution_count": 19,
   "metadata": {},
   "outputs": [
    {
     "name": "stdout",
     "output_type": "stream",
     "text": [
      "no cds position 2299 12543\n",
      "no cds position 2268 220471\n",
      "no cds position 2275 147874\n"
     ]
    }
   ],
   "source": [
    "accessions_done = pd.read_csv(\"done_accessions.txt\", names = ['acc'])\n",
    "\n",
    "expression_all_list = []\n",
    "expression_list = []\n",
    "locus_size_list = []\n",
    "for accession in accessions_done.acc:\n",
    "\n",
    "    expression = pd.read_csv(\"%s/%s-expression.csv\" %(folder_python, accession))\n",
    "    #print(np.mean(expression.PHI))\n",
    "    names_split = expression[\"names\"].str.rsplit(\"_\", n=1, expand = True)  # split names column from the right to isolate cds position\n",
    "    expression[\"protein_position\"] = names_split.iloc[:,-1] # create column for cds position\n",
    "    expression[\"protein_position\"] = pd.to_numeric(expression[\"protein_position\"]) # convert to numeric\n",
    "    \n",
    "    expression_all_list.append(expression)\n",
    "    \n",
    "    cas_gene_positions = []\n",
    "    skip_keys = []\n",
    "    for key, val in cas_near_cassette_dict[accession_to_organism_id[accession]].items():\n",
    "        try:\n",
    "            cas_gene_positions.append(val['cds_number'])\n",
    "        except:\n",
    "            print(\"no cds position\", str(accession_to_organism_id[accession]), str(key))\n",
    "            skip_keys.append(key)\n",
    "    \n",
    "    if cas_gene_positions == []: # if it's an empty list\n",
    "        continue\n",
    "        \n",
    "    associated_loci = []\n",
    "    loci_lengths = []\n",
    "    for key, val in cas_near_cassette_dict[accession_to_organism_id[accession]].items():\n",
    "        if key in skip_keys:\n",
    "            continue\n",
    "        associated_loci.append(val['locus'])\n",
    "        loci_lengths.append(len(loci_dict[val['locus']]['spacers']))\n",
    "        \n",
    "    # get expression level for the cas genes in the organism (normalize by mean expression level)\n",
    "    expression_vals = expression.loc[expression[\"protein_position\"].isin(cas_gene_positions)].PHI / np.mean(expression.PHI)\n",
    "    if expression_vals.empty:\n",
    "        print(expression_vals)\n",
    "        expression_vals_empty = expression\n",
    "        cas_gene_positions_empty = cas_gene_positions\n",
    "    \n",
    "    #print(np.array(expression_vals), loci_lengths, associated_loci, accession)\n",
    "    expression_list.append(list(expression_vals))\n",
    "    locus_size_list.append(loci_lengths)\n",
    "    "
   ]
  },
  {
   "cell_type": "code",
   "execution_count": null,
   "metadata": {},
   "outputs": [],
   "source": [
    "# flatten lists\n",
    "\n",
    "expression_list_flat = [item for sublist in expression_list for item in sublist] \n",
    "locus_size_list_flat = [item for sublist in locus_size_list for item in sublist] \n",
    "\n",
    "sort_inds = np.argsort(locus_size_list_flat)\n",
    "locus_size_list_flat = np.array(locus_size_list_flat)[sort_inds]\n",
    "expression_list_flat = np.array(expression_list_flat)[sort_inds]"
   ]
  },
  {
   "cell_type": "markdown",
   "metadata": {},
   "source": [
    "from scipy.optimize import curve_fit\n",
    "\n",
    "def line(x, A, B): # this is your 'straight line' y=f(x)\n",
    "    return A*x + B\n",
    "\n",
    "A,B = curve_fit(line, locus_size_list_flat, expression_list_flat)[0] # your data x, y to fit"
   ]
  },
  {
   "cell_type": "code",
   "execution_count": 23,
   "metadata": {},
   "outputs": [
    {
     "data": {
      "image/png": "[encoded data removed]",
      "text/plain": [
       "<matplotlib.figure.Figure at 0x7fd5fb4c2e80>"
      ]
     },
     "metadata": {},
     "output_type": "display_data"
    }
   ],
   "source": [
    "fig, ax = plt.subplots()\n",
    "#ax.set_xscale('log')\n",
    "ax.scatter(locus_size_list_flat, expression_list_flat, alpha = 0.8)\n",
    "#ax.plot(locus_size_list_flat, np.array(locus_size_list_flat)*A+B)\n",
    "ax.set_xlabel(\"locus size\")\n",
    "ax.set_ylabel(\"protein expression relative to genome mean\")\n",
    "plt.savefig(\"cas_expression_vs_locus_size.png\", dpi = 200)"
   ]
  },
  {
   "cell_type": "code",
   "execution_count": null,
   "metadata": {},
   "outputs": [],
   "source": [
    "A,B = curve_fit(line, expression_list_flat, locus_size_list_flat)[0] # your data x, y to fit"
   ]
  },
  {
   "cell_type": "code",
   "execution_count": null,
   "metadata": {},
   "outputs": [],
   "source": [
    "curve_fit(line, expression_list_flat, locus_size_list_flat)[1]"
   ]
  },
  {
   "cell_type": "code",
   "execution_count": 24,
   "metadata": {},
   "outputs": [
    {
     "data": {
      "image/png": "[encoded data removed]",
      "text/plain": [
       "<matplotlib.figure.Figure at 0x7fd5f6ac97b8>"
      ]
     },
     "metadata": {},
     "output_type": "display_data"
    }
   ],
   "source": [
    "fig, ax = plt.subplots()\n",
    "#ax.set_xscale('log')\n",
    "ax.scatter(expression_list_flat, locus_size_list_flat,  alpha = 0.8)\n",
    "#ax.plot(expression_list_flat, np.array(expression_list_flat)*A+B)\n",
    "ax.set_xlabel(\"locus size\")\n",
    "ax.set_ylabel(\"protein expression relative to genome mean\")\n",
    "plt.savefig(\"locus_size_vs_cas_expression.png\", dpi = 200)"
   ]
  },
  {
   "cell_type": "code",
   "execution_count": 25,
   "metadata": {},
   "outputs": [],
   "source": [
    "from scipy import stats"
   ]
  },
  {
   "cell_type": "code",
   "execution_count": 26,
   "metadata": {},
   "outputs": [
    {
     "data": {
      "text/plain": [
       "SpearmanrResult(correlation=0.1368814038757733, pvalue=0.041592545124135287)"
      ]
     },
     "execution_count": 26,
     "metadata": {},
     "output_type": "execute_result"
    }
   ],
   "source": [
    "stats.spearmanr(expression_list_flat, locus_size_list_flat)"
   ]
  },
  {
   "cell_type": "code",
   "execution_count": 27,
   "metadata": {},
   "outputs": [
    {
     "data": {
      "text/plain": [
       "(0.098025185377315346, 0.14544637783422598)"
      ]
     },
     "execution_count": 27,
     "metadata": {},
     "output_type": "execute_result"
    }
   ],
   "source": [
    "stats.pearsonr(expression_list_flat, locus_size_list_flat)"
   ]
  },
  {
   "cell_type": "markdown",
   "metadata": {},
   "source": [
    "From their paper, \"the units of phi are proteins per time, and time is scaled such that the the prior for phi satisfies E(phi) = 1.\" I don't really know what that means, but it hopefully means that results are comparable across genomes?"
   ]
  },
  {
   "cell_type": "code",
   "execution_count": null,
   "metadata": {},
   "outputs": [],
   "source": [
    "ax.flatten()"
   ]
  },
  {
   "cell_type": "code",
   "execution_count": null,
   "metadata": {},
   "outputs": [],
   "source": [
    "accessions_done.loc[i*10,'acc']"
   ]
  },
  {
   "cell_type": "code",
   "execution_count": null,
   "metadata": {},
   "outputs": [],
   "source": []
  },
  {
   "cell_type": "code",
   "execution_count": null,
   "metadata": {},
   "outputs": [],
   "source": [
    "fig, ax = plt.subplots(2,3, figsize = (12,8))\n",
    "\n",
    "axs = ax.flatten()\n",
    "\n",
    "for i in range(6):\n",
    "    axs[i].hist(expression_all_list[i*10].PHI, bins = 20)\n",
    "\n",
    "    axs[i].set_ylabel(\"Number of genes\")\n",
    "    print(accessions_done.loc[i*10])\n",
    "    axs[i].set_title(accessions_done.loc[i*10,'acc'])\n",
    "axs[4].set_xlabel(\"Expression (proteins / time)\")\n",
    "plt.tight_layout()\n",
    "plt.savefig(\"expression_samples.png\", dpi = 200)"
   ]
  },
  {
   "cell_type": "code",
   "execution_count": null,
   "metadata": {},
   "outputs": [],
   "source": [
    "organism_id = 25\n",
    "\n",
    "search_windows = {}\n",
    "for locus in organism_dict[organism_id]['loci']:\n",
    "    # check that start is less than end\n",
    "    if not locus['genomic_start'] < locus['genomic_end']:\n",
    "        print('end is less than start')\n",
    "    search_windows[locus['id']] = {'window': [locus['genomic_start'] - 1000, locus['genomic_end'] + 1000]}\n",
    "\n"
   ]
  },
  {
   "cell_type": "code",
   "execution_count": null,
   "metadata": {},
   "outputs": [],
   "source": [
    "plot_regions = []\n",
    "for loci in organism_dict[organism_id]['loci']:\n",
    "    #print(loci['genomic_start'], loci['genomic_end'])\n",
    "    plot_regions.append({'position': [loci['genomic_start'], loci['genomic_end']], 'label': 'casette'})\n",
    "    \n",
    "for locus_id, windows in search_windows.items():\n",
    "    for cas_id, values in organism_to_cas_dict[organism_id].items():\n",
    "        #print(values['genomic_start'])\n",
    "        if values['genomic_start'] > windows['window'][0] and values['genomic_end'] < windows['window'][1]:\n",
    "            #print(str(organism_id) + 'yes')\n",
    "            plot_regions.append({'position': [values['genomic_start'], values['genomic_end']], \n",
    "                                 'label': cas_protein_dict[values['casprotein']]['gene']})\n",
    "            print(values)\n",
    "    "
   ]
  },
  {
   "cell_type": "code",
   "execution_count": null,
   "metadata": {},
   "outputs": [],
   "source": []
  },
  {
   "cell_type": "code",
   "execution_count": null,
   "metadata": {},
   "outputs": [],
   "source": [
    "plot_regions"
   ]
  },
  {
   "cell_type": "markdown",
   "metadata": {},
   "source": [
    "In the NCBI database for this organism, the closest CDS regions for the cas genes are:\n",
    "\n",
    "```\n",
    "complement(108876..109115)\n",
    "                     /locus_tag=\"GZL_RS47195\"\n",
    "                     /inference=\"COORDINATES: similar to AA\n",
    "                     sequence:RefSeq:WP_006272258.1\"\n",
    "                     /note=\"Derived by automated computational analysis using\n",
    "                     gene prediction method: Protein Homology.\"\n",
    "                     /codon_start=1\n",
    "                     /transl_table=11\n",
    "                     /product=\"hypothetical protein\"\n",
    "                     /protein_id=\"WP_078876378.1\"\n",
    "                     /translation=\"MVLDPFGGTGTTAAAAKVLGRVGISVDLSPAYTRTAASPSPTPS\n",
    "                     ANGVARPAGEWGSSSPQSSNWSTLWWMARLRLTLS\"\n",
    "```\n",
    "\n",
    "```\n",
    "109222..109647\n",
    "                     /locus_tag=\"GZL_RS43525\"\n",
    "                     /old_locus_tag=\"GZL_p00118\"\n",
    "                     /inference=\"COORDINATES: ab initio prediction:GeneMarkS+\"\n",
    "                     /note=\"Derived by automated computational analysis using\n",
    "                     gene prediction method: GeneMarkS+.\"\n",
    "                     /codon_start=1\n",
    "                     /transl_table=11\n",
    "                     /product=\"hypothetical protein\"\n",
    "                     /protein_id=\"WP_040108171.1\"\n",
    "                     /translation=\"MHRDVTARPWAREREQARAWQAVVAARAEAAAARPEENVDVSVV\n",
    "                     APAPVVLPAPRPSAAATEPELEDADDDQDLVLEDLTREQVLGWRDRAATDHQIVHDHI\n",
    "                     ARYGEHSAQRLFTRAFVATVQRLSHLGHLDLGYTPWRQA\"\n",
    "```\n",
    "\n",
    "So the good news is, the windows that the database outputs correspond to true CDS regions in NCBI, and we can get the translation from NCBI if necessary. Perhaps we should download the genbank files? or will it work to translate them ourselves?"
   ]
  },
  {
   "cell_type": "code",
   "execution_count": null,
   "metadata": {},
   "outputs": [],
   "source": [
    "fig, ax = plt.subplots(figsize = (20,2))\n",
    "\n",
    "# get max range needed\n",
    "min_value = 10**10\n",
    "max_value = 0\n",
    "for region in plot_regions:\n",
    "    if region['position'][0] < min_value:\n",
    "        min_value = region['position'][0]\n",
    "    if region['position'][1] > max_value:\n",
    "        max_value = region['position'][1]\n",
    "     \n",
    "    #if region['label'] == 'casette':\n",
    "    #    colour = 'b'\n",
    "    #else:\n",
    "    #    colour = 'g'\n",
    "    if region['label'] == 'casette':\n",
    "        ax.fill_between([region['position'][0], region['position'][1]],0,1, color = 'b')\n",
    "    else:\n",
    "        ax.fill_between([region['position'][0], region['position'][1]],0,1, label = region['label'])\n",
    "\n",
    "#ax.set_xlim(1893000, 1910000)\n",
    "#ax.set_xlim(748000, 753000)\n",
    "ax.legend(loc='best')\n",
    "    "
   ]
  },
  {
   "cell_type": "code",
   "execution_count": null,
   "metadata": {},
   "outputs": [],
   "source": [
    "# download a bacterial genome\n",
    "\n",
    "accession = organism_dict[organism_id]['accession']\n",
    "print(accession)\n",
    "print(organism_dict[organism_id]['name'])\n",
    "!echo \"$accession\" | python ../parserscripts/acc2gb.py madeleine.bonsma@gmail.com nuccore fasta > \"$accession\".dat"
   ]
  },
  {
   "cell_type": "code",
   "execution_count": null,
   "metadata": {},
   "outputs": [],
   "source": [
    "from Bio import SeqIO\n",
    "for record in SeqIO.parse(\"%s.dat\" %accession, \"fasta\"):\n",
    "    genome = record.seq"
   ]
  },
  {
   "cell_type": "code",
   "execution_count": null,
   "metadata": {},
   "outputs": [],
   "source": [
    "from Bio import Seq\n",
    "print(Seq.transcribe(Seq.reverse_complement(genome[109222:109647])))\n",
    "print(Seq.translate((genome[109222:109647])))"
   ]
  },
  {
   "cell_type": "code",
   "execution_count": null,
   "metadata": {},
   "outputs": [],
   "source": [
    "len(genome[109222:109647])/3"
   ]
  },
  {
   "cell_type": "code",
   "execution_count": null,
   "metadata": {},
   "outputs": [],
   "source": [
    "print(genome[109222:109647])"
   ]
  },
  {
   "cell_type": "markdown",
   "metadata": {},
   "source": [
    "# Another option\n",
    "Makarova et al. (2015) also have a table that lists every singe locus and all the gene positions. Let's just use that in combination with the locus data - that's many more data points! "
   ]
  },
  {
   "cell_type": "markdown",
   "metadata": {},
   "source": [
    "From the 2015 paper: they use 530 bp as the cutoff for distance between CRISPR array and cas genes. "
   ]
  },
  {
   "cell_type": "code",
   "execution_count": 20,
   "metadata": {},
   "outputs": [],
   "source": [
    "makarova_data = pd.read_csv(\"nrmicro3569-s7_cleaned.csv\")"
   ]
  },
  {
   "cell_type": "code",
   "execution_count": 21,
   "metadata": {},
   "outputs": [
    {
     "data": {
      "text/html": [
       "<div>\n",
       "<style>\n",
       "    .dataframe thead tr:only-child th {\n",
       "        text-align: right;\n",
       "    }\n",
       "\n",
       "    .dataframe thead th {\n",
       "        text-align: left;\n",
       "    }\n",
       "\n",
       "    .dataframe tbody tr th {\n",
       "        vertical-align: top;\n",
       "    }\n",
       "</style>\n",
       "<table border=\"1\" class=\"dataframe\">\n",
       "  <thead>\n",
       "    <tr style=\"text-align: right;\">\n",
       "      <th></th>\n",
       "      <th>#Locus ID / GI</th>\n",
       "      <th>(sub)Type / Coordinates</th>\n",
       "      <th>Strand</th>\n",
       "      <th>Genome</th>\n",
       "      <th>Genome partition ID</th>\n",
       "      <th>Gene number on the genome partition</th>\n",
       "      <th>Cas profile ID (CDD ID for non-cas proteins)</th>\n",
       "      <th>Cas core</th>\n",
       "      <th>Cas gene</th>\n",
       "    </tr>\n",
       "  </thead>\n",
       "  <tbody>\n",
       "    <tr>\n",
       "      <th>0</th>\n",
       "      <td># 384117643</td>\n",
       "      <td>CAS-I-E</td>\n",
       "      <td>NaN</td>\n",
       "      <td>Acetobacter_pasteurianus_IFO_3283_01_42C_uid15...</td>\n",
       "      <td>NC_017104</td>\n",
       "      <td>NaN</td>\n",
       "      <td>NaN</td>\n",
       "      <td>NaN</td>\n",
       "      <td>NaN</td>\n",
       "    </tr>\n",
       "    <tr>\n",
       "      <th>1</th>\n",
       "      <td>384117643</td>\n",
       "      <td>114611..117325</td>\n",
       "      <td>+</td>\n",
       "      <td>Acetobacter_pasteurianus_IFO_3283_01_42C_uid15...</td>\n",
       "      <td>NC_017104</td>\n",
       "      <td>103.0</td>\n",
       "      <td>COG1203</td>\n",
       "      <td>+</td>\n",
       "      <td>cas3</td>\n",
       "    </tr>\n",
       "    <tr>\n",
       "      <th>2</th>\n",
       "      <td>384117644</td>\n",
       "      <td>117387..119042</td>\n",
       "      <td>+</td>\n",
       "      <td>Acetobacter_pasteurianus_IFO_3283_01_42C_uid15...</td>\n",
       "      <td>NC_017104</td>\n",
       "      <td>104.0</td>\n",
       "      <td>cd09729</td>\n",
       "      <td>+</td>\n",
       "      <td>cas8e</td>\n",
       "    </tr>\n",
       "    <tr>\n",
       "      <th>3</th>\n",
       "      <td>384117645</td>\n",
       "      <td>119042..119602</td>\n",
       "      <td>+</td>\n",
       "      <td>Acetobacter_pasteurianus_IFO_3283_01_42C_uid15...</td>\n",
       "      <td>NC_017104</td>\n",
       "      <td>105.0</td>\n",
       "      <td>cd09731</td>\n",
       "      <td>+</td>\n",
       "      <td>cse2gr11</td>\n",
       "    </tr>\n",
       "    <tr>\n",
       "      <th>4</th>\n",
       "      <td>384117646</td>\n",
       "      <td>119623..120681</td>\n",
       "      <td>+</td>\n",
       "      <td>Acetobacter_pasteurianus_IFO_3283_01_42C_uid15...</td>\n",
       "      <td>NC_017104</td>\n",
       "      <td>106.0</td>\n",
       "      <td>pfam09344</td>\n",
       "      <td>+</td>\n",
       "      <td>cas7</td>\n",
       "    </tr>\n",
       "  </tbody>\n",
       "</table>\n",
       "</div>"
      ],
      "text/plain": [
       "  #Locus ID / GI (sub)Type / Coordinates Strand  \\\n",
       "0    # 384117643                 CAS-I-E    NaN   \n",
       "1      384117643          114611..117325      +   \n",
       "2      384117644          117387..119042      +   \n",
       "3      384117645          119042..119602      +   \n",
       "4      384117646          119623..120681      +   \n",
       "\n",
       "                                              Genome Genome partition ID  \\\n",
       "0  Acetobacter_pasteurianus_IFO_3283_01_42C_uid15...           NC_017104   \n",
       "1  Acetobacter_pasteurianus_IFO_3283_01_42C_uid15...           NC_017104   \n",
       "2  Acetobacter_pasteurianus_IFO_3283_01_42C_uid15...           NC_017104   \n",
       "3  Acetobacter_pasteurianus_IFO_3283_01_42C_uid15...           NC_017104   \n",
       "4  Acetobacter_pasteurianus_IFO_3283_01_42C_uid15...           NC_017104   \n",
       "\n",
       "   Gene number on the genome partition  \\\n",
       "0                                  NaN   \n",
       "1                                103.0   \n",
       "2                                104.0   \n",
       "3                                105.0   \n",
       "4                                106.0   \n",
       "\n",
       "  Cas profile ID (CDD ID for non-cas proteins) Cas core  Cas gene  \n",
       "0                                          NaN      NaN       NaN  \n",
       "1                                      COG1203        +      cas3  \n",
       "2                                      cd09729        +     cas8e  \n",
       "3                                      cd09731        +  cse2gr11  \n",
       "4                                    pfam09344        +      cas7  "
      ]
     },
     "execution_count": 21,
     "metadata": {},
     "output_type": "execute_result"
    }
   ],
   "source": [
    "makarova_data.head()"
   ]
  },
  {
   "cell_type": "code",
   "execution_count": 22,
   "metadata": {},
   "outputs": [
    {
     "data": {
      "text/plain": [
       "Index(['#Locus ID / GI', '(sub)Type / Coordinates', 'Strand', 'Genome',\n",
       "       'Genome partition ID', 'Gene number on the genome partition',\n",
       "       'Cas profile ID (CDD ID for non-cas proteins)', 'Cas core', 'Cas gene'],\n",
       "      dtype='object')"
      ]
     },
     "execution_count": 22,
     "metadata": {},
     "output_type": "execute_result"
    }
   ],
   "source": [
    "makarova_data.columns"
   ]
  },
  {
   "cell_type": "markdown",
   "metadata": {},
   "source": [
    "The locus type and titles are mixed in with columns - will be tricky to sort it out. Each new locus has a hash symbol in the '#Locus ID / GI' column."
   ]
  },
  {
   "cell_type": "code",
   "execution_count": 23,
   "metadata": {},
   "outputs": [
    {
     "data": {
      "text/html": [
       "<div>\n",
       "<style>\n",
       "    .dataframe thead tr:only-child th {\n",
       "        text-align: right;\n",
       "    }\n",
       "\n",
       "    .dataframe thead th {\n",
       "        text-align: left;\n",
       "    }\n",
       "\n",
       "    .dataframe tbody tr th {\n",
       "        vertical-align: top;\n",
       "    }\n",
       "</style>\n",
       "<table border=\"1\" class=\"dataframe\">\n",
       "  <thead>\n",
       "    <tr style=\"text-align: right;\">\n",
       "      <th></th>\n",
       "      <th>#Locus ID / GI</th>\n",
       "      <th>(sub)Type / Coordinates</th>\n",
       "    </tr>\n",
       "  </thead>\n",
       "  <tbody>\n",
       "    <tr>\n",
       "      <th>0</th>\n",
       "      <td># 384117643</td>\n",
       "      <td>CAS-I-E</td>\n",
       "    </tr>\n",
       "    <tr>\n",
       "      <th>1</th>\n",
       "      <td>384117643</td>\n",
       "      <td>114611..117325</td>\n",
       "    </tr>\n",
       "    <tr>\n",
       "      <th>2</th>\n",
       "      <td>384117644</td>\n",
       "      <td>117387..119042</td>\n",
       "    </tr>\n",
       "    <tr>\n",
       "      <th>3</th>\n",
       "      <td>384117645</td>\n",
       "      <td>119042..119602</td>\n",
       "    </tr>\n",
       "    <tr>\n",
       "      <th>4</th>\n",
       "      <td>384117646</td>\n",
       "      <td>119623..120681</td>\n",
       "    </tr>\n",
       "  </tbody>\n",
       "</table>\n",
       "</div>"
      ],
      "text/plain": [
       "  #Locus ID / GI (sub)Type / Coordinates\n",
       "0    # 384117643                 CAS-I-E\n",
       "1      384117643          114611..117325\n",
       "2      384117644          117387..119042\n",
       "3      384117645          119042..119602\n",
       "4      384117646          119623..120681"
      ]
     },
     "execution_count": 23,
     "metadata": {},
     "output_type": "execute_result"
    }
   ],
   "source": [
    "makarova_data[[\"#Locus ID / GI\", '(sub)Type / Coordinates']].head()"
   ]
  },
  {
   "cell_type": "code",
   "execution_count": 24,
   "metadata": {},
   "outputs": [],
   "source": [
    "# get 'True' wherever a locus starts, get the index of all True\n",
    "repeats1 = np.arange(len(makarova_data))[makarova_data[\"#Locus ID / GI\"].str.contains('#')] \n",
    "\n",
    "# add the length of the data to count the last locus\n",
    "repeats1 = np.append(repeats1, len(makarova_data)) "
   ]
  },
  {
   "cell_type": "code",
   "execution_count": 25,
   "metadata": {},
   "outputs": [],
   "source": [
    "# array giving the length of each locus (# of times label should be repeated)\n",
    "repeats = repeats1[1:] - repeats1[:-1]\n",
    "locus_id = np.arange(len(repeats)) # give a unique ID to each locus"
   ]
  },
  {
   "cell_type": "code",
   "execution_count": 26,
   "metadata": {},
   "outputs": [],
   "source": [
    "locus_id_column = np.repeat(locus_id, repeats)\n",
    "crispr_types = makarova_data.loc[makarova_data[\"#Locus ID / GI\"].str.contains('#'), \"(sub)Type / Coordinates\"]\n",
    "type_column = np.array(np.repeat(crispr_types, repeats))"
   ]
  },
  {
   "cell_type": "code",
   "execution_count": 27,
   "metadata": {},
   "outputs": [],
   "source": [
    "# assign new columns\n",
    "makarova_data[\"locus_id\"] = locus_id_column\n",
    "makarova_data[\"CRISPR_type\"] = type_column"
   ]
  },
  {
   "cell_type": "code",
   "execution_count": 28,
   "metadata": {},
   "outputs": [
    {
     "data": {
      "text/html": [
       "<div>\n",
       "<style>\n",
       "    .dataframe thead tr:only-child th {\n",
       "        text-align: right;\n",
       "    }\n",
       "\n",
       "    .dataframe thead th {\n",
       "        text-align: left;\n",
       "    }\n",
       "\n",
       "    .dataframe tbody tr th {\n",
       "        vertical-align: top;\n",
       "    }\n",
       "</style>\n",
       "<table border=\"1\" class=\"dataframe\">\n",
       "  <thead>\n",
       "    <tr style=\"text-align: right;\">\n",
       "      <th></th>\n",
       "      <th>#Locus ID / GI</th>\n",
       "      <th>(sub)Type / Coordinates</th>\n",
       "      <th>Strand</th>\n",
       "      <th>Genome</th>\n",
       "      <th>Genome partition ID</th>\n",
       "      <th>Gene number on the genome partition</th>\n",
       "      <th>Cas profile ID (CDD ID for non-cas proteins)</th>\n",
       "      <th>Cas core</th>\n",
       "      <th>Cas gene</th>\n",
       "      <th>locus_id</th>\n",
       "      <th>CRISPR_type</th>\n",
       "    </tr>\n",
       "  </thead>\n",
       "  <tbody>\n",
       "    <tr>\n",
       "      <th>17283</th>\n",
       "      <td>345004205</td>\n",
       "      <td>199240..200190</td>\n",
       "      <td>-</td>\n",
       "      <td>halophilic_archaeon_DL31_uid72619</td>\n",
       "      <td>NC_015954</td>\n",
       "      <td>195.0</td>\n",
       "      <td>cd09709</td>\n",
       "      <td>+</td>\n",
       "      <td>csc2gr7</td>\n",
       "      <td>1946</td>\n",
       "      <td>CAS-I-D</td>\n",
       "    </tr>\n",
       "    <tr>\n",
       "      <th>17284</th>\n",
       "      <td>345004206</td>\n",
       "      <td>200187..202673</td>\n",
       "      <td>-</td>\n",
       "      <td>halophilic_archaeon_DL31_uid72619</td>\n",
       "      <td>NC_015954</td>\n",
       "      <td>196.0</td>\n",
       "      <td>cd09712</td>\n",
       "      <td>+</td>\n",
       "      <td>cas10d</td>\n",
       "      <td>1946</td>\n",
       "      <td>CAS-I-D</td>\n",
       "    </tr>\n",
       "    <tr>\n",
       "      <th>17285</th>\n",
       "      <td>345004207</td>\n",
       "      <td>202670..203539</td>\n",
       "      <td>-</td>\n",
       "      <td>halophilic_archaeon_DL31_uid72619</td>\n",
       "      <td>NC_015954</td>\n",
       "      <td>197.0</td>\n",
       "      <td>pfam10040</td>\n",
       "      <td>+</td>\n",
       "      <td>cas6</td>\n",
       "      <td>1946</td>\n",
       "      <td>CAS-I-D</td>\n",
       "    </tr>\n",
       "    <tr>\n",
       "      <th>17286</th>\n",
       "      <td>345004208</td>\n",
       "      <td>203689..204333</td>\n",
       "      <td>+</td>\n",
       "      <td>halophilic_archaeon_DL31_uid72619</td>\n",
       "      <td>NC_015954</td>\n",
       "      <td>198.0</td>\n",
       "      <td>cls001593</td>\n",
       "      <td>NaN</td>\n",
       "      <td>casR</td>\n",
       "      <td>1946</td>\n",
       "      <td>CAS-I-D</td>\n",
       "    </tr>\n",
       "    <tr>\n",
       "      <th>17287</th>\n",
       "      <td># 189485058</td>\n",
       "      <td>CAS-II-C</td>\n",
       "      <td>NaN</td>\n",
       "      <td>uncultured_Termite_group_1_bacterium_phylotype...</td>\n",
       "      <td>NC_020419</td>\n",
       "      <td>NaN</td>\n",
       "      <td>NaN</td>\n",
       "      <td>NaN</td>\n",
       "      <td>NaN</td>\n",
       "      <td>1947</td>\n",
       "      <td>CAS-II-C</td>\n",
       "    </tr>\n",
       "    <tr>\n",
       "      <th>17288</th>\n",
       "      <td>189485058</td>\n",
       "      <td>101786..102286</td>\n",
       "      <td>+</td>\n",
       "      <td>uncultured_Termite_group_1_bacterium_phylotype...</td>\n",
       "      <td>NC_020419</td>\n",
       "      <td>55.0</td>\n",
       "      <td>cd09643</td>\n",
       "      <td>+</td>\n",
       "      <td>cas9</td>\n",
       "      <td>1947</td>\n",
       "      <td>CAS-II-C</td>\n",
       "    </tr>\n",
       "    <tr>\n",
       "      <th>17289</th>\n",
       "      <td>189485059</td>\n",
       "      <td>102302..105400</td>\n",
       "      <td>+</td>\n",
       "      <td>uncultured_Termite_group_1_bacterium_phylotype...</td>\n",
       "      <td>NC_020419</td>\n",
       "      <td>56.0</td>\n",
       "      <td>cd09643</td>\n",
       "      <td>+</td>\n",
       "      <td>cas9</td>\n",
       "      <td>1947</td>\n",
       "      <td>CAS-II-C</td>\n",
       "    </tr>\n",
       "    <tr>\n",
       "      <th>17290</th>\n",
       "      <td>189485060</td>\n",
       "      <td>105401..106312</td>\n",
       "      <td>+</td>\n",
       "      <td>uncultured_Termite_group_1_bacterium_phylotype...</td>\n",
       "      <td>NC_020419</td>\n",
       "      <td>57.0</td>\n",
       "      <td>cd09720</td>\n",
       "      <td>+</td>\n",
       "      <td>cas1</td>\n",
       "      <td>1947</td>\n",
       "      <td>CAS-II-C</td>\n",
       "    </tr>\n",
       "    <tr>\n",
       "      <th>17291</th>\n",
       "      <td>189485061</td>\n",
       "      <td>106296..106622</td>\n",
       "      <td>+</td>\n",
       "      <td>uncultured_Termite_group_1_bacterium_phylotype...</td>\n",
       "      <td>NC_020419</td>\n",
       "      <td>58.0</td>\n",
       "      <td>mkCas0206</td>\n",
       "      <td>+</td>\n",
       "      <td>cas2</td>\n",
       "      <td>1947</td>\n",
       "      <td>CAS-II-C</td>\n",
       "    </tr>\n",
       "    <tr>\n",
       "      <th>17292</th>\n",
       "      <td># 189485218</td>\n",
       "      <td>CAS-I-C;CAS-II-C</td>\n",
       "      <td>NaN</td>\n",
       "      <td>uncultured_Termite_group_1_bacterium_phylotype...</td>\n",
       "      <td>NC_020419</td>\n",
       "      <td>NaN</td>\n",
       "      <td>NaN</td>\n",
       "      <td>NaN</td>\n",
       "      <td>NaN</td>\n",
       "      <td>1948</td>\n",
       "      <td>CAS-I-C;CAS-II-C</td>\n",
       "    </tr>\n",
       "    <tr>\n",
       "      <th>17293</th>\n",
       "      <td>189485218</td>\n",
       "      <td>323150..325594</td>\n",
       "      <td>+</td>\n",
       "      <td>uncultured_Termite_group_1_bacterium_phylotype...</td>\n",
       "      <td>NC_020419</td>\n",
       "      <td>215.0</td>\n",
       "      <td>COG1203</td>\n",
       "      <td>+</td>\n",
       "      <td>cas3</td>\n",
       "      <td>1948</td>\n",
       "      <td>CAS-I-C;CAS-II-C</td>\n",
       "    </tr>\n",
       "    <tr>\n",
       "      <th>17294</th>\n",
       "      <td>189485219</td>\n",
       "      <td>325587..326330</td>\n",
       "      <td>+</td>\n",
       "      <td>uncultured_Termite_group_1_bacterium_phylotype...</td>\n",
       "      <td>NC_020419</td>\n",
       "      <td>216.0</td>\n",
       "      <td>cd09752</td>\n",
       "      <td>+</td>\n",
       "      <td>cas5</td>\n",
       "      <td>1948</td>\n",
       "      <td>CAS-I-C;CAS-II-C</td>\n",
       "    </tr>\n",
       "    <tr>\n",
       "      <th>17295</th>\n",
       "      <td>189485220</td>\n",
       "      <td>326330..328327</td>\n",
       "      <td>+</td>\n",
       "      <td>uncultured_Termite_group_1_bacterium_phylotype...</td>\n",
       "      <td>NC_020419</td>\n",
       "      <td>217.0</td>\n",
       "      <td>cd09757</td>\n",
       "      <td>+</td>\n",
       "      <td>cas8c</td>\n",
       "      <td>1948</td>\n",
       "      <td>CAS-I-C;CAS-II-C</td>\n",
       "    </tr>\n",
       "    <tr>\n",
       "      <th>17296</th>\n",
       "      <td>189485221</td>\n",
       "      <td>328311..329162</td>\n",
       "      <td>+</td>\n",
       "      <td>uncultured_Termite_group_1_bacterium_phylotype...</td>\n",
       "      <td>NC_020419</td>\n",
       "      <td>218.0</td>\n",
       "      <td>cd09689</td>\n",
       "      <td>+</td>\n",
       "      <td>cas7</td>\n",
       "      <td>1948</td>\n",
       "      <td>CAS-I-C;CAS-II-C</td>\n",
       "    </tr>\n",
       "    <tr>\n",
       "      <th>17297</th>\n",
       "      <td>189485222</td>\n",
       "      <td>329166..329804</td>\n",
       "      <td>+</td>\n",
       "      <td>uncultured_Termite_group_1_bacterium_phylotype...</td>\n",
       "      <td>NC_020419</td>\n",
       "      <td>219.0</td>\n",
       "      <td>cd09637</td>\n",
       "      <td>NaN</td>\n",
       "      <td>cas4</td>\n",
       "      <td>1948</td>\n",
       "      <td>CAS-I-C;CAS-II-C</td>\n",
       "    </tr>\n",
       "    <tr>\n",
       "      <th>17298</th>\n",
       "      <td>189485223</td>\n",
       "      <td>329788..330822</td>\n",
       "      <td>+</td>\n",
       "      <td>uncultured_Termite_group_1_bacterium_phylotype...</td>\n",
       "      <td>NC_020419</td>\n",
       "      <td>220.0</td>\n",
       "      <td>cd09721</td>\n",
       "      <td>+</td>\n",
       "      <td>cas1</td>\n",
       "      <td>1948</td>\n",
       "      <td>CAS-I-C;CAS-II-C</td>\n",
       "    </tr>\n",
       "    <tr>\n",
       "      <th>17299</th>\n",
       "      <td>189485224</td>\n",
       "      <td>330832..331122</td>\n",
       "      <td>+</td>\n",
       "      <td>uncultured_Termite_group_1_bacterium_phylotype...</td>\n",
       "      <td>NC_020419</td>\n",
       "      <td>221.0</td>\n",
       "      <td>cd09725</td>\n",
       "      <td>+</td>\n",
       "      <td>cas2</td>\n",
       "      <td>1948</td>\n",
       "      <td>CAS-I-C;CAS-II-C</td>\n",
       "    </tr>\n",
       "    <tr>\n",
       "      <th>17300</th>\n",
       "      <td>189485225</td>\n",
       "      <td>339128..342226</td>\n",
       "      <td>+</td>\n",
       "      <td>uncultured_Termite_group_1_bacterium_phylotype...</td>\n",
       "      <td>NC_020419</td>\n",
       "      <td>222.0</td>\n",
       "      <td>COG3513</td>\n",
       "      <td>+</td>\n",
       "      <td>cas9</td>\n",
       "      <td>1948</td>\n",
       "      <td>CAS-I-C;CAS-II-C</td>\n",
       "    </tr>\n",
       "    <tr>\n",
       "      <th>17301</th>\n",
       "      <td>189485226</td>\n",
       "      <td>342223..343119</td>\n",
       "      <td>+</td>\n",
       "      <td>uncultured_Termite_group_1_bacterium_phylotype...</td>\n",
       "      <td>NC_020419</td>\n",
       "      <td>223.0</td>\n",
       "      <td>cd09720</td>\n",
       "      <td>+</td>\n",
       "      <td>cas1</td>\n",
       "      <td>1948</td>\n",
       "      <td>CAS-I-C;CAS-II-C</td>\n",
       "    </tr>\n",
       "    <tr>\n",
       "      <th>17302</th>\n",
       "      <td>189485227</td>\n",
       "      <td>343116..343445</td>\n",
       "      <td>+</td>\n",
       "      <td>uncultured_Termite_group_1_bacterium_phylotype...</td>\n",
       "      <td>NC_020419</td>\n",
       "      <td>224.0</td>\n",
       "      <td>COG3512</td>\n",
       "      <td>+</td>\n",
       "      <td>cas2</td>\n",
       "      <td>1948</td>\n",
       "      <td>CAS-I-C;CAS-II-C</td>\n",
       "    </tr>\n",
       "  </tbody>\n",
       "</table>\n",
       "</div>"
      ],
      "text/plain": [
       "      #Locus ID / GI (sub)Type / Coordinates Strand  \\\n",
       "17283      345004205          199240..200190      -   \n",
       "17284      345004206          200187..202673      -   \n",
       "17285      345004207          202670..203539      -   \n",
       "17286      345004208          203689..204333      +   \n",
       "17287    # 189485058                CAS-II-C    NaN   \n",
       "17288      189485058          101786..102286      +   \n",
       "17289      189485059          102302..105400      +   \n",
       "17290      189485060          105401..106312      +   \n",
       "17291      189485061          106296..106622      +   \n",
       "17292    # 189485218        CAS-I-C;CAS-II-C    NaN   \n",
       "17293      189485218          323150..325594      +   \n",
       "17294      189485219          325587..326330      +   \n",
       "17295      189485220          326330..328327      +   \n",
       "17296      189485221          328311..329162      +   \n",
       "17297      189485222          329166..329804      +   \n",
       "17298      189485223          329788..330822      +   \n",
       "17299      189485224          330832..331122      +   \n",
       "17300      189485225          339128..342226      +   \n",
       "17301      189485226          342223..343119      +   \n",
       "17302      189485227          343116..343445      +   \n",
       "\n",
       "                                                  Genome Genome partition ID  \\\n",
       "17283                  halophilic_archaeon_DL31_uid72619           NC_015954   \n",
       "17284                  halophilic_archaeon_DL31_uid72619           NC_015954   \n",
       "17285                  halophilic_archaeon_DL31_uid72619           NC_015954   \n",
       "17286                  halophilic_archaeon_DL31_uid72619           NC_015954   \n",
       "17287  uncultured_Termite_group_1_bacterium_phylotype...           NC_020419   \n",
       "17288  uncultured_Termite_group_1_bacterium_phylotype...           NC_020419   \n",
       "17289  uncultured_Termite_group_1_bacterium_phylotype...           NC_020419   \n",
       "17290  uncultured_Termite_group_1_bacterium_phylotype...           NC_020419   \n",
       "17291  uncultured_Termite_group_1_bacterium_phylotype...           NC_020419   \n",
       "17292  uncultured_Termite_group_1_bacterium_phylotype...           NC_020419   \n",
       "17293  uncultured_Termite_group_1_bacterium_phylotype...           NC_020419   \n",
       "17294  uncultured_Termite_group_1_bacterium_phylotype...           NC_020419   \n",
       "17295  uncultured_Termite_group_1_bacterium_phylotype...           NC_020419   \n",
       "17296  uncultured_Termite_group_1_bacterium_phylotype...           NC_020419   \n",
       "17297  uncultured_Termite_group_1_bacterium_phylotype...           NC_020419   \n",
       "17298  uncultured_Termite_group_1_bacterium_phylotype...           NC_020419   \n",
       "17299  uncultured_Termite_group_1_bacterium_phylotype...           NC_020419   \n",
       "17300  uncultured_Termite_group_1_bacterium_phylotype...           NC_020419   \n",
       "17301  uncultured_Termite_group_1_bacterium_phylotype...           NC_020419   \n",
       "17302  uncultured_Termite_group_1_bacterium_phylotype...           NC_020419   \n",
       "\n",
       "       Gene number on the genome partition  \\\n",
       "17283                                195.0   \n",
       "17284                                196.0   \n",
       "17285                                197.0   \n",
       "17286                                198.0   \n",
       "17287                                  NaN   \n",
       "17288                                 55.0   \n",
       "17289                                 56.0   \n",
       "17290                                 57.0   \n",
       "17291                                 58.0   \n",
       "17292                                  NaN   \n",
       "17293                                215.0   \n",
       "17294                                216.0   \n",
       "17295                                217.0   \n",
       "17296                                218.0   \n",
       "17297                                219.0   \n",
       "17298                                220.0   \n",
       "17299                                221.0   \n",
       "17300                                222.0   \n",
       "17301                                223.0   \n",
       "17302                                224.0   \n",
       "\n",
       "      Cas profile ID (CDD ID for non-cas proteins) Cas core Cas gene  \\\n",
       "17283                                      cd09709        +  csc2gr7   \n",
       "17284                                      cd09712        +   cas10d   \n",
       "17285                                    pfam10040        +     cas6   \n",
       "17286                                    cls001593      NaN     casR   \n",
       "17287                                          NaN      NaN      NaN   \n",
       "17288                                      cd09643        +     cas9   \n",
       "17289                                      cd09643        +     cas9   \n",
       "17290                                      cd09720        +     cas1   \n",
       "17291                                    mkCas0206        +     cas2   \n",
       "17292                                          NaN      NaN      NaN   \n",
       "17293                                      COG1203        +     cas3   \n",
       "17294                                      cd09752        +     cas5   \n",
       "17295                                      cd09757        +    cas8c   \n",
       "17296                                      cd09689        +     cas7   \n",
       "17297                                      cd09637      NaN     cas4   \n",
       "17298                                      cd09721        +     cas1   \n",
       "17299                                      cd09725        +     cas2   \n",
       "17300                                      COG3513        +     cas9   \n",
       "17301                                      cd09720        +     cas1   \n",
       "17302                                      COG3512        +     cas2   \n",
       "\n",
       "       locus_id       CRISPR_type  \n",
       "17283      1946           CAS-I-D  \n",
       "17284      1946           CAS-I-D  \n",
       "17285      1946           CAS-I-D  \n",
       "17286      1946           CAS-I-D  \n",
       "17287      1947          CAS-II-C  \n",
       "17288      1947          CAS-II-C  \n",
       "17289      1947          CAS-II-C  \n",
       "17290      1947          CAS-II-C  \n",
       "17291      1947          CAS-II-C  \n",
       "17292      1948  CAS-I-C;CAS-II-C  \n",
       "17293      1948  CAS-I-C;CAS-II-C  \n",
       "17294      1948  CAS-I-C;CAS-II-C  \n",
       "17295      1948  CAS-I-C;CAS-II-C  \n",
       "17296      1948  CAS-I-C;CAS-II-C  \n",
       "17297      1948  CAS-I-C;CAS-II-C  \n",
       "17298      1948  CAS-I-C;CAS-II-C  \n",
       "17299      1948  CAS-I-C;CAS-II-C  \n",
       "17300      1948  CAS-I-C;CAS-II-C  \n",
       "17301      1948  CAS-I-C;CAS-II-C  \n",
       "17302      1948  CAS-I-C;CAS-II-C  "
      ]
     },
     "execution_count": 28,
     "metadata": {},
     "output_type": "execute_result"
    }
   ],
   "source": [
    "makarova_data.tail(n=20)"
   ]
  },
  {
   "cell_type": "code",
   "execution_count": 29,
   "metadata": {},
   "outputs": [],
   "source": [
    "# remove the rows that are the locus titles\n",
    "makarova_data = makarova_data.loc[~makarova_data['#Locus ID / GI'].str.contains('#')]"
   ]
  },
  {
   "cell_type": "code",
   "execution_count": 30,
   "metadata": {},
   "outputs": [
    {
     "data": {
      "text/plain": [
       "1263"
      ]
     },
     "execution_count": 30,
     "metadata": {},
     "output_type": "execute_result"
    }
   ],
   "source": [
    "# number of unique organisms\n",
    "len(pd.unique(makarova_data['Genome partition ID']))"
   ]
  },
  {
   "cell_type": "code",
   "execution_count": 69,
   "metadata": {},
   "outputs": [],
   "source": [
    "accessions_all = pd.read_csv(\"organism_accessions_all.txt\", names = ['acc']) # all organisms with CRISPR arrays\n",
    "accessions = pd.read_csv(\"organism_accessions.txt\", names = ['acc']) # ones with cas near CRISPR array"
   ]
  },
  {
   "cell_type": "code",
   "execution_count": 73,
   "metadata": {},
   "outputs": [
    {
     "name": "stdout",
     "output_type": "stream",
     "text": [
      "1469\n",
      "88\n"
     ]
    }
   ],
   "source": [
    "# get a list of all the organisms that are in either our group or the makarova group\n",
    "set1 = set(accessions['acc'])\n",
    "set2 = set(pd.unique(makarova_data['Genome partition ID'])) # makarova genomes with cas loci\n",
    "set3 = set(accessions_all['acc'])\n",
    "\n",
    "union = list(set1.union(set2))\n",
    "\n",
    "intersection_all = list(set3.intersection(set2))\n",
    "\n",
    "difference = list(set(intersection_all).difference(set1))\n",
    "\n",
    "print(len(union))\n",
    "\n",
    "# this many genomes that are in the makarova data have had their expression analyzed\n",
    "makarova_done = set2.intersection(set(accessions_done['acc']))\n",
    "print(len(makarova_done))"
   ]
  },
  {
   "cell_type": "markdown",
   "metadata": {},
   "source": [
    "Need CDS regions for the AnaCoDa thing, so to download CDS fasta I think use `fasta_cds_na` (nucleotides for cds) or `fasta_cds_aa` (translated amino acids for cds). "
   ]
  },
  {
   "cell_type": "code",
   "execution_count": 76,
   "metadata": {},
   "outputs": [],
   "source": [
    "with open(\"accessions_overlap.txt\", \"w\") as file:\n",
    "    for acc in intersection_all:\n",
    "        file.write(acc + \"\\n\")"
   ]
  },
  {
   "cell_type": "code",
   "execution_count": 97,
   "metadata": {},
   "outputs": [],
   "source": [
    "done_accessions = pd.read_csv(\"done_accessions.txt\", names = ['acc'])"
   ]
  },
  {
   "cell_type": "code",
   "execution_count": 112,
   "metadata": {},
   "outputs": [],
   "source": [
    "remaining_to_analyze = pd.DataFrame(list(set(intersection_all).difference(set(done_accessions['acc']))), columns = ['acc'])"
   ]
  },
  {
   "cell_type": "code",
   "execution_count": 114,
   "metadata": {},
   "outputs": [
    {
     "data": {
      "text/plain": [
       "1047"
      ]
     },
     "execution_count": 114,
     "metadata": {},
     "output_type": "execute_result"
    }
   ],
   "source": [
    "len(remaining_to_analyze)"
   ]
  },
  {
   "cell_type": "code",
   "execution_count": 117,
   "metadata": {},
   "outputs": [],
   "source": [
    "remaining_to_analyze.to_csv(\"remaining_to_analyze.txt\", index = None, header = None)"
   ]
  },
  {
   "cell_type": "code",
   "execution_count": null,
   "metadata": {},
   "outputs": [],
   "source": []
  },
  {
   "cell_type": "code",
   "execution_count": 92,
   "metadata": {},
   "outputs": [],
   "source": [
    "downloaded_genomes = pd.read_csv(\"downloaded_genomes.txt\",  names = ['acc'])"
   ]
  },
  {
   "cell_type": "code",
   "execution_count": 93,
   "metadata": {},
   "outputs": [],
   "source": [
    "to_download = list(set(intersection_all).difference(set(downloaded_genomes['acc'])))"
   ]
  },
  {
   "cell_type": "code",
   "execution_count": 94,
   "metadata": {},
   "outputs": [
    {
     "data": {
      "text/plain": [
       "0"
      ]
     },
     "execution_count": 94,
     "metadata": {},
     "output_type": "execute_result"
    }
   ],
   "source": [
    "len(to_download)"
   ]
  },
  {
   "cell_type": "code",
   "execution_count": null,
   "metadata": {},
   "outputs": [],
   "source": [
    "# need to download a few more organisms that aren't in our list\n",
    "\n",
    "for acc in to_download:\n",
    "    !echo \"$acc\" | python ../parserscripts/acc2gb.py your@email.com nuccore fasta_cds_na > \"$acc\".fasta"
   ]
  },
  {
   "cell_type": "code",
   "execution_count": null,
   "metadata": {},
   "outputs": [],
   "source": []
  },
  {
   "cell_type": "code",
   "execution_count": null,
   "metadata": {},
   "outputs": [],
   "source": []
  },
  {
   "cell_type": "code",
   "execution_count": 34,
   "metadata": {},
   "outputs": [],
   "source": [
    "makarova_subset = makarova_data[makarova_data['Genome partition ID'].isin(makarova_done)]"
   ]
  },
  {
   "cell_type": "code",
   "execution_count": 35,
   "metadata": {},
   "outputs": [
    {
     "data": {
      "text/plain": [
       "1505"
      ]
     },
     "execution_count": 35,
     "metadata": {},
     "output_type": "execute_result"
    }
   ],
   "source": [
    "len(makarova_subset)"
   ]
  },
  {
   "cell_type": "code",
   "execution_count": 52,
   "metadata": {},
   "outputs": [
    {
     "name": "stderr",
     "output_type": "stream",
     "text": [
      "/home/madeleine/anaconda2/envs/django/lib/python3.5/site-packages/pandas/core/indexing.py:517: SettingWithCopyWarning: \n",
      "A value is trying to be set on a copy of a slice from a DataFrame.\n",
      "Try using .loc[row_indexer,col_indexer] = value instead\n",
      "\n",
      "See the caveats in the documentation: http://pandas.pydata.org/pandas-docs/stable/indexing.html#indexing-view-versus-copy\n",
      "  self.obj[item] = s\n"
     ]
    }
   ],
   "source": [
    "makarova_subset.loc[:,[\"(sub)Type / Coordinates\"]] = makarova_subset[\"(sub)Type / Coordinates\"].astype(str)"
   ]
  },
  {
   "cell_type": "code",
   "execution_count": 53,
   "metadata": {},
   "outputs": [],
   "source": [
    "new_cols = makarova_subset[\"(sub)Type / Coordinates\"].str.split(\".\", expand = True)"
   ]
  },
  {
   "cell_type": "code",
   "execution_count": 54,
   "metadata": {},
   "outputs": [
    {
     "name": "stderr",
     "output_type": "stream",
     "text": [
      "/home/madeleine/anaconda2/envs/django/lib/python3.5/site-packages/ipykernel/__main__.py:1: SettingWithCopyWarning: \n",
      "A value is trying to be set on a copy of a slice from a DataFrame.\n",
      "Try using .loc[row_indexer,col_indexer] = value instead\n",
      "\n",
      "See the caveats in the documentation: http://pandas.pydata.org/pandas-docs/stable/indexing.html#indexing-view-versus-copy\n",
      "  if __name__ == '__main__':\n",
      "/home/madeleine/anaconda2/envs/django/lib/python3.5/site-packages/ipykernel/__main__.py:2: SettingWithCopyWarning: \n",
      "A value is trying to be set on a copy of a slice from a DataFrame.\n",
      "Try using .loc[row_indexer,col_indexer] = value instead\n",
      "\n",
      "See the caveats in the documentation: http://pandas.pydata.org/pandas-docs/stable/indexing.html#indexing-view-versus-copy\n",
      "  from ipykernel import kernelapp as app\n"
     ]
    }
   ],
   "source": [
    "makarova_subset[\"Genomic start\"] = new_cols[0]\n",
    "makarova_subset[\"Genomic end\"] = new_cols[2]"
   ]
  },
  {
   "cell_type": "code",
   "execution_count": 55,
   "metadata": {},
   "outputs": [
    {
     "data": {
      "text/html": [
       "<div>\n",
       "<style>\n",
       "    .dataframe thead tr:only-child th {\n",
       "        text-align: right;\n",
       "    }\n",
       "\n",
       "    .dataframe thead th {\n",
       "        text-align: left;\n",
       "    }\n",
       "\n",
       "    .dataframe tbody tr th {\n",
       "        vertical-align: top;\n",
       "    }\n",
       "</style>\n",
       "<table border=\"1\" class=\"dataframe\">\n",
       "  <thead>\n",
       "    <tr style=\"text-align: right;\">\n",
       "      <th></th>\n",
       "      <th>#Locus ID / GI</th>\n",
       "      <th>(sub)Type / Coordinates</th>\n",
       "      <th>Strand</th>\n",
       "      <th>Genome</th>\n",
       "      <th>Genome partition ID</th>\n",
       "      <th>Gene number on the genome partition</th>\n",
       "      <th>Cas profile ID (CDD ID for non-cas proteins)</th>\n",
       "      <th>Cas core</th>\n",
       "      <th>Cas gene</th>\n",
       "      <th>locus_id</th>\n",
       "      <th>CRISPR_type</th>\n",
       "      <th>Genomic start</th>\n",
       "      <th>Genomic end</th>\n",
       "    </tr>\n",
       "  </thead>\n",
       "  <tbody>\n",
       "    <tr>\n",
       "      <th>107</th>\n",
       "      <td>332796052</td>\n",
       "      <td>362959..365517</td>\n",
       "      <td>+</td>\n",
       "      <td>Acidianus_hospitalis_W1_uid66875</td>\n",
       "      <td>NC_015518</td>\n",
       "      <td>359.0</td>\n",
       "      <td>cd09641,mkCas0133</td>\n",
       "      <td>+</td>\n",
       "      <td>cas10</td>\n",
       "      <td>12</td>\n",
       "      <td>CAS-III-D</td>\n",
       "      <td>362959</td>\n",
       "      <td>365517</td>\n",
       "    </tr>\n",
       "    <tr>\n",
       "      <th>108</th>\n",
       "      <td>332796053</td>\n",
       "      <td>365597..366034</td>\n",
       "      <td>+</td>\n",
       "      <td>Acidianus_hospitalis_W1_uid66875</td>\n",
       "      <td>NC_015518</td>\n",
       "      <td>360.0</td>\n",
       "      <td>cls000253</td>\n",
       "      <td>+</td>\n",
       "      <td>csm3gr7</td>\n",
       "      <td>12</td>\n",
       "      <td>CAS-III-D</td>\n",
       "      <td>365597</td>\n",
       "      <td>366034</td>\n",
       "    </tr>\n",
       "    <tr>\n",
       "      <th>109</th>\n",
       "      <td>332796054</td>\n",
       "      <td>366015..366977</td>\n",
       "      <td>+</td>\n",
       "      <td>Acidianus_hospitalis_W1_uid66875</td>\n",
       "      <td>NC_015518</td>\n",
       "      <td>361.0</td>\n",
       "      <td>mkCas0153</td>\n",
       "      <td>+</td>\n",
       "      <td>csx10gr5</td>\n",
       "      <td>12</td>\n",
       "      <td>CAS-III-D</td>\n",
       "      <td>366015</td>\n",
       "      <td>366977</td>\n",
       "    </tr>\n",
       "    <tr>\n",
       "      <th>110</th>\n",
       "      <td>332796055</td>\n",
       "      <td>366967..367326</td>\n",
       "      <td>+</td>\n",
       "      <td>Acidianus_hospitalis_W1_uid66875</td>\n",
       "      <td>NC_015518</td>\n",
       "      <td>362.0</td>\n",
       "      <td>mkCas0186</td>\n",
       "      <td>+</td>\n",
       "      <td>csm2gr11</td>\n",
       "      <td>12</td>\n",
       "      <td>CAS-III-D</td>\n",
       "      <td>366967</td>\n",
       "      <td>367326</td>\n",
       "    </tr>\n",
       "    <tr>\n",
       "      <th>111</th>\n",
       "      <td>332796056</td>\n",
       "      <td>367331..368071</td>\n",
       "      <td>+</td>\n",
       "      <td>Acidianus_hospitalis_W1_uid66875</td>\n",
       "      <td>NC_015518</td>\n",
       "      <td>363.0</td>\n",
       "      <td>COG1337</td>\n",
       "      <td>+</td>\n",
       "      <td>csm3gr7</td>\n",
       "      <td>12</td>\n",
       "      <td>CAS-III-D</td>\n",
       "      <td>367331</td>\n",
       "      <td>368071</td>\n",
       "    </tr>\n",
       "  </tbody>\n",
       "</table>\n",
       "</div>"
      ],
      "text/plain": [
       "    #Locus ID / GI (sub)Type / Coordinates Strand  \\\n",
       "107      332796052          362959..365517      +   \n",
       "108      332796053          365597..366034      +   \n",
       "109      332796054          366015..366977      +   \n",
       "110      332796055          366967..367326      +   \n",
       "111      332796056          367331..368071      +   \n",
       "\n",
       "                               Genome Genome partition ID  \\\n",
       "107  Acidianus_hospitalis_W1_uid66875           NC_015518   \n",
       "108  Acidianus_hospitalis_W1_uid66875           NC_015518   \n",
       "109  Acidianus_hospitalis_W1_uid66875           NC_015518   \n",
       "110  Acidianus_hospitalis_W1_uid66875           NC_015518   \n",
       "111  Acidianus_hospitalis_W1_uid66875           NC_015518   \n",
       "\n",
       "     Gene number on the genome partition  \\\n",
       "107                                359.0   \n",
       "108                                360.0   \n",
       "109                                361.0   \n",
       "110                                362.0   \n",
       "111                                363.0   \n",
       "\n",
       "    Cas profile ID (CDD ID for non-cas proteins) Cas core  Cas gene  locus_id  \\\n",
       "107                            cd09641,mkCas0133        +     cas10        12   \n",
       "108                                    cls000253        +   csm3gr7        12   \n",
       "109                                    mkCas0153        +  csx10gr5        12   \n",
       "110                                    mkCas0186        +  csm2gr11        12   \n",
       "111                                      COG1337        +   csm3gr7        12   \n",
       "\n",
       "    CRISPR_type Genomic start Genomic end  \n",
       "107   CAS-III-D        362959      365517  \n",
       "108   CAS-III-D        365597      366034  \n",
       "109   CAS-III-D        366015      366977  \n",
       "110   CAS-III-D        366967      367326  \n",
       "111   CAS-III-D        367331      368071  "
      ]
     },
     "execution_count": 55,
     "metadata": {},
     "output_type": "execute_result"
    }
   ],
   "source": [
    "makarova_subset.head()"
   ]
  },
  {
   "cell_type": "code",
   "execution_count": 56,
   "metadata": {},
   "outputs": [
    {
     "data": {
      "text/html": [
       "<div>\n",
       "<style>\n",
       "    .dataframe thead tr:only-child th {\n",
       "        text-align: right;\n",
       "    }\n",
       "\n",
       "    .dataframe thead th {\n",
       "        text-align: left;\n",
       "    }\n",
       "\n",
       "    .dataframe tbody tr th {\n",
       "        vertical-align: top;\n",
       "    }\n",
       "</style>\n",
       "<table border=\"1\" class=\"dataframe\">\n",
       "  <thead>\n",
       "    <tr style=\"text-align: right;\">\n",
       "      <th></th>\n",
       "      <th>#Locus ID / GI</th>\n",
       "      <th>(sub)Type / Coordinates</th>\n",
       "      <th>Strand</th>\n",
       "      <th>Genome</th>\n",
       "      <th>Genome partition ID</th>\n",
       "      <th>Gene number on the genome partition</th>\n",
       "      <th>Cas profile ID (CDD ID for non-cas proteins)</th>\n",
       "      <th>Cas core</th>\n",
       "      <th>Cas gene</th>\n",
       "      <th>locus_id</th>\n",
       "      <th>CRISPR_type</th>\n",
       "      <th>Genomic start</th>\n",
       "      <th>Genomic end</th>\n",
       "    </tr>\n",
       "  </thead>\n",
       "  <tbody>\n",
       "    <tr>\n",
       "      <th>6666</th>\n",
       "      <td>159901591</td>\n",
       "      <td>99827..100840</td>\n",
       "      <td>+</td>\n",
       "      <td>Herpetosiphon_aurantiacus_DSM_785_uid58599</td>\n",
       "      <td>NC_009973</td>\n",
       "      <td>81.0</td>\n",
       "      <td>cd09634</td>\n",
       "      <td>+</td>\n",
       "      <td>cas1</td>\n",
       "      <td>758</td>\n",
       "      <td>CAS-I-B</td>\n",
       "      <td>99827</td>\n",
       "      <td>100840</td>\n",
       "    </tr>\n",
       "    <tr>\n",
       "      <th>8234</th>\n",
       "      <td>261402132</td>\n",
       "      <td>747..1010</td>\n",
       "      <td>+</td>\n",
       "      <td>Methanocaldococcus_vulcanius_M7_uid41131</td>\n",
       "      <td>NC_013407</td>\n",
       "      <td>1.0</td>\n",
       "      <td>cd09725</td>\n",
       "      <td>+</td>\n",
       "      <td>cas2</td>\n",
       "      <td>938</td>\n",
       "      <td>CAS-I-D</td>\n",
       "      <td>747</td>\n",
       "      <td>1010</td>\n",
       "    </tr>\n",
       "    <tr>\n",
       "      <th>8242</th>\n",
       "      <td>261402140</td>\n",
       "      <td>9861..10613</td>\n",
       "      <td>-</td>\n",
       "      <td>Methanocaldococcus_vulcanius_M7_uid41131</td>\n",
       "      <td>NC_013407</td>\n",
       "      <td>9.0</td>\n",
       "      <td>cd09759</td>\n",
       "      <td>+</td>\n",
       "      <td>cas6</td>\n",
       "      <td>938</td>\n",
       "      <td>CAS-I-D</td>\n",
       "      <td>9861</td>\n",
       "      <td>10613</td>\n",
       "    </tr>\n",
       "    <tr>\n",
       "      <th>12494</th>\n",
       "      <td>541862392</td>\n",
       "      <td>558..1481</td>\n",
       "      <td>-</td>\n",
       "      <td>Serratia_ATCC_39006_uid218470</td>\n",
       "      <td>NC_022268</td>\n",
       "      <td>2.0</td>\n",
       "      <td>cd09719</td>\n",
       "      <td>+</td>\n",
       "      <td>cas1</td>\n",
       "      <td>1418</td>\n",
       "      <td>CAS-I-E</td>\n",
       "      <td>558</td>\n",
       "      <td>1481</td>\n",
       "    </tr>\n",
       "  </tbody>\n",
       "</table>\n",
       "</div>"
      ],
      "text/plain": [
       "      #Locus ID / GI (sub)Type / Coordinates Strand  \\\n",
       "6666       159901591           99827..100840      +   \n",
       "8234       261402132               747..1010      +   \n",
       "8242       261402140             9861..10613      -   \n",
       "12494      541862392               558..1481      -   \n",
       "\n",
       "                                           Genome Genome partition ID  \\\n",
       "6666   Herpetosiphon_aurantiacus_DSM_785_uid58599           NC_009973   \n",
       "8234     Methanocaldococcus_vulcanius_M7_uid41131           NC_013407   \n",
       "8242     Methanocaldococcus_vulcanius_M7_uid41131           NC_013407   \n",
       "12494               Serratia_ATCC_39006_uid218470           NC_022268   \n",
       "\n",
       "       Gene number on the genome partition  \\\n",
       "6666                                  81.0   \n",
       "8234                                   1.0   \n",
       "8242                                   9.0   \n",
       "12494                                  2.0   \n",
       "\n",
       "      Cas profile ID (CDD ID for non-cas proteins) Cas core Cas gene  \\\n",
       "6666                                       cd09634        +     cas1   \n",
       "8234                                       cd09725        +     cas2   \n",
       "8242                                       cd09759        +     cas6   \n",
       "12494                                      cd09719        +     cas1   \n",
       "\n",
       "       locus_id CRISPR_type Genomic start Genomic end  \n",
       "6666        758     CAS-I-B         99827      100840  \n",
       "8234        938     CAS-I-D           747        1010  \n",
       "8242        938     CAS-I-D          9861       10613  \n",
       "12494      1418     CAS-I-E           558        1481  "
      ]
     },
     "execution_count": 56,
     "metadata": {},
     "output_type": "execute_result"
    }
   ],
   "source": [
    "makarova_subset.loc[makarova_subset[\"Genomic start\"] > makarova_subset[\"Genomic end\"]]"
   ]
  },
  {
   "cell_type": "markdown",
   "metadata": {},
   "source": [
    "Looks like the genomic start is always less than the genomic end. "
   ]
  },
  {
   "cell_type": "markdown",
   "metadata": {},
   "source": [
    "Now get the ones that are near loci!"
   ]
  },
  {
   "cell_type": "code",
   "execution_count": 57,
   "metadata": {},
   "outputs": [
    {
     "data": {
      "text/html": [
       "<div>\n",
       "<style>\n",
       "    .dataframe thead tr:only-child th {\n",
       "        text-align: right;\n",
       "    }\n",
       "\n",
       "    .dataframe thead th {\n",
       "        text-align: left;\n",
       "    }\n",
       "\n",
       "    .dataframe tbody tr th {\n",
       "        vertical-align: top;\n",
       "    }\n",
       "</style>\n",
       "<table border=\"1\" class=\"dataframe\">\n",
       "  <thead>\n",
       "    <tr style=\"text-align: right;\">\n",
       "      <th></th>\n",
       "      <th>Genome partition ID</th>\n",
       "      <th>Genomic start</th>\n",
       "      <th>Genomic end</th>\n",
       "    </tr>\n",
       "    <tr>\n",
       "      <th>locus_id</th>\n",
       "      <th></th>\n",
       "      <th></th>\n",
       "      <th></th>\n",
       "    </tr>\n",
       "  </thead>\n",
       "  <tbody>\n",
       "    <tr>\n",
       "      <th>936</th>\n",
       "      <td>NC_000909</td>\n",
       "      <td>339917</td>\n",
       "      <td>351645</td>\n",
       "    </tr>\n",
       "    <tr>\n",
       "      <th>937</th>\n",
       "      <td>NC_000909</td>\n",
       "      <td>1648677</td>\n",
       "      <td>1658533</td>\n",
       "    </tr>\n",
       "    <tr>\n",
       "      <th>225</th>\n",
       "      <td>NC_002163</td>\n",
       "      <td>1455569</td>\n",
       "      <td>1459834</td>\n",
       "    </tr>\n",
       "    <tr>\n",
       "      <th>1158</th>\n",
       "      <td>NC_002663</td>\n",
       "      <td>358606</td>\n",
       "      <td>369045</td>\n",
       "    </tr>\n",
       "    <tr>\n",
       "      <th>1159</th>\n",
       "      <td>NC_002663</td>\n",
       "      <td>1322726</td>\n",
       "      <td>1327185</td>\n",
       "    </tr>\n",
       "  </tbody>\n",
       "</table>\n",
       "</div>"
      ],
      "text/plain": [
       "         Genome partition ID Genomic start Genomic end\n",
       "locus_id                                              \n",
       "936                NC_000909        339917      351645\n",
       "937                NC_000909       1648677     1658533\n",
       "225                NC_002163       1455569     1459834\n",
       "1158               NC_002663        358606      369045\n",
       "1159               NC_002663       1322726     1327185"
      ]
     },
     "execution_count": 57,
     "metadata": {},
     "output_type": "execute_result"
    }
   ],
   "source": [
    "locus_min_max = (makarova_subset.groupby([\"Genome partition ID\",\"locus_id\"])\n",
    "                 .agg({\"Genomic start\": np.min,\"Genomic end\": np.max}))\n",
    "\n",
    "locus_min_max = locus_min_max.reset_index()\n",
    "locus_min_max = locus_min_max.set_index('locus_id')\n",
    "locus_min_max.head()\n",
    "\n"
   ]
  },
  {
   "cell_type": "code",
   "execution_count": 58,
   "metadata": {},
   "outputs": [
    {
     "data": {
      "text/plain": [
       "'NC_002163'"
      ]
     },
     "execution_count": 58,
     "metadata": {},
     "output_type": "execute_result"
    }
   ],
   "source": [
    "locus_min_max.loc[225]['Genome partition ID']"
   ]
  },
  {
   "cell_type": "code",
   "execution_count": 59,
   "metadata": {},
   "outputs": [
    {
     "data": {
      "text/plain": [
       "178305"
      ]
     },
     "execution_count": 59,
     "metadata": {},
     "output_type": "execute_result"
    }
   ],
   "source": [
    "organism_dict[1]['loci'][0]['genomic_start']"
   ]
  },
  {
   "cell_type": "code",
   "execution_count": null,
   "metadata": {},
   "outputs": [],
   "source": []
  },
  {
   "cell_type": "code",
   "execution_count": 60,
   "metadata": {},
   "outputs": [],
   "source": [
    "cas_locus_to_crispr_array = {}\n",
    "cutoff = 530\n",
    "count = 0\n",
    "for locus in np.unique(makarova_subset[\"locus_id\"]):\n",
    "    accession = locus_min_max.loc[locus]['Genome partition ID']\n",
    "    org_id = accession_to_organism_id[accession]\n",
    "    cas_locus_start = int(locus_min_max.loc[locus]['Genomic start'])\n",
    "    cas_locus_end = int(locus_min_max.loc[locus]['Genomic end'])\n",
    "    \n",
    "    for loc in organism_dict[org_id]['loci']:\n",
    "        crispr_array_start = loc['genomic_start']\n",
    "        crispr_array_end = loc['genomic_end']\n",
    "        \n",
    "        if np.abs(crispr_array_start - cas_locus_end) < cutoff or np.abs(crispr_array_end - cas_locus_start) < cutoff:\n",
    "            count += 1\n",
    "            try:\n",
    "                cas_locus_to_crispr_array[locus].append({\"locus_id\": loc['id'], \"crispr_length\": len(loc['spacers'])})\n",
    "            except:\n",
    "                cas_locus_to_crispr_array[locus] = [{\"locus_id\": loc['id'], \"crispr_length\": len(loc['spacers'])}]"
   ]
  },
  {
   "cell_type": "code",
   "execution_count": 61,
   "metadata": {},
   "outputs": [
    {
     "data": {
      "text/plain": [
       "'NC_020419'"
      ]
     },
     "execution_count": 61,
     "metadata": {},
     "output_type": "execute_result"
    }
   ],
   "source": [
    "locus_num = 1948\n",
    "locus_min_max.loc[locus_num]['Genome partition ID']"
   ]
  },
  {
   "cell_type": "code",
   "execution_count": 62,
   "metadata": {},
   "outputs": [],
   "source": [
    "accession = \"NC_020419\""
   ]
  },
  {
   "cell_type": "code",
   "execution_count": 63,
   "metadata": {},
   "outputs": [],
   "source": [
    "cas_gene_positions = makarova_subset[makarova_subset['locus_id'] == locus_num][\"Gene number on the genome partition\"]"
   ]
  },
  {
   "cell_type": "code",
   "execution_count": 64,
   "metadata": {},
   "outputs": [],
   "source": [
    "expression = pd.read_csv(\"%s/%s-expression.csv\" %(folder_python,accession))"
   ]
  },
  {
   "cell_type": "code",
   "execution_count": 65,
   "metadata": {},
   "outputs": [],
   "source": [
    "names_split = expression[\"names\"].str.rsplit(\"_\", n=1, expand = True)  # split names column from the right to isolate cds position\n",
    "expression[\"protein_position\"] = names_split.iloc[:,-1] # create column for cds position\n",
    "expression[\"protein_position\"] = pd.to_numeric(expression[\"protein_position\"]) # convert to numeric"
   ]
  },
  {
   "cell_type": "code",
   "execution_count": 66,
   "metadata": {},
   "outputs": [],
   "source": [
    "# get nearby loci\n",
    "\n",
    "locus_lengths = []\n",
    "for locus in cas_locus_to_crispr_array[locus_num]:\n",
    "    locus_lengths.append(locus['crispr_length'])\n"
   ]
  },
  {
   "cell_type": "code",
   "execution_count": 67,
   "metadata": {},
   "outputs": [
    {
     "data": {
      "text/plain": [
       "214    0.533940\n",
       "215    1.281242\n",
       "216    0.944760\n",
       "217    1.240539\n",
       "218    1.038434\n",
       "219    1.226273\n",
       "220    1.225218\n",
       "221    1.146164\n",
       "222    1.131724\n",
       "223    1.074061\n",
       "Name: PHI, dtype: float64"
      ]
     },
     "execution_count": 67,
     "metadata": {},
     "output_type": "execute_result"
    }
   ],
   "source": [
    "expression.loc[expression[\"protein_position\"].isin(cas_gene_positions)].PHI / np.mean(expression.PHI)"
   ]
  },
  {
   "cell_type": "code",
   "execution_count": 68,
   "metadata": {},
   "outputs": [
    {
     "data": {
      "text/plain": [
       "Int64Index([ 936,  937,  225, 1158, 1159,  594, 1043,  273,  274, 1245,\n",
       "            ...\n",
       "            1948,  624,  675, 1418, 1419, 1420,   39,   40,  128,  235],\n",
       "           dtype='int64', name='locus_id', length=161)"
      ]
     },
     "execution_count": 68,
     "metadata": {},
     "output_type": "execute_result"
    }
   ],
   "source": [
    "locus_min_max.index"
   ]
  },
  {
   "cell_type": "code",
   "execution_count": 69,
   "metadata": {},
   "outputs": [
    {
     "data": {
      "text/plain": [
       "dict_keys([1793, 1366, 519, 777, 1291, 14, 273, 274, 1043, 535, 536, 1817, 26, 1819, 645, 1313, 1058, 291, 292, 39, 40, 814, 1583, 1840, 308, 312, 569, 1419, 324, 1351, 328, 590, 56, 594, 1363, 84, 85, 86, 1367, 1368, 349, 350, 327, 611, 624, 233, 128, 388, 389, 1159, 1672, 1417, 1930, 1303, 1304, 915, 410, 1948, 1306, 416, 417, 674, 675, 936, 1449, 938, 171, 436, 438, 951, 1465, 1466, 446, 191, 961, 962, 707, 1478, 1839, 714, 1314, 721, 212, 984, 1242, 1244, 1245, 734, 1248, 225, 1763, 1764, 487, 488, 489, 1775, 168, 1014, 169])"
      ]
     },
     "execution_count": 69,
     "metadata": {},
     "output_type": "execute_result"
    }
   ],
   "source": [
    "cas_locus_to_crispr_array.keys()"
   ]
  },
  {
   "cell_type": "code",
   "execution_count": 70,
   "metadata": {},
   "outputs": [],
   "source": [
    "expression_list = []\n",
    "locus_size_list = []\n",
    "locus_id_list = []\n",
    "for locus_num in np.unique(list(cas_locus_to_crispr_array.keys())):\n",
    "    accession = locus_min_max.loc[locus_num]['Genome partition ID']\n",
    "    expression = pd.read_csv(\"%s/%s-expression.csv\" %(folder_python,accession))\n",
    "    #print(np.mean(expression.PHI))\n",
    "    names_split = expression[\"names\"].str.rsplit(\"_\", n=1, expand = True)  # split names column from the right to isolate cds position\n",
    "    expression[\"protein_position\"] = names_split.iloc[:,-1] # create column for cds position\n",
    "    expression[\"protein_position\"] = pd.to_numeric(expression[\"protein_position\"]) # convert to numeric\n",
    "    \n",
    "    expression_all_list.append(expression)\n",
    "    \n",
    "    cas_gene_positions = makarova_subset[makarova_subset['locus_id'] == locus_num][\"Gene number on the genome partition\"]\n",
    "    \n",
    "    expression_vals = expression.loc[expression[\"protein_position\"].isin(cas_gene_positions)].PHI / np.mean(expression.PHI)\n",
    "    \n",
    "    # find nearby loci - compare locus positions with cas gene positions?\n",
    "\n",
    "    for locus in cas_locus_to_crispr_array[locus_num]:\n",
    "        locus_length = locus['crispr_length']\n",
    "        locus_size_list.append([locus_length]*len(expression_vals))\n",
    "        expression_list.append(expression_vals)\n",
    "        locus_id_list.append([locus_num]*len(expression_vals))\n",
    "  "
   ]
  },
  {
   "cell_type": "code",
   "execution_count": 71,
   "metadata": {},
   "outputs": [],
   "source": [
    "# flatten lists\n",
    "\n",
    "expression_list_flat = [item for sublist in expression_list for item in sublist] \n",
    "locus_size_list_flat = [item for sublist in locus_size_list for item in sublist] \n",
    "locus_id_list_flat = [item for sublist in locus_id_list for item in sublist]\n",
    "\n",
    "sort_inds = np.argsort(locus_size_list_flat)\n",
    "locus_size_list_flat = np.array(locus_size_list_flat)[sort_inds]\n",
    "expression_list_flat = np.array(expression_list_flat)[sort_inds]\n",
    "locus_id_list_flat = np.array(locus_id_list_flat)[sort_inds]"
   ]
  },
  {
   "cell_type": "code",
   "execution_count": null,
   "metadata": {},
   "outputs": [],
   "source": [
    "# make data frame with expression list, locus size, and locus ID to group by locus ID\n",
    "# also add grouping info for CRISPR type?\n",
    "expression_df = pd.DataFrame(expression_list_flat)"
   ]
  },
  {
   "cell_type": "code",
   "execution_count": 72,
   "metadata": {},
   "outputs": [
    {
     "data": {
      "image/png": "[encoded data removed]",
      "text/plain": [
       "<matplotlib.figure.Figure at 0x7fd5fba97ef0>"
      ]
     },
     "metadata": {},
     "output_type": "display_data"
    }
   ],
   "source": [
    "fig, ax = plt.subplots()\n",
    "#ax.set_xscale('log')\n",
    "ax.scatter(locus_size_list_flat, expression_list_flat, alpha = 0.8, c = locus_id_list_flat, cmap = \"viridis\")\n",
    "#ax.plot(locus_size_list_flat, np.array(locus_size_list_flat)*A+B)\n",
    "ax.set_xlabel(\"locus size\")\n",
    "ax.set_ylabel(\"protein expression relative to genome mean\")\n",
    "plt.savefig(\"makarova_cas_expression_vs_locus_size.png\", dpi = 200)"
   ]
  },
  {
   "cell_type": "markdown",
   "metadata": {},
   "source": [
    "## Normalize to some common genes\n",
    "\n",
    "Instead of normalizing to the total expression for a cell, normalize to a set of 'housekeeping' or reference genes that most or all organisms should constitutively express. Genes involved in DNA replication are good candidates, since we would like things to be relative to cell generation times.\n",
    "\n",
    "From some googling:\n",
    "\n",
    "| Gene name | String to search in CDS annotation | Gene function | Approx length | Reference |\n",
    "| --------- | ---------------------------------- | ------------- | ------------- | --------- |\n",
    "| recombinase A | recA                               |      | | |\n",
    "|DNA gyrase A subunit| gyrA                             |      | | [BCCM](http://bccm.belspo.be/services/identification-using-sequence-analysis-housekeeping-genes-bccmlmg), |\n",
    "|DNA gyrase B subunit| gyrB                            |      | | [BCCM](http://bccm.belspo.be/services/identification-using-sequence-analysis-housekeeping-genes-bccmlmg),   |\n",
    "| chaperone DnaJ | dnaJ | | | [BCCM](http://bccm.belspo.be/services/identification-using-sequence-analysis-housekeeping-genes-bccmlmg), [PFAM](https://pfam.xfam.org/family/DnaJ) |\n",
    "|  | rpoA | | | [BCCM](http://bccm.belspo.be/services/identification-using-sequence-analysis-housekeeping-genes-bccmlmg), |\n",
    "|  | rpoB |  |  | [BCCM](http://bccm.belspo.be/services/identification-using-sequence-analysis-housekeeping-genes-bccmlmg),  |\n",
    "|  | atpD | | | [BCCM](http://bccm.belspo.be/services/identification-using-sequence-analysis-housekeeping-genes-bccmlmg), |\n",
    "|  | infB| | | [BCCM](http://bccm.belspo.be/services/identification-using-sequence-analysis-housekeeping-genes-bccmlmg), |\n",
    "|  |  |  |  |  |\n",
    "|  |  |  |  |  |\n"
   ]
  },
  {
   "cell_type": "code",
   "execution_count": null,
   "metadata": {},
   "outputs": [],
   "source": []
  }
 ],
 "metadata": {
  "kernelspec": {
   "display_name": "Python [conda env:django]",
   "language": "python",
   "name": "conda-env-django-py"
  },
  "language_info": {
   "codemirror_mode": {
    "name": "ipython",
    "version": 3
   },
   "file_extension": ".py",
   "mimetype": "text/x-python",
   "name": "python",
   "nbconvert_exporter": "python",
   "pygments_lexer": "ipython3",
   "version": "3.5.2"
  }
 },
 "nbformat": 4,
 "nbformat_minor": 2
}
