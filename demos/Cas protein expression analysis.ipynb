{
 "cells": [
  {
   "cell_type": "markdown",
   "metadata": {},
   "source": [
    "# Cas protein and spacer cassette analysis \n",
    "### Relating expression to spacer cassette size (hopefully)\n",
    "\n",
    "Plan:\n",
    "1. Filter Cas protein results in database to only those that are near a CRISPR casette, and/or filter only high e-value hits or certain protein types. \n",
    "2. Get neighbouring casette lengths (copy code from locus number of spacers analysis)\n",
    "3. Get DNA for *cas* genes and get codons, run through a codon usage analyzer\n",
    "\n",
    "Will need to download genomes as well."
   ]
  },
  {
   "cell_type": "code",
   "execution_count": 1,
   "metadata": {},
   "outputs": [],
   "source": [
    "import requests\n",
    "import json\n",
    "import numpy as np\n",
    "import random\n",
    "import matplotlib.pyplot as plt\n",
    "from matplotlib import mlab\n",
    "import seaborn as sns\n",
    "import pandas as pd\n",
    "from scipy import stats\n",
    "from tqdm import tqdm\n",
    "from Bio import SeqIO\n",
    "\n",
    "sns.set_palette(\"husl\")"
   ]
  },
  {
   "cell_type": "code",
   "execution_count": 2,
   "metadata": {},
   "outputs": [],
   "source": [
    "#Url of the phageParser API\n",
    "apiurl = 'https://phageparser.herokuapp.com'\n",
    "#Get the initial page for listing of accessible objects and get url for organisms and casproteins\n",
    "url_json=requests.get(apiurl).json()\n",
    "organisms_url = url_json['organisms']\n",
    "cas_proteins_url = url_json['casproteins']\n",
    "organism_cas_url = url_json['organismcas']\n",
    "loci_url = url_json['loci']"
   ]
  },
  {
   "cell_type": "code",
   "execution_count": 3,
   "metadata": {},
   "outputs": [],
   "source": [
    "#Iterate through each page and merge the json response into a dictionary for cas proteins\n",
    "cas_protein_dict = {}\n",
    "r=requests.get(cas_proteins_url)\n",
    "last_page = r.json()['meta']['total_pages']\n",
    "for page in range(1,last_page+1):\n",
    "    url = cas_proteins_url+'?page={}'.format(page)\n",
    "    payload = requests.get(url).json()\n",
    "    cas_protein_objs = payload['cas_proteins']\n",
    "    for cas_protein_obj in cas_protein_objs:\n",
    "        cas_protein_dict[cas_protein_obj['id']] = cas_protein_obj"
   ]
  },
  {
   "cell_type": "code",
   "execution_count": 4,
   "metadata": {},
   "outputs": [],
   "source": [
    "#Iterate through each page and merge the json response into a dictionary for organisms\n",
    "organism_dict = {}\n",
    "r=requests.get(organisms_url)\n",
    "last_page = r.json()['meta']['total_pages']\n",
    "for page in tqdm(range(1,last_page+1)):\n",
    "    url = organisms_url+'?page={}&include[]=cas_proteins&include[]=loci.spacers'.format(page)\n",
    "    payload = requests.get(url).json()\n",
    "    organism_objs = payload['organisms']\n",
    "    for organism_obj in organism_objs:\n",
    "        organism_dict[organism_obj['id']] = organism_obj"
   ]
  },
  {
   "cell_type": "code",
   "execution_count": null,
   "metadata": {},
   "outputs": [
    {
     "name": "stderr",
     "output_type": "stream",
     "text": [
      " 37%|███▋      | 166/446 [04:20<11:09,  2.39s/it]"
     ]
    }
   ],
   "source": [
    "# Iterate through each page and merge the json response into a dictionary for organism_cas\n",
    "# this takes a long time\n",
    "organism_cas_dict = {}\n",
    "r = requests.get(organism_cas_url)\n",
    "last_page = r.json()['meta']['total_pages']\n",
    "for page in tqdm(range(1, last_page+1)):\n",
    "    url = organism_cas_url+'?page={}'.format(page)\n",
    "    payload = requests.get(url).json()\n",
    "    organism_cas_objs = payload['organism_cas_proteins']\n",
    "    for organism_cas_obj in organism_cas_objs:\n",
    "        organism_cas_dict[organism_cas_obj['id']] = organism_cas_obj"
   ]
  },
  {
   "cell_type": "code",
   "execution_count": 5,
   "metadata": {},
   "outputs": [
    {
     "name": "stderr",
     "output_type": "stream",
     "text": [
      "100%|██████████| 18/18 [01:21<00:00,  4.08s/it]\n"
     ]
    }
   ],
   "source": [
    "# Iterate through each page and merge the json response into a dictionary for loci\n",
    "loci_dict = {}\n",
    "r = requests.get(loci_url)\n",
    "last_page = r.json()['meta']['total_pages']\n",
    "for page in tqdm(range(1, last_page+1)):\n",
    "    url = loci_url+'?page={}&include[]=spacers'.format(page)\n",
    "    payload = requests.get(url).json()\n",
    "    loci_objs = payload['locus']\n",
    "    for locus_obj in loci_objs:\n",
    "        loci_dict[locus_obj['id']] = locus_obj"
   ]
  },
  {
   "cell_type": "code",
   "execution_count": null,
   "metadata": {},
   "outputs": [],
   "source": [
    "# create dictionary with the info and positions of all cas proteins in each organism\n",
    "# note: this may be longer than the list of cas proteins in the organism dict, since some proteins may appear twice\n",
    "from collections import defaultdict\n",
    "\n",
    "organism_to_cas_dict = defaultdict(dict)\n",
    "for i, values in organism_cas_dict.items():\n",
    "    organism_to_cas_dict[values['organism']][i] = values"
   ]
  },
  {
   "cell_type": "markdown",
   "metadata": {},
   "source": [
    "### Retain only cas proteins near a cassette"
   ]
  },
  {
   "cell_type": "code",
   "execution_count": null,
   "metadata": {},
   "outputs": [],
   "source": [
    "distance_from_locus = 50000 # base pairs, look up what would be a good value\n",
    "# a cas9 sequence that I randomly found is like 9000 bp, so 50 000 seems like a reasonable cutoff.\n",
    "# also the cutoff doesn't really matter - the numbers are the same whether the cutoff is 50 000 or 500 000"
   ]
  },
  {
   "cell_type": "code",
   "execution_count": null,
   "metadata": {},
   "outputs": [],
   "source": [
    "organism_names = []\n",
    "loci = []\n",
    "cas_genes = []\n",
    "cas_near_cassette_dict = defaultdict(dict)\n",
    "\n",
    "for organism_id in organism_dict.keys():\n",
    "\n",
    "    # search_window[0] must be less than search_window[1]\n",
    "\n",
    "    search_windows = {}\n",
    "    for locus in organism_dict[organism_id]['loci']:\n",
    "        # check that start is less than end\n",
    "        if not locus['genomic_start'] < locus['genomic_end']:\n",
    "            print('end is less than start')\n",
    "        search_windows[locus['id']] = {'window': [locus['genomic_start'] - 1000, locus['genomic_end'] + 1000]}\n",
    "    \n",
    "    for locus_id, windows in search_windows.items():\n",
    "        for cas_id, values in organism_to_cas_dict[organism_id].items():\n",
    "            #print(values['genomic_start'])\n",
    "            if values['genomic_start'] > windows['window'][0] and values['genomic_end'] < windows['window'][1]:\n",
    "                #print(organism_id, organism_dict[organism_id]['accession'], organism_dict[organism_id]['name'], locus_id)\n",
    "                organism_names.append(\"%s %s\\n\" %(organism_dict[organism_id]['accession'], organism_dict[organism_id]['name']))\n",
    "                loci.append(locus_id)\n",
    "                cas_genes.append(values['casprotein'])\n",
    "                cas_near_cassette_dict[organism_id][cas_id] = values\n",
    "                cas_near_cassette_dict[organism_id][cas_id]['locus'] = locus_id # also add locus id\n",
    "                "
   ]
  },
  {
   "cell_type": "code",
   "execution_count": null,
   "metadata": {},
   "outputs": [],
   "source": [
    "print(len(set(organism_names)))\n",
    "print(len(set(loci)))\n",
    "print(len(set(cas_genes)))\n",
    "print(len(cas_genes))\n",
    "print(len(cas_protein_dict))"
   ]
  },
  {
   "cell_type": "code",
   "execution_count": 10,
   "metadata": {},
   "outputs": [],
   "source": [
    "# save list of organisms that have cas proteins near casettes\n",
    "organism_names = list(set(organism_names))\n",
    "\n",
    "with open('organism_names.txt', 'w') as file:\n",
    "    for line in organism_names:\n",
    "        file.write(line)"
   ]
  },
  {
   "cell_type": "code",
   "execution_count": null,
   "metadata": {},
   "outputs": [],
   "source": [
    "# create accession list\n",
    "!cat organism_names.txt | cut -d\" \" -f1 > organism_accessions.txt\n",
    "\n",
    "# download all organism genomes that were found to be hits\n",
    "#!cat organism_accessions.txt | python ../parserscripts/acc2gb.py your@email.com nuccore fasta_cds_na > cas_bacteria.dat"
   ]
  },
  {
   "cell_type": "markdown",
   "metadata": {},
   "source": [
    "Need CDS regions for the AnaCoDa thing, so to download CDS fasta I think use `fasta_cds_na` (nucleotides for cds) or `fasta_cds_aa` (translated amino acids for cds). "
   ]
  },
  {
   "cell_type": "code",
   "execution_count": 5,
   "metadata": {},
   "outputs": [
    {
     "name": "stderr",
     "output_type": "stream",
     "text": [
      "1200252it [01:45, 11389.05it/s]\n"
     ]
    }
   ],
   "source": [
    "# split fasta file for all organisms into files separated by organism - only run once\n",
    "\n",
    "current_accession = 0\n",
    "past_accession = 0\n",
    "\n",
    "for record in tqdm(SeqIO.parse(\"cas_bacteria.dat\", \"fasta\")):\n",
    "    header = record.id\n",
    "    accession = header.rsplit('|')[1].rsplit('.')[0]\n",
    "    current_accession = accession\n",
    "    if current_accession != past_accession: # start a new file\n",
    "        with open(\"%s.fasta\" %accession, \"w\") as output_handle:\n",
    "            SeqIO.write(record, output_handle, \"fasta\")\n",
    "    else:\n",
    "        with open(\"%s.fasta\" %accession, \"a\") as output_handle:\n",
    "            SeqIO.write(record, output_handle, \"fasta\")\n",
    "    past_accession = current_accession"
   ]
  },
  {
   "cell_type": "code",
   "execution_count": null,
   "metadata": {},
   "outputs": [],
   "source": [
    "# link cas genes to their position in the cds list\n",
    "for record in tqdm(SeqIO.parse(\"cas_bacteria.dat\", \"fasta\")):\n",
    "    header = record.id\n",
    "    accession = header.rsplit('|')[1].rsplit('.')[0]\n",
    "    org_id = accession_to_organism_id[accession]\n",
    "    cds_number = int(header.split('_')[-1])\n",
    "    description = record.description\n",
    "    current_accession = accession\n",
    "\n",
    "    for key, value in cas_near_cassette_dict[org_id].items():\n",
    "        try: \n",
    "            start = description.index(str(value['genomic_start']))\n",
    "            end = description.index(str(value['genomic_end']))\n",
    "            cas_near_cassette_dict[org_id][key]['cds_number'] = cds_number\n",
    "            #print(org_id)\n",
    "        except:\n",
    "            print(value)\n",
    "            pass"
   ]
  },
  {
   "cell_type": "code",
   "execution_count": null,
   "metadata": {},
   "outputs": [],
   "source": [
    "# create dictionary linking accession numbers and organism IDs\n",
    "accession_to_organism_id = {}\n",
    "for key, values in organism_dict.items():\n",
    "    accession_to_organism_id[values['accession']] = key"
   ]
  },
  {
   "cell_type": "markdown",
   "metadata": {},
   "source": [
    "## Analysis plan\n",
    "\n",
    "1. Get expression model data using the [AnaCoDa R package](https://rdrr.io/cran/AnaCoDa/f/inst/doc/anacoda.Rmd), save file as `accession-expression.csv`\n",
    "2. Load expression data using pandas\n",
    "3. Get cas gene ids: \n",
    "```\n",
    "cas_gene_positions = []\n",
    "for val in cas_near_cassette_dict[accession_to_organism_id['NZ_CP015184']].values():\n",
    "    cas_gene_positions.append(val['cds_number'])\n",
    "```\n",
    "4. The gene ids-1 are the index for the expression data frame (b/c zero indexing) **expression levels**\n",
    "5. Get associated locus size: \n",
    "```\n",
    "associated_loci = []\n",
    "loci_lengths = []\n",
    "for val in cas_near_cassette_dict[accession_to_organism_id['NZ_CP015184']].values():\n",
    "    associated_loci.append(val['locus'])\n",
    "    loci_lengths.append(len(loci_dict[val['locus']]['spacers'])\n",
    "```\n",
    "6. Multiple genes may be associated with the same locus, but now `cas_gene_positions` and `associated_loci` should be the same length to match them up (locus indices may be repeated). **locus lengths**\n",
    "\n",
    "Annddd.... done! Make a sweet plot"
   ]
  },
  {
   "cell_type": "markdown",
   "metadata": {},
   "source": [
    "Removed genome NZ_CP009177 from organism accession list - causing errors"
   ]
  },
  {
   "cell_type": "code",
   "execution_count": 126,
   "metadata": {},
   "outputs": [],
   "source": [
    "# get list of which organisms have been analyzed\n",
    "!ls *expression.csv | cut -d\"-\" -f1 > done_accessions.txt "
   ]
  },
  {
   "cell_type": "code",
   "execution_count": null,
   "metadata": {},
   "outputs": [],
   "source": [
    "accessions_done = pd.read_csv(\"done_accessions.txt\", names = ['acc'])\n",
    "\n",
    "expression_list = []\n",
    "locus_size_list = []\n",
    "for accession in accessions_done.acc:\n",
    "\n",
    "    expression = pd.read_csv(\"%s-expression.csv\" %accession)\n",
    "    #print(np.mean(expression.PHI))\n",
    "    names_split = expression[\"names\"].str.rsplit(\"_\", n=1, expand = True)  # split names column from the right to isolate cds position\n",
    "    expression[\"protein_position\"] = names_split.iloc[:,-1] # create column for cds position\n",
    "    expression[\"protein_position\"] = pd.to_numeric(expression[\"protein_position\"]) # convert to numeric\n",
    "    \n",
    "    cas_gene_positions = []\n",
    "    for val in cas_near_cassette_dict[accession_to_organism_id[accession]].values():\n",
    "        cas_gene_positions.append(val['cds_number'])\n",
    "        \n",
    "    associated_loci = []\n",
    "    loci_lengths = []\n",
    "    for val in cas_near_cassette_dict[accession_to_organism_id[accession]].values():\n",
    "        associated_loci.append(val['locus'])\n",
    "        loci_lengths.append(len(loci_dict[val['locus']]['spacers']))\n",
    "        \n",
    "    # get expression level for the cas genes in the organism (normalize by mean expression level)\n",
    "    expression_vals = expression.loc[expression[\"protein_position\"].isin(cas_gene_positions)].PHI / np.mean(expression.PHI)\n",
    "    if expression_vals.empty:\n",
    "        print(expression_vals)\n",
    "        expression_vals_empty = expression\n",
    "        cas_gene_positions_empty = cas_gene_positions\n",
    "    \n",
    "    expression_list.append(list(expression_vals))\n",
    "    locus_size_list.append(loci_lengths)\n",
    "    "
   ]
  },
  {
   "cell_type": "code",
   "execution_count": 128,
   "metadata": {},
   "outputs": [
    {
     "data": {
      "text/plain": [
       "46"
      ]
     },
     "execution_count": 128,
     "metadata": {},
     "output_type": "execute_result"
    }
   ],
   "source": [
    "len(accessions_done)"
   ]
  },
  {
   "cell_type": "code",
   "execution_count": 124,
   "metadata": {},
   "outputs": [
    {
     "data": {
      "text/plain": [
       "{'id': 12543,\n",
       " 'organism': 2299,\n",
       " 'casprotein': 20,\n",
       " 'genomic_start': 3598531,\n",
       " 'genomic_end': 3598824,\n",
       " 'evalue': 2.1e-38,\n",
       " 'locus': 2278}"
      ]
     },
     "execution_count": 124,
     "metadata": {},
     "output_type": "execute_result"
    }
   ],
   "source": [
    "val"
   ]
  },
  {
   "cell_type": "code",
   "execution_count": 113,
   "metadata": {},
   "outputs": [],
   "source": [
    "# flatten lists\n",
    "\n",
    "expression_list_flat = [item for sublist in expression_list for item in sublist] \n",
    "locus_size_list_flat = [item for sublist in locus_size_list for item in sublist] \n"
   ]
  },
  {
   "cell_type": "code",
   "execution_count": 114,
   "metadata": {},
   "outputs": [],
   "source": [
    "from scipy.optimize import curve_fit\n",
    "\n",
    "def line(x, A, B): # this is your 'straight line' y=f(x)\n",
    "    return A*x + B\n",
    "\n",
    "A,B = curve_fit(line, locus_size_list_flat, expression_list_flat)[0] # your data x, y to fit"
   ]
  },
  {
   "cell_type": "code",
   "execution_count": 119,
   "metadata": {},
   "outputs": [
    {
     "data": {
      "text/plain": [
       "<matplotlib.collections.PathCollection at 0x7f313d636438>"
      ]
     },
     "execution_count": 119,
     "metadata": {},
     "output_type": "execute_result"
    },
    {
     "data": {
      "image/png": "[encoded data removed]",
      "text/plain": [
       "<Figure size 432x288 with 1 Axes>"
      ]
     },
     "metadata": {
      "needs_background": "light"
     },
     "output_type": "display_data"
    }
   ],
   "source": [
    "fig, ax = plt.subplots()\n",
    "ax.set_xscale('log')\n",
    "ax.scatter(locus_size_list_flat, expression_list_flat, alpha = 0.8)\n",
    "#ax.plot(locus_size_list_flat, np.array(locus_size_list_flat)*A+B)"
   ]
  },
  {
   "cell_type": "code",
   "execution_count": 169,
   "metadata": {},
   "outputs": [
    {
     "data": {
      "text/plain": [
       "[[3], [8], [15], [1, 1]]"
      ]
     },
     "execution_count": 169,
     "metadata": {},
     "output_type": "execute_result"
    }
   ],
   "source": [
    "locus_size_list"
   ]
  },
  {
   "cell_type": "code",
   "execution_count": null,
   "metadata": {},
   "outputs": [],
   "source": []
  },
  {
   "cell_type": "code",
   "execution_count": 159,
   "metadata": {},
   "outputs": [
    {
     "data": {
      "text/plain": [
       "[3186, 3186]"
      ]
     },
     "execution_count": 159,
     "metadata": {},
     "output_type": "execute_result"
    }
   ],
   "source": [
    "associated_loci"
   ]
  },
  {
   "cell_type": "code",
   "execution_count": 158,
   "metadata": {},
   "outputs": [
    {
     "data": {
      "text/plain": [
       "[1, 1]"
      ]
     },
     "execution_count": 158,
     "metadata": {},
     "output_type": "execute_result"
    }
   ],
   "source": [
    "loci_lengths"
   ]
  },
  {
   "cell_type": "markdown",
   "metadata": {},
   "source": [
    "From their paper, \"the units of phi are proteins per time, and time is scaled such that the the prior for phi satisfies E(phi) = 1.\" I don't really know what that means, but it hopefully means that results are comparable across genomes?"
   ]
  },
  {
   "cell_type": "code",
   "execution_count": 153,
   "metadata": {},
   "outputs": [
    {
     "data": {
      "text/plain": [
       "(array([267., 615., 530., 310., 171.,  96.,  52.,  32.,  17.,  16.,  15.,\n",
       "          5.,   8.,  12.,   6.,   4.,   1.,   1.,   1.,   1.]),\n",
       " array([0.19174138, 0.46599141, 0.74024145, 1.01449148, 1.28874152,\n",
       "        1.56299155, 1.83724159, 2.11149162, 2.38574166, 2.65999169,\n",
       "        2.93424173, 3.20849176, 3.4827418 , 3.75699183, 4.03124187,\n",
       "        4.3054919 , 4.57974194, 4.85399197, 5.12824201, 5.40249204,\n",
       "        5.67674208]),\n",
       " <a list of 20 Patch objects>)"
      ]
     },
     "execution_count": 153,
     "metadata": {},
     "output_type": "execute_result"
    },
    {
     "data": {
      "image/png": "[encoded data removed]",
      "text/plain": [
       "<Figure size 432x288 with 1 Axes>"
      ]
     },
     "metadata": {
      "needs_background": "light"
     },
     "output_type": "display_data"
    }
   ],
   "source": [
    "plt.hist(expression_list[3].PHI, bins = 20)"
   ]
  },
  {
   "cell_type": "code",
   "execution_count": 224,
   "metadata": {},
   "outputs": [],
   "source": [
    "organism_id = 25\n",
    "\n",
    "search_windows = {}\n",
    "for locus in organism_dict[organism_id]['loci']:\n",
    "    # check that start is less than end\n",
    "    if not locus['genomic_start'] < locus['genomic_end']:\n",
    "        print('end is less than start')\n",
    "    search_windows[locus['id']] = {'window': [locus['genomic_start'] - 1000, locus['genomic_end'] + 1000]}\n",
    "\n"
   ]
  },
  {
   "cell_type": "code",
   "execution_count": 235,
   "metadata": {},
   "outputs": [
    {
     "name": "stdout",
     "output_type": "stream",
     "text": [
      "{'id': 100592, 'organism': 25, 'casprotein': 305, 'genomic_start': 108876, 'genomic_end': 109115, 'evalue': 5.3e-09}\n",
      "{'id': 100593, 'organism': 25, 'casprotein': 140, 'genomic_start': 109222, 'genomic_end': 109647, 'evalue': 2.7e-74}\n",
      "{'id': 100593, 'organism': 25, 'casprotein': 140, 'genomic_start': 109222, 'genomic_end': 109647, 'evalue': 2.7e-74}\n"
     ]
    }
   ],
   "source": [
    "plot_regions = []\n",
    "for loci in organism_dict[organism_id]['loci']:\n",
    "    #print(loci['genomic_start'], loci['genomic_end'])\n",
    "    plot_regions.append({'position': [loci['genomic_start'], loci['genomic_end']], 'label': 'casette'})\n",
    "    \n",
    "for locus_id, windows in search_windows.items():\n",
    "    for cas_id, values in organism_to_cas_dict[organism_id].items():\n",
    "        #print(values['genomic_start'])\n",
    "        if values['genomic_start'] > windows['window'][0] and values['genomic_end'] < windows['window'][1]:\n",
    "            #print(str(organism_id) + 'yes')\n",
    "            plot_regions.append({'position': [values['genomic_start'], values['genomic_end']], \n",
    "                                 'label': cas_protein_dict[values['casprotein']]['gene']})\n",
    "            print(values)\n",
    "    "
   ]
  },
  {
   "cell_type": "code",
   "execution_count": null,
   "metadata": {},
   "outputs": [],
   "source": []
  },
  {
   "cell_type": "code",
   "execution_count": 226,
   "metadata": {},
   "outputs": [
    {
     "data": {
      "text/plain": [
       "[{'position': [120875, 121147], 'label': 'casette'},\n",
       " {'position': [109850, 110064], 'label': 'casette'},\n",
       " {'position': [115342, 115737], 'label': 'casette'},\n",
       " {'position': [110210, 110850], 'label': 'casette'},\n",
       " {'position': [108876, 109115], 'label': 'cse2gr11'},\n",
       " {'position': [109222, 109647], 'label': 'cas7'},\n",
       " {'position': [109222, 109647], 'label': 'cas7'}]"
      ]
     },
     "execution_count": 226,
     "metadata": {},
     "output_type": "execute_result"
    }
   ],
   "source": [
    "plot_regions"
   ]
  },
  {
   "cell_type": "markdown",
   "metadata": {},
   "source": [
    "In the NCBI database for this organism, the closest CDS regions for the cas genes are:\n",
    "\n",
    "```\n",
    "complement(108876..109115)\n",
    "                     /locus_tag=\"GZL_RS47195\"\n",
    "                     /inference=\"COORDINATES: similar to AA\n",
    "                     sequence:RefSeq:WP_006272258.1\"\n",
    "                     /note=\"Derived by automated computational analysis using\n",
    "                     gene prediction method: Protein Homology.\"\n",
    "                     /codon_start=1\n",
    "                     /transl_table=11\n",
    "                     /product=\"hypothetical protein\"\n",
    "                     /protein_id=\"WP_078876378.1\"\n",
    "                     /translation=\"MVLDPFGGTGTTAAAAKVLGRVGISVDLSPAYTRTAASPSPTPS\n",
    "                     ANGVARPAGEWGSSSPQSSNWSTLWWMARLRLTLS\"\n",
    "```\n",
    "\n",
    "```\n",
    "109222..109647\n",
    "                     /locus_tag=\"GZL_RS43525\"\n",
    "                     /old_locus_tag=\"GZL_p00118\"\n",
    "                     /inference=\"COORDINATES: ab initio prediction:GeneMarkS+\"\n",
    "                     /note=\"Derived by automated computational analysis using\n",
    "                     gene prediction method: GeneMarkS+.\"\n",
    "                     /codon_start=1\n",
    "                     /transl_table=11\n",
    "                     /product=\"hypothetical protein\"\n",
    "                     /protein_id=\"WP_040108171.1\"\n",
    "                     /translation=\"MHRDVTARPWAREREQARAWQAVVAARAEAAAARPEENVDVSVV\n",
    "                     APAPVVLPAPRPSAAATEPELEDADDDQDLVLEDLTREQVLGWRDRAATDHQIVHDHI\n",
    "                     ARYGEHSAQRLFTRAFVATVQRLSHLGHLDLGYTPWRQA\"\n",
    "```\n",
    "\n",
    "So the good news is, the windows that the database outputs correspond to true CDS regions in NCBI, and we can get the translation from NCBI if necessary. Perhaps we should download the genbank files? or will it work to translate them ourselves?"
   ]
  },
  {
   "cell_type": "code",
   "execution_count": 227,
   "metadata": {},
   "outputs": [
    {
     "data": {
      "text/plain": [
       "<matplotlib.legend.Legend at 0x7ff58ecdbb00>"
      ]
     },
     "execution_count": 227,
     "metadata": {},
     "output_type": "execute_result"
    },
    {
     "data": {
      "image/png": "[encoded data removed]",
      "text/plain": [
       "<Figure size 1440x144 with 1 Axes>"
      ]
     },
     "metadata": {
      "needs_background": "light"
     },
     "output_type": "display_data"
    }
   ],
   "source": [
    "fig, ax = plt.subplots(figsize = (20,2))\n",
    "\n",
    "# get max range needed\n",
    "min_value = 10**10\n",
    "max_value = 0\n",
    "for region in plot_regions:\n",
    "    if region['position'][0] < min_value:\n",
    "        min_value = region['position'][0]\n",
    "    if region['position'][1] > max_value:\n",
    "        max_value = region['position'][1]\n",
    "     \n",
    "    #if region['label'] == 'casette':\n",
    "    #    colour = 'b'\n",
    "    #else:\n",
    "    #    colour = 'g'\n",
    "    if region['label'] == 'casette':\n",
    "        ax.fill_between([region['position'][0], region['position'][1]],0,1, color = 'b')\n",
    "    else:\n",
    "        ax.fill_between([region['position'][0], region['position'][1]],0,1, label = region['label'])\n",
    "\n",
    "#ax.set_xlim(1893000, 1910000)\n",
    "#ax.set_xlim(748000, 753000)\n",
    "ax.legend(loc='best')\n",
    "    "
   ]
  },
  {
   "cell_type": "code",
   "execution_count": 228,
   "metadata": {},
   "outputs": [
    {
     "name": "stdout",
     "output_type": "stream",
     "text": [
      "NZ_CP003988\n",
      "Streptomyces sp. 769\n",
      "Fetching 1 entries from GenBank: NZ_CP003988\n"
     ]
    }
   ],
   "source": [
    "# download a bacterial genome\n",
    "\n",
    "accession = organism_dict[organism_id]['accession']\n",
    "print(accession)\n",
    "print(organism_dict[organism_id]['name'])\n",
    "!echo \"$accession\" | python ../parserscripts/acc2gb.py madeleine.bonsma@gmail.com nuccore fasta > \"$accession\".dat"
   ]
  },
  {
   "cell_type": "code",
   "execution_count": 229,
   "metadata": {},
   "outputs": [],
   "source": [
    "from Bio import SeqIO\n",
    "for record in SeqIO.parse(\"%s.dat\" %accession, \"fasta\"):\n",
    "    genome = record.seq"
   ]
  },
  {
   "cell_type": "code",
   "execution_count": null,
   "metadata": {},
   "outputs": [],
   "source": [
    "from Bio import Seq\n",
    "print(Seq.transcribe(Seq.reverse_complement(genome[109222:109647])))\n",
    "print(Seq.translate((genome[109222:109647])))"
   ]
  },
  {
   "cell_type": "code",
   "execution_count": 233,
   "metadata": {},
   "outputs": [
    {
     "data": {
      "text/plain": [
       "141.66666666666666"
      ]
     },
     "execution_count": 233,
     "metadata": {},
     "output_type": "execute_result"
    }
   ],
   "source": [
    "len(genome[109222:109647])/3"
   ]
  },
  {
   "cell_type": "code",
   "execution_count": 230,
   "metadata": {},
   "outputs": [
    {
     "name": "stdout",
     "output_type": "stream",
     "text": [
      "TGCACCGGGACGTGACGGCCAGGCCGTGGGCGCGCGAGCGCGAACAGGCCCGCGCCTGGCAGGCGGTCGTCGCAGCGCGCGCCGAAGCCGCGGCCGCGCGGCCCGAGGAGAACGTCGACGTCTCGGTCGTTGCGCCGGCACCGGTCGTCTTGCCCGCGCCCCGCCCGTCCGCCGCCGCTACGGAGCCGGAGCTCGAGGACGCCGACGACGACCAGGATCTGGTCCTCGAGGACTTGACGCGCGAGCAGGTGCTGGGCTGGCGCGACCGCGCTGCCACCGATCACCAGATCGTCCACGACCACATCGCCCGGTACGGCGAGCACTCGGCGCAGAGGCTGTTCACCCGGGCATTCGTCGCGACCGTGCAGCGCCTGTCCCACCTCGGGCACCTCGACCTTGGCTACACCCCATGGAGGCAGGCGTGA\n"
     ]
    }
   ],
   "source": [
    "print(genome[109222:109647])"
   ]
  },
  {
   "cell_type": "markdown",
   "metadata": {},
   "source": [
    "Current issue: these don't look like obvious proteins in the sense of having a start codon at one end and a stop at the other. Translate all ORFs? How to identify which are the actual codons? Maybe the hmmer documentation has some info about this."
   ]
  }
 ],
 "metadata": {
  "kernelspec": {
   "display_name": "Python [conda env:phageParser]",
   "language": "python",
   "name": "conda-env-phageParser-py"
  },
  "language_info": {
   "codemirror_mode": {
    "name": "ipython",
    "version": 3
   },
   "file_extension": ".py",
   "mimetype": "text/x-python",
   "name": "python",
   "nbconvert_exporter": "python",
   "pygments_lexer": "ipython3",
   "version": "3.6.8"
  }
 },
 "nbformat": 4,
 "nbformat_minor": 2
}
