{
 "cells": [
  {
   "cell_type": "markdown",
   "metadata": {},
   "source": [
    "# Cas protein and spacer cassette analysis \n",
    "### Relating expression to spacer cassette size (hopefully)\n",
    "\n",
    "Plan:\n",
    "1. Filter Cas protein results in database to only those that are near a CRISPR casette, and/or filter only high e-value hits or certain protein types. \n",
    "2. Get neighbouring casette lengths (copy code from locus number of spacers analysis)\n",
    "3. Get DNA for *cas* genes and get codons, run through a codon usage analyzer\n",
    "\n",
    "Will need to download genomes as well."
   ]
  },
  {
   "cell_type": "markdown",
   "metadata": {},
   "source": [
    "### To-do\n",
    "- [x] Check git log on school Lenovo, get details of database creation (number of genomes analyzed, CRISPRfinder parameters, etc)\n"
   ]
  },
  {
   "cell_type": "code",
   "execution_count": 1,
   "metadata": {},
   "outputs": [],
   "source": [
    "%matplotlib inline"
   ]
  },
  {
   "cell_type": "code",
   "execution_count": 2,
   "metadata": {},
   "outputs": [],
   "source": [
    "import requests\n",
    "import json\n",
    "import numpy as np\n",
    "import random\n",
    "import matplotlib.pyplot as plt\n",
    "from matplotlib import mlab\n",
    "import seaborn as sns\n",
    "import pandas as pd\n",
    "from scipy import stats\n",
    "from tqdm import tqdm\n",
    "from Bio import SeqIO\n",
    "\n",
    "sns.set_palette(\"husl\")"
   ]
  },
  {
   "cell_type": "code",
   "execution_count": 3,
   "metadata": {},
   "outputs": [],
   "source": [
    "#Url of the phageParser API\n",
    "apiurl = 'https://phageparser.herokuapp.com'\n",
    "#Get the initial page for listing of accessible objects and get url for organisms and casproteins\n",
    "url_json=requests.get(apiurl).json()\n",
    "organisms_url = url_json['organisms']\n",
    "cas_proteins_url = url_json['casproteins']\n",
    "organism_cas_url = url_json['organismcas']\n",
    "loci_url = url_json['loci']"
   ]
  },
  {
   "cell_type": "code",
   "execution_count": 4,
   "metadata": {},
   "outputs": [
    {
     "name": "stderr",
     "output_type": "stream",
     "text": [
      "100%|██████████| 1/1 [00:01<00:00,  1.36s/it]\n"
     ]
    }
   ],
   "source": [
    "#Iterate through each page and merge the json response into a dictionary for cas proteins\n",
    "cas_protein_dict = {}\n",
    "r=requests.get(cas_proteins_url)\n",
    "last_page = r.json()['meta']['total_pages']\n",
    "for page in tqdm(range(1,last_page+1)):\n",
    "    url = cas_proteins_url+'?page={}'.format(page)\n",
    "    payload = requests.get(url).json()\n",
    "    cas_protein_objs = payload['cas_proteins']\n",
    "    for cas_protein_obj in cas_protein_objs:\n",
    "        cas_protein_dict[cas_protein_obj['id']] = cas_protein_obj"
   ]
  },
  {
   "cell_type": "code",
   "execution_count": 5,
   "metadata": {},
   "outputs": [
    {
     "name": "stderr",
     "output_type": "stream",
     "text": [
      "100%|██████████| 7/7 [02:29<00:00, 22.73s/it]\n"
     ]
    }
   ],
   "source": [
    "#Iterate through each page and merge the json response into a dictionary for organisms\n",
    "organism_dict = {}\n",
    "r=requests.get(organisms_url)\n",
    "last_page = r.json()['meta']['total_pages']\n",
    "for page in tqdm(range(1,last_page+1)):\n",
    "    url = organisms_url+'?page={}&include[]=cas_proteins&include[]=loci.spacers'.format(page)\n",
    "    payload = requests.get(url).json()\n",
    "    organism_objs = payload['organisms']\n",
    "    for organism_obj in organism_objs:\n",
    "        organism_dict[organism_obj['id']] = organism_obj"
   ]
  },
  {
   "cell_type": "code",
   "execution_count": 6,
   "metadata": {},
   "outputs": [
    {
     "name": "stderr",
     "output_type": "stream",
     "text": [
      "100%|██████████| 446/446 [15:57<00:00,  1.43s/it]\n"
     ]
    }
   ],
   "source": [
    "# Iterate through each page and merge the json response into a dictionary for organism_cas\n",
    "# this takes a long time\n",
    "organism_cas_dict = {}\n",
    "r = requests.get(organism_cas_url)\n",
    "last_page = r.json()['meta']['total_pages']\n",
    "for page in tqdm(range(1, last_page+1)):\n",
    "    url = organism_cas_url+'?page={}'.format(page)\n",
    "    payload = requests.get(url).json()\n",
    "    organism_cas_objs = payload['organism_cas_proteins']\n",
    "    for organism_cas_obj in organism_cas_objs:\n",
    "        organism_cas_dict[organism_cas_obj['id']] = organism_cas_obj"
   ]
  },
  {
   "cell_type": "code",
   "execution_count": 7,
   "metadata": {},
   "outputs": [
    {
     "name": "stderr",
     "output_type": "stream",
     "text": [
      "100%|██████████| 18/18 [02:47<00:00,  6.60s/it]\n"
     ]
    }
   ],
   "source": [
    "# Iterate through each page and merge the json response into a dictionary for loci\n",
    "loci_dict = {}\n",
    "r = requests.get(loci_url)\n",
    "last_page = r.json()['meta']['total_pages']\n",
    "for page in tqdm(range(1, last_page+1)):\n",
    "    url = loci_url+'?page={}&include[]=spacers'.format(page)\n",
    "    payload = requests.get(url).json()\n",
    "    loci_objs = payload['locus']\n",
    "    for locus_obj in loci_objs:\n",
    "        loci_dict[locus_obj['id']] = locus_obj"
   ]
  },
  {
   "cell_type": "code",
   "execution_count": 8,
   "metadata": {},
   "outputs": [],
   "source": [
    "# create dictionary with the info and positions of all cas proteins in each organism\n",
    "# note: this may be longer than the list of cas proteins in the organism dict, since some proteins may appear twice\n",
    "from collections import defaultdict\n",
    "\n",
    "organism_to_cas_dict = defaultdict(dict)\n",
    "for i, values in organism_cas_dict.items():\n",
    "    organism_to_cas_dict[values['organism']][i] = values"
   ]
  },
  {
   "cell_type": "markdown",
   "metadata": {},
   "source": [
    "### Retain only cas proteins near a cassette"
   ]
  },
  {
   "cell_type": "code",
   "execution_count": 9,
   "metadata": {},
   "outputs": [],
   "source": [
    "distance_from_locus = 50000 # base pairs, look up what would be a good value\n",
    "# a cas9 sequence that I randomly found is like 9000 bp, so 50 000 seems like a reasonable cutoff.\n",
    "# also the cutoff doesn't really matter - the numbers are the same whether the cutoff is 50 000 or 500 000"
   ]
  },
  {
   "cell_type": "code",
   "execution_count": 10,
   "metadata": {},
   "outputs": [],
   "source": [
    "organism_names = []\n",
    "loci = []\n",
    "cas_genes = []\n",
    "organism_names_all = []\n",
    "cas_near_cassette_dict = defaultdict(dict)\n",
    "\n",
    "for organism_id in organism_dict.keys():\n",
    "\n",
    "    # search_window[0] must be less than search_window[1]\n",
    "\n",
    "    search_windows = {}\n",
    "    for locus in organism_dict[organism_id]['loci']:\n",
    "        # check that start is less than end\n",
    "        if not locus['genomic_start'] < locus['genomic_end']:\n",
    "            print('end is less than start')\n",
    "        search_windows[locus['id']] = {'window': [locus['genomic_start'] - 1000, locus['genomic_end'] + 1000]}\n",
    "    \n",
    "    for locus_id, windows in search_windows.items():\n",
    "        for cas_id, values in organism_to_cas_dict[organism_id].items():\n",
    "            #print(values['genomic_start'])\n",
    "            if values['genomic_start'] > windows['window'][0] and values['genomic_end'] < windows['window'][1]:\n",
    "                #print(organism_id, organism_dict[organism_id]['accession'], organism_dict[organism_id]['name'], locus_id)\n",
    "                organism_names.append(\"%s %s\\n\" %(organism_dict[organism_id]['accession'], organism_dict[organism_id]['name']))\n",
    "                loci.append(locus_id)\n",
    "                cas_genes.append(values['casprotein'])\n",
    "                cas_near_cassette_dict[organism_id][cas_id] = values\n",
    "                cas_near_cassette_dict[organism_id][cas_id]['locus'] = locus_id # also add locus id\n",
    "                \n",
    "    organism_names_all.append(\"%s %s\\n\" %(organism_dict[organism_id]['accession'], organism_dict[organism_id]['name']))\n",
    "                "
   ]
  },
  {
   "cell_type": "code",
   "execution_count": 11,
   "metadata": {},
   "outputs": [],
   "source": [
    "# create dictionary linking accession numbers and organism IDs\n",
    "accession_to_organism_id = {}\n",
    "for key, values in organism_dict.items():\n",
    "    accession_to_organism_id[values['accession']] = key"
   ]
  },
  {
   "cell_type": "code",
   "execution_count": 12,
   "metadata": {},
   "outputs": [
    {
     "name": "stdout",
     "output_type": "stream",
     "text": [
      "473\n",
      "590\n",
      "202\n",
      "731\n",
      "394\n"
     ]
    }
   ],
   "source": [
    "print(len(set(organism_names)))\n",
    "print(len(set(loci)))\n",
    "print(len(set(cas_genes)))\n",
    "print(len(cas_genes))\n",
    "print(len(cas_protein_dict))"
   ]
  },
  {
   "cell_type": "code",
   "execution_count": 13,
   "metadata": {},
   "outputs": [],
   "source": [
    "# save list of organisms that have cas proteins near casettes\n",
    "organism_names = list(set(organism_names))\n",
    "\n",
    "with open('organism_names.txt', 'w') as file:\n",
    "    for line in organism_names:\n",
    "        file.write(line)\n",
    "        \n",
    "organism_names_all = list(set(organism_names_all))\n",
    "\n",
    "with open('organism_names_all.txt', 'w') as file:\n",
    "    for line in organism_names_all:\n",
    "        file.write(line)\n",
    "        "
   ]
  },
  {
   "cell_type": "code",
   "execution_count": 14,
   "metadata": {},
   "outputs": [],
   "source": [
    "# create accession list\n",
    "!cat organism_names.txt | cut -d\" \" -f1 > organism_accessions.txt\n",
    "\n",
    "!cat organism_names_all.txt | cut -d\" \" -f1 > organism_accessions_all.txt\n",
    "\n",
    "# download all organism genomes that were found to be hits\n",
    "#!cat organism_accessions.txt | python ../parserscripts/acc2gb.py your@email.com nuccore fasta_cds_na > cas_bacteria.dat"
   ]
  },
  {
   "cell_type": "markdown",
   "metadata": {},
   "source": [
    "Need CDS regions for the AnaCoDa thing, so to download CDS fasta I think use `fasta_cds_na` (nucleotides for cds) or `fasta_cds_aa` (translated amino acids for cds). "
   ]
  },
  {
   "cell_type": "code",
   "execution_count": null,
   "metadata": {},
   "outputs": [],
   "source": [
    "# split fasta file for all organisms into files separated by organism - only run once\n",
    "\n",
    "current_accession = 0\n",
    "past_accession = 0\n",
    "\n",
    "for record in tqdm(SeqIO.parse(\"cas_bacteria.dat\", \"fasta\")):\n",
    "    header = record.id\n",
    "    accession = header.rsplit('|')[1].rsplit('.')[0]\n",
    "    current_accession = accession\n",
    "    if current_accession != past_accession: # start a new file\n",
    "        with open(\"%s.fasta\" %accession, \"w\") as output_handle:\n",
    "            SeqIO.write(record, output_handle, \"fasta\")\n",
    "    else:\n",
    "        with open(\"%s.fasta\" %accession, \"a\") as output_handle:\n",
    "            SeqIO.write(record, output_handle, \"fasta\")\n",
    "    past_accession = current_accession"
   ]
  },
  {
   "cell_type": "code",
   "execution_count": 15,
   "metadata": {},
   "outputs": [],
   "source": [
    "folder = \"/media/madeleine/My\\ Passport/Data/AnaCoDa\"\n",
    "folder_python = \"/media/madeleine/My Passport/Data/AnaCoDa\""
   ]
  },
  {
   "cell_type": "code",
   "execution_count": 16,
   "metadata": {},
   "outputs": [
    {
     "name": "stderr",
     "output_type": "stream",
     "text": [
      "1200252it [00:22, 52358.47it/s]\n"
     ]
    }
   ],
   "source": [
    "# link cas genes to their position in the cds list\n",
    "for record in tqdm(SeqIO.parse(\"cas_bacteria.dat\", \"fasta\")):\n",
    "    header = record.id\n",
    "    accession = header.rsplit('|')[1].rsplit('.')[0]\n",
    "    org_id = accession_to_organism_id[accession]\n",
    "    cds_number = int(header.split('_')[-1])\n",
    "    description = record.description\n",
    "    \n",
    "    for key, value in cas_near_cassette_dict[org_id].items():\n",
    "        try: \n",
    "            start = description.index(str(value['genomic_start'])) # this fails if this isn't the cas gene\n",
    "            end = description.index(str(value['genomic_end']))\n",
    "            cas_near_cassette_dict[org_id][key]['cds_number'] = cds_number\n",
    "            #print(org_id)\n",
    "        except:\n",
    "            pass"
   ]
  },
  {
   "cell_type": "markdown",
   "metadata": {},
   "source": [
    "## Analysis plan\n",
    "\n",
    "1. Get expression model data using the [AnaCoDa R package](https://rdrr.io/cran/AnaCoDa/f/inst/doc/anacoda.Rmd), save file as `accession-expression.csv`\n",
    "2. Load expression data using pandas\n",
    "3. Get cas gene ids: \n",
    "```\n",
    "cas_gene_positions = []\n",
    "for val in cas_near_cassette_dict[accession_to_organism_id['NZ_CP015184']].values():\n",
    "    cas_gene_positions.append(val['cds_number'])\n",
    "```\n",
    "4. The gene ids-1 are the index for the expression data frame (b/c zero indexing) **expression levels**\n",
    "5. Get associated locus size: \n",
    "```\n",
    "associated_loci = []\n",
    "loci_lengths = []\n",
    "for val in cas_near_cassette_dict[accession_to_organism_id['NZ_CP015184']].values():\n",
    "    associated_loci.append(val['locus'])\n",
    "    loci_lengths.append(len(loci_dict[val['locus']]['spacers'])\n",
    "```\n",
    "6. Multiple genes may be associated with the same locus, but now `cas_gene_positions` and `associated_loci` should be the same length to match them up (locus indices may be repeated). **locus lengths**\n",
    "\n",
    "Annddd.... done! Make a sweet plot"
   ]
  },
  {
   "cell_type": "markdown",
   "metadata": {},
   "source": [
    "One issue to think about: some cas genes might be counted twice as being near two loci, if the loci are very close together. Is this an issue?"
   ]
  },
  {
   "cell_type": "markdown",
   "metadata": {},
   "source": [
    "Removed genome NZ_CP009177 from organism accession list - causing errors"
   ]
  },
  {
   "cell_type": "code",
   "execution_count": 17,
   "metadata": {},
   "outputs": [],
   "source": [
    "folder = \"expression\""
   ]
  },
  {
   "cell_type": "code",
   "execution_count": 18,
   "metadata": {},
   "outputs": [],
   "source": [
    "# get list of which organisms have been analyzed\n",
    "!ls $folder/*expression.csv | cut -d\"-\" -f1 | rev | cut -d\"/\" -f1 | rev > done_accessions.txt "
   ]
  },
  {
   "cell_type": "code",
   "execution_count": 19,
   "metadata": {},
   "outputs": [],
   "source": [
    "accessions = pd.read_csv(\"organism_accessions.txt\", names = ['acc']) # ones with cas near CRISPR array by our analysis"
   ]
  },
  {
   "cell_type": "code",
   "execution_count": 20,
   "metadata": {},
   "outputs": [
    {
     "name": "stdout",
     "output_type": "stream",
     "text": [
      "no cds position 1990 151219\n",
      "no cds position 2268 220471\n",
      "no cds position 2299 12543\n",
      "no cds position 359 222463\n",
      "no cds position 2965 86582\n",
      "no cds position 2932 135754\n",
      "no cds position 2275 147874\n"
     ]
    }
   ],
   "source": [
    "accessions_done = pd.read_csv(\"done_accessions.txt\", names = ['acc'])\n",
    "\n",
    "expression_all_list = []\n",
    "expression_list = []\n",
    "locus_size_list = []\n",
    "for accession in accessions.acc:\n",
    "    if accession not in list(accessions_done.acc):\n",
    "        continue\n",
    "\n",
    "    expression = pd.read_csv(\"%s/%s-expression.csv\" %(folder, accession))\n",
    "    #print(np.mean(expression.PHI))\n",
    "    # split names column from the right to isolate cds position\n",
    "    names_split = expression[\"names\"].str.rsplit(\"_\", n=1, expand = True)  \n",
    "    expression[\"protein_position\"] = names_split.iloc[:,-1] # create column for cds position\n",
    "    expression[\"protein_position\"] = pd.to_numeric(expression[\"protein_position\"]) # convert to numeric\n",
    "    \n",
    "    expression_all_list.append(expression)\n",
    "    \n",
    "    cas_gene_positions = []\n",
    "    skip_keys = []\n",
    "    for key, val in cas_near_cassette_dict[accession_to_organism_id[accession]].items():\n",
    "        try:\n",
    "            cas_gene_positions.append(val['cds_number'])\n",
    "        except:\n",
    "            print(\"no cds position\", str(accession_to_organism_id[accession]), str(key))\n",
    "            skip_keys.append(key)\n",
    "    \n",
    "    if cas_gene_positions == []: # if it's an empty list\n",
    "        continue\n",
    "        \n",
    "    associated_loci = []\n",
    "    loci_lengths = []\n",
    "    for key, val in cas_near_cassette_dict[accession_to_organism_id[accession]].items():\n",
    "        if key in skip_keys:\n",
    "            continue\n",
    "        associated_loci.append(val['locus'])\n",
    "        loci_lengths.append(len(loci_dict[val['locus']]['spacers']))\n",
    "        \n",
    "    # get expression level for the cas genes in the organism (normalize by mean expression level)\n",
    "    expression_vals = expression.loc[expression[\"protein_position\"].isin(cas_gene_positions)].PHI / np.mean(expression.PHI)\n",
    "    if expression_vals.empty:\n",
    "        print(expression_vals)\n",
    "        expression_vals_empty = expression\n",
    "        cas_gene_positions_empty = cas_gene_positions\n",
    "    \n",
    "    #print(np.array(expression_vals), loci_lengths, associated_loci, accession)\n",
    "    expression_list.append(list(expression_vals))\n",
    "    locus_size_list.append(loci_lengths)\n",
    "    "
   ]
  },
  {
   "cell_type": "code",
   "execution_count": 21,
   "metadata": {},
   "outputs": [],
   "source": [
    "# flatten lists\n",
    "\n",
    "expression_list_flat = [item for sublist in expression_list for item in sublist] \n",
    "locus_size_list_flat = [item for sublist in locus_size_list for item in sublist] \n",
    "\n",
    "sort_inds = np.argsort(locus_size_list_flat)\n",
    "locus_size_list_flat = np.array(locus_size_list_flat)[sort_inds]\n",
    "expression_list_flat = np.array(expression_list_flat)[sort_inds]"
   ]
  },
  {
   "cell_type": "markdown",
   "metadata": {},
   "source": [
    "from scipy.optimize import curve_fit\n",
    "\n",
    "def line(x, A, B): # this is your 'straight line' y=f(x)\n",
    "    return A*x + B\n",
    "\n",
    "A,B = curve_fit(line, locus_size_list_flat, expression_list_flat)[0] # your data x, y to fit"
   ]
  },
  {
   "cell_type": "code",
   "execution_count": 22,
   "metadata": {},
   "outputs": [
    {
     "data": {
      "image/png": "[encoded data removed]",
      "text/plain": [
       "<matplotlib.figure.Figure at 0x7fa44f98c8d0>"
      ]
     },
     "metadata": {},
     "output_type": "display_data"
    }
   ],
   "source": [
    "fig, ax = plt.subplots()\n",
    "#ax.set_xscale('log')\n",
    "ax.scatter(locus_size_list_flat, expression_list_flat, alpha = 0.8)\n",
    "#ax.plot(locus_size_list_flat, np.array(locus_size_list_flat)*A+B)\n",
    "ax.set_xlabel(\"locus size\")\n",
    "ax.set_ylabel(\"protein expression relative to genome mean\")\n",
    "plt.savefig(\"cas_expression_vs_locus_size.png\", dpi = 200)"
   ]
  },
  {
   "cell_type": "code",
   "execution_count": null,
   "metadata": {},
   "outputs": [],
   "source": [
    "A,B = curve_fit(line, expression_list_flat, locus_size_list_flat)[0] # your data x, y to fit"
   ]
  },
  {
   "cell_type": "code",
   "execution_count": null,
   "metadata": {},
   "outputs": [],
   "source": [
    "curve_fit(line, expression_list_flat, locus_size_list_flat)[1]"
   ]
  },
  {
   "cell_type": "code",
   "execution_count": 23,
   "metadata": {},
   "outputs": [
    {
     "data": {
      "image/png": "[encoded data removed]",
      "text/plain": [
       "<matplotlib.figure.Figure at 0x7fa446511a58>"
      ]
     },
     "metadata": {},
     "output_type": "display_data"
    }
   ],
   "source": [
    "fig, ax = plt.subplots()\n",
    "#ax.set_xscale('log')\n",
    "ax.scatter(expression_list_flat, locus_size_list_flat,  alpha = 0.8)\n",
    "#ax.plot(expression_list_flat, np.array(expression_list_flat)*A+B)\n",
    "ax.set_xlabel(\"locus size\")\n",
    "ax.set_ylabel(\"protein expression relative to genome mean\")\n",
    "plt.savefig(\"locus_size_vs_cas_expression.png\", dpi = 200)"
   ]
  },
  {
   "cell_type": "code",
   "execution_count": 24,
   "metadata": {},
   "outputs": [],
   "source": [
    "from scipy import stats"
   ]
  },
  {
   "cell_type": "code",
   "execution_count": 25,
   "metadata": {},
   "outputs": [
    {
     "data": {
      "text/plain": [
       "SpearmanrResult(correlation=0.075944382016777681, pvalue=0.045039467279392585)"
      ]
     },
     "execution_count": 25,
     "metadata": {},
     "output_type": "execute_result"
    }
   ],
   "source": [
    "stats.spearmanr(expression_list_flat, locus_size_list_flat)"
   ]
  },
  {
   "cell_type": "code",
   "execution_count": 26,
   "metadata": {},
   "outputs": [
    {
     "data": {
      "text/plain": [
       "(0.053130351571048069, 0.16116813910108529)"
      ]
     },
     "execution_count": 26,
     "metadata": {},
     "output_type": "execute_result"
    }
   ],
   "source": [
    "stats.pearsonr(expression_list_flat, locus_size_list_flat)"
   ]
  },
  {
   "cell_type": "markdown",
   "metadata": {},
   "source": [
    "From their paper, \"the units of phi are proteins per time, and time is scaled such that the the prior for phi satisfies E(phi) = 1.\" I don't really know what that means, but it hopefully means that results are comparable across genomes?"
   ]
  },
  {
   "cell_type": "code",
   "execution_count": null,
   "metadata": {},
   "outputs": [],
   "source": []
  },
  {
   "cell_type": "code",
   "execution_count": null,
   "metadata": {},
   "outputs": [],
   "source": [
    "fig, ax = plt.subplots(2,3, figsize = (12,8))\n",
    "\n",
    "axs = ax.flatten()\n",
    "\n",
    "for i in range(6):\n",
    "    axs[i].hist(expression_all_list[i*10].PHI, bins = 20)\n",
    "\n",
    "    axs[i].set_ylabel(\"Number of genes\")\n",
    "    print(accessions_done.loc[i*10])\n",
    "    axs[i].set_title(accessions_done.loc[i*10,'acc'])\n",
    "axs[4].set_xlabel(\"Expression (proteins / time)\")\n",
    "plt.tight_layout()\n",
    "plt.savefig(\"expression_samples.png\", dpi = 200)"
   ]
  },
  {
   "cell_type": "code",
   "execution_count": null,
   "metadata": {},
   "outputs": [],
   "source": [
    "organism_id = 25\n",
    "\n",
    "search_windows = {}\n",
    "for locus in organism_dict[organism_id]['loci']:\n",
    "    # check that start is less than end\n",
    "    if not locus['genomic_start'] < locus['genomic_end']:\n",
    "        print('end is less than start')\n",
    "    search_windows[locus['id']] = {'window': [locus['genomic_start'] - 1000, locus['genomic_end'] + 1000]}\n",
    "\n"
   ]
  },
  {
   "cell_type": "code",
   "execution_count": null,
   "metadata": {},
   "outputs": [],
   "source": [
    "plot_regions = []\n",
    "for loci in organism_dict[organism_id]['loci']:\n",
    "    #print(loci['genomic_start'], loci['genomic_end'])\n",
    "    plot_regions.append({'position': [loci['genomic_start'], loci['genomic_end']], 'label': 'casette'})\n",
    "    \n",
    "for locus_id, windows in search_windows.items():\n",
    "    for cas_id, values in organism_to_cas_dict[organism_id].items():\n",
    "        #print(values['genomic_start'])\n",
    "        if values['genomic_start'] > windows['window'][0] and values['genomic_end'] < windows['window'][1]:\n",
    "            #print(str(organism_id) + 'yes')\n",
    "            plot_regions.append({'position': [values['genomic_start'], values['genomic_end']], \n",
    "                                 'label': cas_protein_dict[values['casprotein']]['gene']})\n",
    "            print(values)\n",
    "    "
   ]
  },
  {
   "cell_type": "code",
   "execution_count": null,
   "metadata": {},
   "outputs": [],
   "source": []
  },
  {
   "cell_type": "code",
   "execution_count": null,
   "metadata": {},
   "outputs": [],
   "source": [
    "plot_regions"
   ]
  },
  {
   "cell_type": "markdown",
   "metadata": {},
   "source": [
    "In the NCBI database for this organism, the closest CDS regions for the cas genes are:\n",
    "\n",
    "```\n",
    "complement(108876..109115)\n",
    "                     /locus_tag=\"GZL_RS47195\"\n",
    "                     /inference=\"COORDINATES: similar to AA\n",
    "                     sequence:RefSeq:WP_006272258.1\"\n",
    "                     /note=\"Derived by automated computational analysis using\n",
    "                     gene prediction method: Protein Homology.\"\n",
    "                     /codon_start=1\n",
    "                     /transl_table=11\n",
    "                     /product=\"hypothetical protein\"\n",
    "                     /protein_id=\"WP_078876378.1\"\n",
    "                     /translation=\"MVLDPFGGTGTTAAAAKVLGRVGISVDLSPAYTRTAASPSPTPS\n",
    "                     ANGVARPAGEWGSSSPQSSNWSTLWWMARLRLTLS\"\n",
    "```\n",
    "\n",
    "```\n",
    "109222..109647\n",
    "                     /locus_tag=\"GZL_RS43525\"\n",
    "                     /old_locus_tag=\"GZL_p00118\"\n",
    "                     /inference=\"COORDINATES: ab initio prediction:GeneMarkS+\"\n",
    "                     /note=\"Derived by automated computational analysis using\n",
    "                     gene prediction method: GeneMarkS+.\"\n",
    "                     /codon_start=1\n",
    "                     /transl_table=11\n",
    "                     /product=\"hypothetical protein\"\n",
    "                     /protein_id=\"WP_040108171.1\"\n",
    "                     /translation=\"MHRDVTARPWAREREQARAWQAVVAARAEAAAARPEENVDVSVV\n",
    "                     APAPVVLPAPRPSAAATEPELEDADDDQDLVLEDLTREQVLGWRDRAATDHQIVHDHI\n",
    "                     ARYGEHSAQRLFTRAFVATVQRLSHLGHLDLGYTPWRQA\"\n",
    "```\n",
    "\n",
    "So the good news is, the windows that the database outputs correspond to true CDS regions in NCBI, and we can get the translation from NCBI if necessary. Perhaps we should download the genbank files? or will it work to translate them ourselves?"
   ]
  },
  {
   "cell_type": "code",
   "execution_count": null,
   "metadata": {},
   "outputs": [],
   "source": [
    "fig, ax = plt.subplots(figsize = (20,2))\n",
    "\n",
    "# get max range needed\n",
    "min_value = 10**10\n",
    "max_value = 0\n",
    "for region in plot_regions:\n",
    "    if region['position'][0] < min_value:\n",
    "        min_value = region['position'][0]\n",
    "    if region['position'][1] > max_value:\n",
    "        max_value = region['position'][1]\n",
    "     \n",
    "    #if region['label'] == 'casette':\n",
    "    #    colour = 'b'\n",
    "    #else:\n",
    "    #    colour = 'g'\n",
    "    if region['label'] == 'casette':\n",
    "        ax.fill_between([region['position'][0], region['position'][1]],0,1, color = 'b')\n",
    "    else:\n",
    "        ax.fill_between([region['position'][0], region['position'][1]],0,1, label = region['label'])\n",
    "\n",
    "#ax.set_xlim(1893000, 1910000)\n",
    "#ax.set_xlim(748000, 753000)\n",
    "ax.legend(loc='best')\n",
    "    "
   ]
  },
  {
   "cell_type": "code",
   "execution_count": null,
   "metadata": {},
   "outputs": [],
   "source": [
    "# download a bacterial genome\n",
    "\n",
    "accession = organism_dict[organism_id]['accession']\n",
    "print(accession)\n",
    "print(organism_dict[organism_id]['name'])\n",
    "!echo \"$accession\" | python ../parserscripts/acc2gb.py madeleine.bonsma@gmail.com nuccore fasta > \"$accession\".dat"
   ]
  },
  {
   "cell_type": "code",
   "execution_count": null,
   "metadata": {},
   "outputs": [],
   "source": [
    "from Bio import SeqIO\n",
    "for record in SeqIO.parse(\"%s.dat\" %accession, \"fasta\"):\n",
    "    genome = record.seq"
   ]
  },
  {
   "cell_type": "code",
   "execution_count": null,
   "metadata": {},
   "outputs": [],
   "source": [
    "from Bio import Seq\n",
    "print(Seq.transcribe(Seq.reverse_complement(genome[109222:109647])))\n",
    "print(Seq.translate((genome[109222:109647])))"
   ]
  },
  {
   "cell_type": "code",
   "execution_count": null,
   "metadata": {},
   "outputs": [],
   "source": [
    "len(genome[109222:109647])/3"
   ]
  },
  {
   "cell_type": "code",
   "execution_count": null,
   "metadata": {},
   "outputs": [],
   "source": [
    "print(genome[109222:109647])"
   ]
  },
  {
   "cell_type": "markdown",
   "metadata": {},
   "source": [
    "# Another option\n",
    "Makarova et al. (2015) also have a table that lists every singe locus and all the gene positions. Let's just use that in combination with the locus data - that's many more data points! "
   ]
  },
  {
   "cell_type": "markdown",
   "metadata": {},
   "source": [
    "From the 2015 paper: they use 530 bp as the cutoff for distance between CRISPR array and cas genes. "
   ]
  },
  {
   "cell_type": "code",
   "execution_count": 27,
   "metadata": {},
   "outputs": [],
   "source": [
    "makarova_data = pd.read_csv(\"nrmicro3569-s7_cleaned.csv\")"
   ]
  },
  {
   "cell_type": "code",
   "execution_count": 28,
   "metadata": {},
   "outputs": [
    {
     "data": {
      "text/html": [
       "<div>\n",
       "<style scoped>\n",
       "    .dataframe tbody tr th:only-of-type {\n",
       "        vertical-align: middle;\n",
       "    }\n",
       "\n",
       "    .dataframe tbody tr th {\n",
       "        vertical-align: top;\n",
       "    }\n",
       "\n",
       "    .dataframe thead th {\n",
       "        text-align: right;\n",
       "    }\n",
       "</style>\n",
       "<table border=\"1\" class=\"dataframe\">\n",
       "  <thead>\n",
       "    <tr style=\"text-align: right;\">\n",
       "      <th></th>\n",
       "      <th>#Locus ID / GI</th>\n",
       "      <th>(sub)Type / Coordinates</th>\n",
       "      <th>Strand</th>\n",
       "      <th>Genome</th>\n",
       "      <th>Genome partition ID</th>\n",
       "      <th>Gene number on the genome partition</th>\n",
       "      <th>Cas profile ID (CDD ID for non-cas proteins)</th>\n",
       "      <th>Cas core</th>\n",
       "      <th>Cas gene</th>\n",
       "    </tr>\n",
       "  </thead>\n",
       "  <tbody>\n",
       "    <tr>\n",
       "      <th>0</th>\n",
       "      <td># 384117643</td>\n",
       "      <td>CAS-I-E</td>\n",
       "      <td>NaN</td>\n",
       "      <td>Acetobacter_pasteurianus_IFO_3283_01_42C_uid15...</td>\n",
       "      <td>NC_017104</td>\n",
       "      <td>NaN</td>\n",
       "      <td>NaN</td>\n",
       "      <td>NaN</td>\n",
       "      <td>NaN</td>\n",
       "    </tr>\n",
       "    <tr>\n",
       "      <th>1</th>\n",
       "      <td>384117643</td>\n",
       "      <td>114611..117325</td>\n",
       "      <td>+</td>\n",
       "      <td>Acetobacter_pasteurianus_IFO_3283_01_42C_uid15...</td>\n",
       "      <td>NC_017104</td>\n",
       "      <td>103.0</td>\n",
       "      <td>COG1203</td>\n",
       "      <td>+</td>\n",
       "      <td>cas3</td>\n",
       "    </tr>\n",
       "    <tr>\n",
       "      <th>2</th>\n",
       "      <td>384117644</td>\n",
       "      <td>117387..119042</td>\n",
       "      <td>+</td>\n",
       "      <td>Acetobacter_pasteurianus_IFO_3283_01_42C_uid15...</td>\n",
       "      <td>NC_017104</td>\n",
       "      <td>104.0</td>\n",
       "      <td>cd09729</td>\n",
       "      <td>+</td>\n",
       "      <td>cas8e</td>\n",
       "    </tr>\n",
       "    <tr>\n",
       "      <th>3</th>\n",
       "      <td>384117645</td>\n",
       "      <td>119042..119602</td>\n",
       "      <td>+</td>\n",
       "      <td>Acetobacter_pasteurianus_IFO_3283_01_42C_uid15...</td>\n",
       "      <td>NC_017104</td>\n",
       "      <td>105.0</td>\n",
       "      <td>cd09731</td>\n",
       "      <td>+</td>\n",
       "      <td>cse2gr11</td>\n",
       "    </tr>\n",
       "    <tr>\n",
       "      <th>4</th>\n",
       "      <td>384117646</td>\n",
       "      <td>119623..120681</td>\n",
       "      <td>+</td>\n",
       "      <td>Acetobacter_pasteurianus_IFO_3283_01_42C_uid15...</td>\n",
       "      <td>NC_017104</td>\n",
       "      <td>106.0</td>\n",
       "      <td>pfam09344</td>\n",
       "      <td>+</td>\n",
       "      <td>cas7</td>\n",
       "    </tr>\n",
       "  </tbody>\n",
       "</table>\n",
       "</div>"
      ],
      "text/plain": [
       "  #Locus ID / GI (sub)Type / Coordinates Strand  \\\n",
       "0    # 384117643                 CAS-I-E    NaN   \n",
       "1      384117643          114611..117325      +   \n",
       "2      384117644          117387..119042      +   \n",
       "3      384117645          119042..119602      +   \n",
       "4      384117646          119623..120681      +   \n",
       "\n",
       "                                              Genome Genome partition ID  \\\n",
       "0  Acetobacter_pasteurianus_IFO_3283_01_42C_uid15...           NC_017104   \n",
       "1  Acetobacter_pasteurianus_IFO_3283_01_42C_uid15...           NC_017104   \n",
       "2  Acetobacter_pasteurianus_IFO_3283_01_42C_uid15...           NC_017104   \n",
       "3  Acetobacter_pasteurianus_IFO_3283_01_42C_uid15...           NC_017104   \n",
       "4  Acetobacter_pasteurianus_IFO_3283_01_42C_uid15...           NC_017104   \n",
       "\n",
       "   Gene number on the genome partition  \\\n",
       "0                                  NaN   \n",
       "1                                103.0   \n",
       "2                                104.0   \n",
       "3                                105.0   \n",
       "4                                106.0   \n",
       "\n",
       "  Cas profile ID (CDD ID for non-cas proteins) Cas core  Cas gene  \n",
       "0                                          NaN      NaN       NaN  \n",
       "1                                      COG1203        +      cas3  \n",
       "2                                      cd09729        +     cas8e  \n",
       "3                                      cd09731        +  cse2gr11  \n",
       "4                                    pfam09344        +      cas7  "
      ]
     },
     "execution_count": 28,
     "metadata": {},
     "output_type": "execute_result"
    }
   ],
   "source": [
    "makarova_data.head()"
   ]
  },
  {
   "cell_type": "code",
   "execution_count": 29,
   "metadata": {},
   "outputs": [
    {
     "data": {
      "text/plain": [
       "Index(['#Locus ID / GI', '(sub)Type / Coordinates', 'Strand', 'Genome',\n",
       "       'Genome partition ID', 'Gene number on the genome partition',\n",
       "       'Cas profile ID (CDD ID for non-cas proteins)', 'Cas core', 'Cas gene'],\n",
       "      dtype='object')"
      ]
     },
     "execution_count": 29,
     "metadata": {},
     "output_type": "execute_result"
    }
   ],
   "source": [
    "makarova_data.columns"
   ]
  },
  {
   "cell_type": "markdown",
   "metadata": {},
   "source": [
    "The locus type and titles are mixed in with columns - will be tricky to sort it out. Each new locus has a hash symbol in the '#Locus ID / GI' column."
   ]
  },
  {
   "cell_type": "code",
   "execution_count": 30,
   "metadata": {},
   "outputs": [
    {
     "data": {
      "text/html": [
       "<div>\n",
       "<style scoped>\n",
       "    .dataframe tbody tr th:only-of-type {\n",
       "        vertical-align: middle;\n",
       "    }\n",
       "\n",
       "    .dataframe tbody tr th {\n",
       "        vertical-align: top;\n",
       "    }\n",
       "\n",
       "    .dataframe thead th {\n",
       "        text-align: right;\n",
       "    }\n",
       "</style>\n",
       "<table border=\"1\" class=\"dataframe\">\n",
       "  <thead>\n",
       "    <tr style=\"text-align: right;\">\n",
       "      <th></th>\n",
       "      <th>#Locus ID / GI</th>\n",
       "      <th>(sub)Type / Coordinates</th>\n",
       "    </tr>\n",
       "  </thead>\n",
       "  <tbody>\n",
       "    <tr>\n",
       "      <th>0</th>\n",
       "      <td># 384117643</td>\n",
       "      <td>CAS-I-E</td>\n",
       "    </tr>\n",
       "    <tr>\n",
       "      <th>1</th>\n",
       "      <td>384117643</td>\n",
       "      <td>114611..117325</td>\n",
       "    </tr>\n",
       "    <tr>\n",
       "      <th>2</th>\n",
       "      <td>384117644</td>\n",
       "      <td>117387..119042</td>\n",
       "    </tr>\n",
       "    <tr>\n",
       "      <th>3</th>\n",
       "      <td>384117645</td>\n",
       "      <td>119042..119602</td>\n",
       "    </tr>\n",
       "    <tr>\n",
       "      <th>4</th>\n",
       "      <td>384117646</td>\n",
       "      <td>119623..120681</td>\n",
       "    </tr>\n",
       "  </tbody>\n",
       "</table>\n",
       "</div>"
      ],
      "text/plain": [
       "  #Locus ID / GI (sub)Type / Coordinates\n",
       "0    # 384117643                 CAS-I-E\n",
       "1      384117643          114611..117325\n",
       "2      384117644          117387..119042\n",
       "3      384117645          119042..119602\n",
       "4      384117646          119623..120681"
      ]
     },
     "execution_count": 30,
     "metadata": {},
     "output_type": "execute_result"
    }
   ],
   "source": [
    "makarova_data[[\"#Locus ID / GI\", '(sub)Type / Coordinates']].head()"
   ]
  },
  {
   "cell_type": "code",
   "execution_count": null,
   "metadata": {},
   "outputs": [],
   "source": []
  },
  {
   "cell_type": "code",
   "execution_count": 53,
   "metadata": {},
   "outputs": [],
   "source": [
    "# get 'True' wherever a locus starts, get the index of all True\n",
    "repeats1 = np.arange(len(makarova_data))[np.array(makarova_data[\"#Locus ID / GI\"].str.contains('#'))]\n",
    "\n",
    "# add the length of the data to count the last locus\n",
    "repeats1 = np.append(repeats1, len(makarova_data)) "
   ]
  },
  {
   "cell_type": "code",
   "execution_count": 55,
   "metadata": {},
   "outputs": [],
   "source": [
    "# array giving the length of each locus (# of times label should be repeated)\n",
    "repeats = repeats1[1:] - repeats1[:-1]\n",
    "locus_id = np.arange(len(repeats)) # give a unique ID to each locus"
   ]
  },
  {
   "cell_type": "code",
   "execution_count": 56,
   "metadata": {},
   "outputs": [],
   "source": [
    "locus_id_column = np.repeat(locus_id, repeats)\n",
    "crispr_types = makarova_data.loc[makarova_data[\"#Locus ID / GI\"].str.contains('#'), \"(sub)Type / Coordinates\"]\n",
    "type_column = np.array(np.repeat(crispr_types, repeats))"
   ]
  },
  {
   "cell_type": "code",
   "execution_count": 57,
   "metadata": {},
   "outputs": [],
   "source": [
    "# assign new columns\n",
    "makarova_data[\"locus_id\"] = locus_id_column\n",
    "makarova_data[\"CRISPR_type\"] = type_column"
   ]
  },
  {
   "cell_type": "code",
   "execution_count": 58,
   "metadata": {},
   "outputs": [
    {
     "data": {
      "text/html": [
       "<div>\n",
       "<style scoped>\n",
       "    .dataframe tbody tr th:only-of-type {\n",
       "        vertical-align: middle;\n",
       "    }\n",
       "\n",
       "    .dataframe tbody tr th {\n",
       "        vertical-align: top;\n",
       "    }\n",
       "\n",
       "    .dataframe thead th {\n",
       "        text-align: right;\n",
       "    }\n",
       "</style>\n",
       "<table border=\"1\" class=\"dataframe\">\n",
       "  <thead>\n",
       "    <tr style=\"text-align: right;\">\n",
       "      <th></th>\n",
       "      <th>#Locus ID / GI</th>\n",
       "      <th>(sub)Type / Coordinates</th>\n",
       "      <th>Strand</th>\n",
       "      <th>Genome</th>\n",
       "      <th>Genome partition ID</th>\n",
       "      <th>Gene number on the genome partition</th>\n",
       "      <th>Cas profile ID (CDD ID for non-cas proteins)</th>\n",
       "      <th>Cas core</th>\n",
       "      <th>Cas gene</th>\n",
       "      <th>locus_id</th>\n",
       "      <th>CRISPR_type</th>\n",
       "    </tr>\n",
       "  </thead>\n",
       "  <tbody>\n",
       "    <tr>\n",
       "      <th>17283</th>\n",
       "      <td>345004205</td>\n",
       "      <td>199240..200190</td>\n",
       "      <td>-</td>\n",
       "      <td>halophilic_archaeon_DL31_uid72619</td>\n",
       "      <td>NC_015954</td>\n",
       "      <td>195.0</td>\n",
       "      <td>cd09709</td>\n",
       "      <td>+</td>\n",
       "      <td>csc2gr7</td>\n",
       "      <td>1946</td>\n",
       "      <td>CAS-I-D</td>\n",
       "    </tr>\n",
       "    <tr>\n",
       "      <th>17284</th>\n",
       "      <td>345004206</td>\n",
       "      <td>200187..202673</td>\n",
       "      <td>-</td>\n",
       "      <td>halophilic_archaeon_DL31_uid72619</td>\n",
       "      <td>NC_015954</td>\n",
       "      <td>196.0</td>\n",
       "      <td>cd09712</td>\n",
       "      <td>+</td>\n",
       "      <td>cas10d</td>\n",
       "      <td>1946</td>\n",
       "      <td>CAS-I-D</td>\n",
       "    </tr>\n",
       "    <tr>\n",
       "      <th>17285</th>\n",
       "      <td>345004207</td>\n",
       "      <td>202670..203539</td>\n",
       "      <td>-</td>\n",
       "      <td>halophilic_archaeon_DL31_uid72619</td>\n",
       "      <td>NC_015954</td>\n",
       "      <td>197.0</td>\n",
       "      <td>pfam10040</td>\n",
       "      <td>+</td>\n",
       "      <td>cas6</td>\n",
       "      <td>1946</td>\n",
       "      <td>CAS-I-D</td>\n",
       "    </tr>\n",
       "    <tr>\n",
       "      <th>17286</th>\n",
       "      <td>345004208</td>\n",
       "      <td>203689..204333</td>\n",
       "      <td>+</td>\n",
       "      <td>halophilic_archaeon_DL31_uid72619</td>\n",
       "      <td>NC_015954</td>\n",
       "      <td>198.0</td>\n",
       "      <td>cls001593</td>\n",
       "      <td>NaN</td>\n",
       "      <td>casR</td>\n",
       "      <td>1946</td>\n",
       "      <td>CAS-I-D</td>\n",
       "    </tr>\n",
       "    <tr>\n",
       "      <th>17287</th>\n",
       "      <td># 189485058</td>\n",
       "      <td>CAS-II-C</td>\n",
       "      <td>NaN</td>\n",
       "      <td>uncultured_Termite_group_1_bacterium_phylotype...</td>\n",
       "      <td>NC_020419</td>\n",
       "      <td>NaN</td>\n",
       "      <td>NaN</td>\n",
       "      <td>NaN</td>\n",
       "      <td>NaN</td>\n",
       "      <td>1947</td>\n",
       "      <td>CAS-II-C</td>\n",
       "    </tr>\n",
       "    <tr>\n",
       "      <th>17288</th>\n",
       "      <td>189485058</td>\n",
       "      <td>101786..102286</td>\n",
       "      <td>+</td>\n",
       "      <td>uncultured_Termite_group_1_bacterium_phylotype...</td>\n",
       "      <td>NC_020419</td>\n",
       "      <td>55.0</td>\n",
       "      <td>cd09643</td>\n",
       "      <td>+</td>\n",
       "      <td>cas9</td>\n",
       "      <td>1947</td>\n",
       "      <td>CAS-II-C</td>\n",
       "    </tr>\n",
       "    <tr>\n",
       "      <th>17289</th>\n",
       "      <td>189485059</td>\n",
       "      <td>102302..105400</td>\n",
       "      <td>+</td>\n",
       "      <td>uncultured_Termite_group_1_bacterium_phylotype...</td>\n",
       "      <td>NC_020419</td>\n",
       "      <td>56.0</td>\n",
       "      <td>cd09643</td>\n",
       "      <td>+</td>\n",
       "      <td>cas9</td>\n",
       "      <td>1947</td>\n",
       "      <td>CAS-II-C</td>\n",
       "    </tr>\n",
       "    <tr>\n",
       "      <th>17290</th>\n",
       "      <td>189485060</td>\n",
       "      <td>105401..106312</td>\n",
       "      <td>+</td>\n",
       "      <td>uncultured_Termite_group_1_bacterium_phylotype...</td>\n",
       "      <td>NC_020419</td>\n",
       "      <td>57.0</td>\n",
       "      <td>cd09720</td>\n",
       "      <td>+</td>\n",
       "      <td>cas1</td>\n",
       "      <td>1947</td>\n",
       "      <td>CAS-II-C</td>\n",
       "    </tr>\n",
       "    <tr>\n",
       "      <th>17291</th>\n",
       "      <td>189485061</td>\n",
       "      <td>106296..106622</td>\n",
       "      <td>+</td>\n",
       "      <td>uncultured_Termite_group_1_bacterium_phylotype...</td>\n",
       "      <td>NC_020419</td>\n",
       "      <td>58.0</td>\n",
       "      <td>mkCas0206</td>\n",
       "      <td>+</td>\n",
       "      <td>cas2</td>\n",
       "      <td>1947</td>\n",
       "      <td>CAS-II-C</td>\n",
       "    </tr>\n",
       "    <tr>\n",
       "      <th>17292</th>\n",
       "      <td># 189485218</td>\n",
       "      <td>CAS-I-C;CAS-II-C</td>\n",
       "      <td>NaN</td>\n",
       "      <td>uncultured_Termite_group_1_bacterium_phylotype...</td>\n",
       "      <td>NC_020419</td>\n",
       "      <td>NaN</td>\n",
       "      <td>NaN</td>\n",
       "      <td>NaN</td>\n",
       "      <td>NaN</td>\n",
       "      <td>1948</td>\n",
       "      <td>CAS-I-C;CAS-II-C</td>\n",
       "    </tr>\n",
       "    <tr>\n",
       "      <th>17293</th>\n",
       "      <td>189485218</td>\n",
       "      <td>323150..325594</td>\n",
       "      <td>+</td>\n",
       "      <td>uncultured_Termite_group_1_bacterium_phylotype...</td>\n",
       "      <td>NC_020419</td>\n",
       "      <td>215.0</td>\n",
       "      <td>COG1203</td>\n",
       "      <td>+</td>\n",
       "      <td>cas3</td>\n",
       "      <td>1948</td>\n",
       "      <td>CAS-I-C;CAS-II-C</td>\n",
       "    </tr>\n",
       "    <tr>\n",
       "      <th>17294</th>\n",
       "      <td>189485219</td>\n",
       "      <td>325587..326330</td>\n",
       "      <td>+</td>\n",
       "      <td>uncultured_Termite_group_1_bacterium_phylotype...</td>\n",
       "      <td>NC_020419</td>\n",
       "      <td>216.0</td>\n",
       "      <td>cd09752</td>\n",
       "      <td>+</td>\n",
       "      <td>cas5</td>\n",
       "      <td>1948</td>\n",
       "      <td>CAS-I-C;CAS-II-C</td>\n",
       "    </tr>\n",
       "    <tr>\n",
       "      <th>17295</th>\n",
       "      <td>189485220</td>\n",
       "      <td>326330..328327</td>\n",
       "      <td>+</td>\n",
       "      <td>uncultured_Termite_group_1_bacterium_phylotype...</td>\n",
       "      <td>NC_020419</td>\n",
       "      <td>217.0</td>\n",
       "      <td>cd09757</td>\n",
       "      <td>+</td>\n",
       "      <td>cas8c</td>\n",
       "      <td>1948</td>\n",
       "      <td>CAS-I-C;CAS-II-C</td>\n",
       "    </tr>\n",
       "    <tr>\n",
       "      <th>17296</th>\n",
       "      <td>189485221</td>\n",
       "      <td>328311..329162</td>\n",
       "      <td>+</td>\n",
       "      <td>uncultured_Termite_group_1_bacterium_phylotype...</td>\n",
       "      <td>NC_020419</td>\n",
       "      <td>218.0</td>\n",
       "      <td>cd09689</td>\n",
       "      <td>+</td>\n",
       "      <td>cas7</td>\n",
       "      <td>1948</td>\n",
       "      <td>CAS-I-C;CAS-II-C</td>\n",
       "    </tr>\n",
       "    <tr>\n",
       "      <th>17297</th>\n",
       "      <td>189485222</td>\n",
       "      <td>329166..329804</td>\n",
       "      <td>+</td>\n",
       "      <td>uncultured_Termite_group_1_bacterium_phylotype...</td>\n",
       "      <td>NC_020419</td>\n",
       "      <td>219.0</td>\n",
       "      <td>cd09637</td>\n",
       "      <td>NaN</td>\n",
       "      <td>cas4</td>\n",
       "      <td>1948</td>\n",
       "      <td>CAS-I-C;CAS-II-C</td>\n",
       "    </tr>\n",
       "    <tr>\n",
       "      <th>17298</th>\n",
       "      <td>189485223</td>\n",
       "      <td>329788..330822</td>\n",
       "      <td>+</td>\n",
       "      <td>uncultured_Termite_group_1_bacterium_phylotype...</td>\n",
       "      <td>NC_020419</td>\n",
       "      <td>220.0</td>\n",
       "      <td>cd09721</td>\n",
       "      <td>+</td>\n",
       "      <td>cas1</td>\n",
       "      <td>1948</td>\n",
       "      <td>CAS-I-C;CAS-II-C</td>\n",
       "    </tr>\n",
       "    <tr>\n",
       "      <th>17299</th>\n",
       "      <td>189485224</td>\n",
       "      <td>330832..331122</td>\n",
       "      <td>+</td>\n",
       "      <td>uncultured_Termite_group_1_bacterium_phylotype...</td>\n",
       "      <td>NC_020419</td>\n",
       "      <td>221.0</td>\n",
       "      <td>cd09725</td>\n",
       "      <td>+</td>\n",
       "      <td>cas2</td>\n",
       "      <td>1948</td>\n",
       "      <td>CAS-I-C;CAS-II-C</td>\n",
       "    </tr>\n",
       "    <tr>\n",
       "      <th>17300</th>\n",
       "      <td>189485225</td>\n",
       "      <td>339128..342226</td>\n",
       "      <td>+</td>\n",
       "      <td>uncultured_Termite_group_1_bacterium_phylotype...</td>\n",
       "      <td>NC_020419</td>\n",
       "      <td>222.0</td>\n",
       "      <td>COG3513</td>\n",
       "      <td>+</td>\n",
       "      <td>cas9</td>\n",
       "      <td>1948</td>\n",
       "      <td>CAS-I-C;CAS-II-C</td>\n",
       "    </tr>\n",
       "    <tr>\n",
       "      <th>17301</th>\n",
       "      <td>189485226</td>\n",
       "      <td>342223..343119</td>\n",
       "      <td>+</td>\n",
       "      <td>uncultured_Termite_group_1_bacterium_phylotype...</td>\n",
       "      <td>NC_020419</td>\n",
       "      <td>223.0</td>\n",
       "      <td>cd09720</td>\n",
       "      <td>+</td>\n",
       "      <td>cas1</td>\n",
       "      <td>1948</td>\n",
       "      <td>CAS-I-C;CAS-II-C</td>\n",
       "    </tr>\n",
       "    <tr>\n",
       "      <th>17302</th>\n",
       "      <td>189485227</td>\n",
       "      <td>343116..343445</td>\n",
       "      <td>+</td>\n",
       "      <td>uncultured_Termite_group_1_bacterium_phylotype...</td>\n",
       "      <td>NC_020419</td>\n",
       "      <td>224.0</td>\n",
       "      <td>COG3512</td>\n",
       "      <td>+</td>\n",
       "      <td>cas2</td>\n",
       "      <td>1948</td>\n",
       "      <td>CAS-I-C;CAS-II-C</td>\n",
       "    </tr>\n",
       "  </tbody>\n",
       "</table>\n",
       "</div>"
      ],
      "text/plain": [
       "      #Locus ID / GI (sub)Type / Coordinates Strand  \\\n",
       "17283      345004205          199240..200190      -   \n",
       "17284      345004206          200187..202673      -   \n",
       "17285      345004207          202670..203539      -   \n",
       "17286      345004208          203689..204333      +   \n",
       "17287    # 189485058                CAS-II-C    NaN   \n",
       "17288      189485058          101786..102286      +   \n",
       "17289      189485059          102302..105400      +   \n",
       "17290      189485060          105401..106312      +   \n",
       "17291      189485061          106296..106622      +   \n",
       "17292    # 189485218        CAS-I-C;CAS-II-C    NaN   \n",
       "17293      189485218          323150..325594      +   \n",
       "17294      189485219          325587..326330      +   \n",
       "17295      189485220          326330..328327      +   \n",
       "17296      189485221          328311..329162      +   \n",
       "17297      189485222          329166..329804      +   \n",
       "17298      189485223          329788..330822      +   \n",
       "17299      189485224          330832..331122      +   \n",
       "17300      189485225          339128..342226      +   \n",
       "17301      189485226          342223..343119      +   \n",
       "17302      189485227          343116..343445      +   \n",
       "\n",
       "                                                  Genome Genome partition ID  \\\n",
       "17283                  halophilic_archaeon_DL31_uid72619           NC_015954   \n",
       "17284                  halophilic_archaeon_DL31_uid72619           NC_015954   \n",
       "17285                  halophilic_archaeon_DL31_uid72619           NC_015954   \n",
       "17286                  halophilic_archaeon_DL31_uid72619           NC_015954   \n",
       "17287  uncultured_Termite_group_1_bacterium_phylotype...           NC_020419   \n",
       "17288  uncultured_Termite_group_1_bacterium_phylotype...           NC_020419   \n",
       "17289  uncultured_Termite_group_1_bacterium_phylotype...           NC_020419   \n",
       "17290  uncultured_Termite_group_1_bacterium_phylotype...           NC_020419   \n",
       "17291  uncultured_Termite_group_1_bacterium_phylotype...           NC_020419   \n",
       "17292  uncultured_Termite_group_1_bacterium_phylotype...           NC_020419   \n",
       "17293  uncultured_Termite_group_1_bacterium_phylotype...           NC_020419   \n",
       "17294  uncultured_Termite_group_1_bacterium_phylotype...           NC_020419   \n",
       "17295  uncultured_Termite_group_1_bacterium_phylotype...           NC_020419   \n",
       "17296  uncultured_Termite_group_1_bacterium_phylotype...           NC_020419   \n",
       "17297  uncultured_Termite_group_1_bacterium_phylotype...           NC_020419   \n",
       "17298  uncultured_Termite_group_1_bacterium_phylotype...           NC_020419   \n",
       "17299  uncultured_Termite_group_1_bacterium_phylotype...           NC_020419   \n",
       "17300  uncultured_Termite_group_1_bacterium_phylotype...           NC_020419   \n",
       "17301  uncultured_Termite_group_1_bacterium_phylotype...           NC_020419   \n",
       "17302  uncultured_Termite_group_1_bacterium_phylotype...           NC_020419   \n",
       "\n",
       "       Gene number on the genome partition  \\\n",
       "17283                                195.0   \n",
       "17284                                196.0   \n",
       "17285                                197.0   \n",
       "17286                                198.0   \n",
       "17287                                  NaN   \n",
       "17288                                 55.0   \n",
       "17289                                 56.0   \n",
       "17290                                 57.0   \n",
       "17291                                 58.0   \n",
       "17292                                  NaN   \n",
       "17293                                215.0   \n",
       "17294                                216.0   \n",
       "17295                                217.0   \n",
       "17296                                218.0   \n",
       "17297                                219.0   \n",
       "17298                                220.0   \n",
       "17299                                221.0   \n",
       "17300                                222.0   \n",
       "17301                                223.0   \n",
       "17302                                224.0   \n",
       "\n",
       "      Cas profile ID (CDD ID for non-cas proteins) Cas core Cas gene  \\\n",
       "17283                                      cd09709        +  csc2gr7   \n",
       "17284                                      cd09712        +   cas10d   \n",
       "17285                                    pfam10040        +     cas6   \n",
       "17286                                    cls001593      NaN     casR   \n",
       "17287                                          NaN      NaN      NaN   \n",
       "17288                                      cd09643        +     cas9   \n",
       "17289                                      cd09643        +     cas9   \n",
       "17290                                      cd09720        +     cas1   \n",
       "17291                                    mkCas0206        +     cas2   \n",
       "17292                                          NaN      NaN      NaN   \n",
       "17293                                      COG1203        +     cas3   \n",
       "17294                                      cd09752        +     cas5   \n",
       "17295                                      cd09757        +    cas8c   \n",
       "17296                                      cd09689        +     cas7   \n",
       "17297                                      cd09637      NaN     cas4   \n",
       "17298                                      cd09721        +     cas1   \n",
       "17299                                      cd09725        +     cas2   \n",
       "17300                                      COG3513        +     cas9   \n",
       "17301                                      cd09720        +     cas1   \n",
       "17302                                      COG3512        +     cas2   \n",
       "\n",
       "       locus_id       CRISPR_type  \n",
       "17283      1946           CAS-I-D  \n",
       "17284      1946           CAS-I-D  \n",
       "17285      1946           CAS-I-D  \n",
       "17286      1946           CAS-I-D  \n",
       "17287      1947          CAS-II-C  \n",
       "17288      1947          CAS-II-C  \n",
       "17289      1947          CAS-II-C  \n",
       "17290      1947          CAS-II-C  \n",
       "17291      1947          CAS-II-C  \n",
       "17292      1948  CAS-I-C;CAS-II-C  \n",
       "17293      1948  CAS-I-C;CAS-II-C  \n",
       "17294      1948  CAS-I-C;CAS-II-C  \n",
       "17295      1948  CAS-I-C;CAS-II-C  \n",
       "17296      1948  CAS-I-C;CAS-II-C  \n",
       "17297      1948  CAS-I-C;CAS-II-C  \n",
       "17298      1948  CAS-I-C;CAS-II-C  \n",
       "17299      1948  CAS-I-C;CAS-II-C  \n",
       "17300      1948  CAS-I-C;CAS-II-C  \n",
       "17301      1948  CAS-I-C;CAS-II-C  \n",
       "17302      1948  CAS-I-C;CAS-II-C  "
      ]
     },
     "execution_count": 58,
     "metadata": {},
     "output_type": "execute_result"
    }
   ],
   "source": [
    "makarova_data.tail(n=20)"
   ]
  },
  {
   "cell_type": "code",
   "execution_count": 59,
   "metadata": {},
   "outputs": [],
   "source": [
    "# remove the rows that are the locus titles\n",
    "makarova_data = makarova_data.loc[~makarova_data['#Locus ID / GI'].str.contains('#')]"
   ]
  },
  {
   "cell_type": "code",
   "execution_count": 60,
   "metadata": {},
   "outputs": [],
   "source": [
    "# rename some columns\n",
    "makarova_data = makarova_data.rename(columns = {'#Locus ID / GI': 'gene_id', 'Genome partition ID': 'accession'})"
   ]
  },
  {
   "cell_type": "code",
   "execution_count": 61,
   "metadata": {},
   "outputs": [
    {
     "data": {
      "text/plain": [
       "1263"
      ]
     },
     "execution_count": 61,
     "metadata": {},
     "output_type": "execute_result"
    }
   ],
   "source": [
    "# number of unique organisms\n",
    "len(pd.unique(makarova_data['accession']))"
   ]
  },
  {
   "cell_type": "code",
   "execution_count": 62,
   "metadata": {},
   "outputs": [],
   "source": [
    "accessions_all = pd.read_csv(\"organism_accessions_all.txt\", names = ['acc']) # all organisms with CRISPR arrays\n",
    "accessions = pd.read_csv(\"organism_accessions.txt\", names = ['acc']) # ones with cas near CRISPR array"
   ]
  },
  {
   "cell_type": "code",
   "execution_count": 63,
   "metadata": {},
   "outputs": [
    {
     "name": "stdout",
     "output_type": "stream",
     "text": [
      "1469\n",
      "1148\n"
     ]
    }
   ],
   "source": [
    "# get a list of all the organisms that are in either our group or the makarova group\n",
    "set1 = set(accessions['acc'])\n",
    "set2 = set(pd.unique(makarova_data['accession'])) # makarova genomes with cas loci\n",
    "set3 = set(accessions_all['acc'])\n",
    "\n",
    "union = list(set1.union(set2))\n",
    "\n",
    "intersection_all = list(set3.intersection(set2))\n",
    "\n",
    "difference = list(set(intersection_all).difference(set1))\n",
    "\n",
    "print(len(union))\n",
    "\n",
    "# this many genomes that are in the makarova data have had their expression analyzed\n",
    "makarova_done = set2.intersection(set(accessions_done['acc']))\n",
    "print(len(makarova_done))"
   ]
  },
  {
   "cell_type": "markdown",
   "metadata": {},
   "source": [
    "Need CDS regions for the AnaCoDa thing, so to download CDS fasta I think use `fasta_cds_na` (nucleotides for cds) or `fasta_cds_aa` (translated amino acids for cds). "
   ]
  },
  {
   "cell_type": "code",
   "execution_count": 64,
   "metadata": {},
   "outputs": [],
   "source": [
    "with open(\"accessions_overlap.txt\", \"w\") as file:\n",
    "    for acc in intersection_all:\n",
    "        file.write(acc + \"\\n\")"
   ]
  },
  {
   "cell_type": "code",
   "execution_count": 65,
   "metadata": {},
   "outputs": [],
   "source": [
    "done_accessions = pd.read_csv(\"done_accessions.txt\", names = ['acc'])"
   ]
  },
  {
   "cell_type": "code",
   "execution_count": 66,
   "metadata": {},
   "outputs": [],
   "source": [
    "remaining_to_analyze = pd.DataFrame(list(set(intersection_all).difference(set(done_accessions['acc']))), columns = ['acc'])"
   ]
  },
  {
   "cell_type": "code",
   "execution_count": 67,
   "metadata": {},
   "outputs": [
    {
     "data": {
      "text/plain": [
       "15"
      ]
     },
     "execution_count": 67,
     "metadata": {},
     "output_type": "execute_result"
    }
   ],
   "source": [
    "len(remaining_to_analyze)"
   ]
  },
  {
   "cell_type": "code",
   "execution_count": 68,
   "metadata": {},
   "outputs": [],
   "source": [
    "remaining_to_analyze.to_csv(\"remaining_to_analyze.txt\", index = None, header = None)"
   ]
  },
  {
   "cell_type": "code",
   "execution_count": 92,
   "metadata": {},
   "outputs": [],
   "source": [
    "#downloaded_genomes = pd.read_csv(\"downloaded_genomes.txt\",  names = ['acc'])"
   ]
  },
  {
   "cell_type": "code",
   "execution_count": 93,
   "metadata": {},
   "outputs": [],
   "source": [
    "#to_download = list(set(intersection_all).difference(set(downloaded_genomes['acc'])))"
   ]
  },
  {
   "cell_type": "code",
   "execution_count": null,
   "metadata": {},
   "outputs": [],
   "source": [
    "# need to download a few more organisms that aren't in our list\n",
    "\n",
    "for acc in to_download:\n",
    "    !echo \"$acc\" | python ../parserscripts/acc2gb.py your@email.com nuccore fasta_cds_na > \"$acc\".fasta"
   ]
  },
  {
   "cell_type": "code",
   "execution_count": null,
   "metadata": {},
   "outputs": [],
   "source": []
  },
  {
   "cell_type": "code",
   "execution_count": null,
   "metadata": {},
   "outputs": [],
   "source": []
  },
  {
   "cell_type": "code",
   "execution_count": 69,
   "metadata": {},
   "outputs": [],
   "source": [
    "makarova_subset = makarova_data[makarova_data['accession'].isin(makarova_done)]"
   ]
  },
  {
   "cell_type": "code",
   "execution_count": 70,
   "metadata": {},
   "outputs": [
    {
     "data": {
      "text/plain": [
       "14433"
      ]
     },
     "execution_count": 70,
     "metadata": {},
     "output_type": "execute_result"
    }
   ],
   "source": [
    "len(makarova_subset)"
   ]
  },
  {
   "cell_type": "markdown",
   "metadata": {},
   "source": [
    "Split the coordinates into genome start and end columns"
   ]
  },
  {
   "cell_type": "code",
   "execution_count": 71,
   "metadata": {},
   "outputs": [
    {
     "name": "stderr",
     "output_type": "stream",
     "text": [
      "/home/madeleine/anaconda2/envs/django/lib/python3.5/site-packages/pandas/core/indexing.py:543: SettingWithCopyWarning: \n",
      "A value is trying to be set on a copy of a slice from a DataFrame.\n",
      "Try using .loc[row_indexer,col_indexer] = value instead\n",
      "\n",
      "See the caveats in the documentation: http://pandas.pydata.org/pandas-docs/stable/indexing.html#indexing-view-versus-copy\n",
      "  self.obj[item] = s\n"
     ]
    }
   ],
   "source": [
    "makarova_subset.loc[:,[\"(sub)Type / Coordinates\"]] = makarova_subset[\"(sub)Type / Coordinates\"].astype(str)"
   ]
  },
  {
   "cell_type": "code",
   "execution_count": 72,
   "metadata": {},
   "outputs": [],
   "source": [
    "new_cols = makarova_subset[\"(sub)Type / Coordinates\"].str.split(\".\", expand = True)"
   ]
  },
  {
   "cell_type": "code",
   "execution_count": 73,
   "metadata": {},
   "outputs": [
    {
     "name": "stderr",
     "output_type": "stream",
     "text": [
      "/home/madeleine/anaconda2/envs/django/lib/python3.5/site-packages/ipykernel/__main__.py:1: SettingWithCopyWarning: \n",
      "A value is trying to be set on a copy of a slice from a DataFrame.\n",
      "Try using .loc[row_indexer,col_indexer] = value instead\n",
      "\n",
      "See the caveats in the documentation: http://pandas.pydata.org/pandas-docs/stable/indexing.html#indexing-view-versus-copy\n",
      "  if __name__ == '__main__':\n",
      "/home/madeleine/anaconda2/envs/django/lib/python3.5/site-packages/ipykernel/__main__.py:2: SettingWithCopyWarning: \n",
      "A value is trying to be set on a copy of a slice from a DataFrame.\n",
      "Try using .loc[row_indexer,col_indexer] = value instead\n",
      "\n",
      "See the caveats in the documentation: http://pandas.pydata.org/pandas-docs/stable/indexing.html#indexing-view-versus-copy\n",
      "  from ipykernel import kernelapp as app\n"
     ]
    }
   ],
   "source": [
    "makarova_subset[\"Genomic start\"] = new_cols[0]\n",
    "makarova_subset[\"Genomic end\"] = new_cols[2]"
   ]
  },
  {
   "cell_type": "code",
   "execution_count": 74,
   "metadata": {},
   "outputs": [
    {
     "data": {
      "text/html": [
       "<div>\n",
       "<style scoped>\n",
       "    .dataframe tbody tr th:only-of-type {\n",
       "        vertical-align: middle;\n",
       "    }\n",
       "\n",
       "    .dataframe tbody tr th {\n",
       "        vertical-align: top;\n",
       "    }\n",
       "\n",
       "    .dataframe thead th {\n",
       "        text-align: right;\n",
       "    }\n",
       "</style>\n",
       "<table border=\"1\" class=\"dataframe\">\n",
       "  <thead>\n",
       "    <tr style=\"text-align: right;\">\n",
       "      <th></th>\n",
       "      <th>gene_id</th>\n",
       "      <th>(sub)Type / Coordinates</th>\n",
       "      <th>Strand</th>\n",
       "      <th>Genome</th>\n",
       "      <th>accession</th>\n",
       "      <th>Gene number on the genome partition</th>\n",
       "      <th>Cas profile ID (CDD ID for non-cas proteins)</th>\n",
       "      <th>Cas core</th>\n",
       "      <th>Cas gene</th>\n",
       "      <th>locus_id</th>\n",
       "      <th>CRISPR_type</th>\n",
       "      <th>Genomic start</th>\n",
       "      <th>Genomic end</th>\n",
       "    </tr>\n",
       "  </thead>\n",
       "  <tbody>\n",
       "    <tr>\n",
       "      <th>1</th>\n",
       "      <td>384117643</td>\n",
       "      <td>114611..117325</td>\n",
       "      <td>+</td>\n",
       "      <td>Acetobacter_pasteurianus_IFO_3283_01_42C_uid15...</td>\n",
       "      <td>NC_017104</td>\n",
       "      <td>103.0</td>\n",
       "      <td>COG1203</td>\n",
       "      <td>+</td>\n",
       "      <td>cas3</td>\n",
       "      <td>0</td>\n",
       "      <td>CAS-I-E</td>\n",
       "      <td>114611</td>\n",
       "      <td>117325</td>\n",
       "    </tr>\n",
       "    <tr>\n",
       "      <th>2</th>\n",
       "      <td>384117644</td>\n",
       "      <td>117387..119042</td>\n",
       "      <td>+</td>\n",
       "      <td>Acetobacter_pasteurianus_IFO_3283_01_42C_uid15...</td>\n",
       "      <td>NC_017104</td>\n",
       "      <td>104.0</td>\n",
       "      <td>cd09729</td>\n",
       "      <td>+</td>\n",
       "      <td>cas8e</td>\n",
       "      <td>0</td>\n",
       "      <td>CAS-I-E</td>\n",
       "      <td>117387</td>\n",
       "      <td>119042</td>\n",
       "    </tr>\n",
       "    <tr>\n",
       "      <th>3</th>\n",
       "      <td>384117645</td>\n",
       "      <td>119042..119602</td>\n",
       "      <td>+</td>\n",
       "      <td>Acetobacter_pasteurianus_IFO_3283_01_42C_uid15...</td>\n",
       "      <td>NC_017104</td>\n",
       "      <td>105.0</td>\n",
       "      <td>cd09731</td>\n",
       "      <td>+</td>\n",
       "      <td>cse2gr11</td>\n",
       "      <td>0</td>\n",
       "      <td>CAS-I-E</td>\n",
       "      <td>119042</td>\n",
       "      <td>119602</td>\n",
       "    </tr>\n",
       "    <tr>\n",
       "      <th>4</th>\n",
       "      <td>384117646</td>\n",
       "      <td>119623..120681</td>\n",
       "      <td>+</td>\n",
       "      <td>Acetobacter_pasteurianus_IFO_3283_01_42C_uid15...</td>\n",
       "      <td>NC_017104</td>\n",
       "      <td>106.0</td>\n",
       "      <td>pfam09344</td>\n",
       "      <td>+</td>\n",
       "      <td>cas7</td>\n",
       "      <td>0</td>\n",
       "      <td>CAS-I-E</td>\n",
       "      <td>119623</td>\n",
       "      <td>120681</td>\n",
       "    </tr>\n",
       "    <tr>\n",
       "      <th>5</th>\n",
       "      <td>384117647</td>\n",
       "      <td>120687..121466</td>\n",
       "      <td>+</td>\n",
       "      <td>Acetobacter_pasteurianus_IFO_3283_01_42C_uid15...</td>\n",
       "      <td>NC_017104</td>\n",
       "      <td>107.0</td>\n",
       "      <td>cd09693</td>\n",
       "      <td>+</td>\n",
       "      <td>cas5</td>\n",
       "      <td>0</td>\n",
       "      <td>CAS-I-E</td>\n",
       "      <td>120687</td>\n",
       "      <td>121466</td>\n",
       "    </tr>\n",
       "  </tbody>\n",
       "</table>\n",
       "</div>"
      ],
      "text/plain": [
       "     gene_id (sub)Type / Coordinates Strand  \\\n",
       "1  384117643          114611..117325      +   \n",
       "2  384117644          117387..119042      +   \n",
       "3  384117645          119042..119602      +   \n",
       "4  384117646          119623..120681      +   \n",
       "5  384117647          120687..121466      +   \n",
       "\n",
       "                                              Genome  accession  \\\n",
       "1  Acetobacter_pasteurianus_IFO_3283_01_42C_uid15...  NC_017104   \n",
       "2  Acetobacter_pasteurianus_IFO_3283_01_42C_uid15...  NC_017104   \n",
       "3  Acetobacter_pasteurianus_IFO_3283_01_42C_uid15...  NC_017104   \n",
       "4  Acetobacter_pasteurianus_IFO_3283_01_42C_uid15...  NC_017104   \n",
       "5  Acetobacter_pasteurianus_IFO_3283_01_42C_uid15...  NC_017104   \n",
       "\n",
       "   Gene number on the genome partition  \\\n",
       "1                                103.0   \n",
       "2                                104.0   \n",
       "3                                105.0   \n",
       "4                                106.0   \n",
       "5                                107.0   \n",
       "\n",
       "  Cas profile ID (CDD ID for non-cas proteins) Cas core  Cas gene  locus_id  \\\n",
       "1                                      COG1203        +      cas3         0   \n",
       "2                                      cd09729        +     cas8e         0   \n",
       "3                                      cd09731        +  cse2gr11         0   \n",
       "4                                    pfam09344        +      cas7         0   \n",
       "5                                      cd09693        +      cas5         0   \n",
       "\n",
       "  CRISPR_type Genomic start Genomic end  \n",
       "1     CAS-I-E        114611      117325  \n",
       "2     CAS-I-E        117387      119042  \n",
       "3     CAS-I-E        119042      119602  \n",
       "4     CAS-I-E        119623      120681  \n",
       "5     CAS-I-E        120687      121466  "
      ]
     },
     "execution_count": 74,
     "metadata": {},
     "output_type": "execute_result"
    }
   ],
   "source": [
    "makarova_subset.head()"
   ]
  },
  {
   "cell_type": "code",
   "execution_count": 75,
   "metadata": {},
   "outputs": [
    {
     "data": {
      "text/html": [
       "<div>\n",
       "<style scoped>\n",
       "    .dataframe tbody tr th:only-of-type {\n",
       "        vertical-align: middle;\n",
       "    }\n",
       "\n",
       "    .dataframe tbody tr th {\n",
       "        vertical-align: top;\n",
       "    }\n",
       "\n",
       "    .dataframe thead th {\n",
       "        text-align: right;\n",
       "    }\n",
       "</style>\n",
       "<table border=\"1\" class=\"dataframe\">\n",
       "  <thead>\n",
       "    <tr style=\"text-align: right;\">\n",
       "      <th></th>\n",
       "      <th>gene_id</th>\n",
       "      <th>(sub)Type / Coordinates</th>\n",
       "      <th>Strand</th>\n",
       "      <th>Genome</th>\n",
       "      <th>accession</th>\n",
       "      <th>Gene number on the genome partition</th>\n",
       "      <th>Cas profile ID (CDD ID for non-cas proteins)</th>\n",
       "      <th>Cas core</th>\n",
       "      <th>Cas gene</th>\n",
       "      <th>locus_id</th>\n",
       "      <th>CRISPR_type</th>\n",
       "      <th>Genomic start</th>\n",
       "      <th>Genomic end</th>\n",
       "    </tr>\n",
       "  </thead>\n",
       "  <tbody>\n",
       "    <tr>\n",
       "      <th>142</th>\n",
       "      <td>302347811</td>\n",
       "      <td>7459..10350</td>\n",
       "      <td>-</td>\n",
       "      <td>Acidilobus_saccharovorans_345_15_uid51395</td>\n",
       "      <td>NC_014374</td>\n",
       "      <td>9.0</td>\n",
       "      <td>cls000742</td>\n",
       "      <td>+</td>\n",
       "      <td>cas10</td>\n",
       "      <td>15</td>\n",
       "      <td>CAS-III-B</td>\n",
       "      <td>7459</td>\n",
       "      <td>10350</td>\n",
       "    </tr>\n",
       "    <tr>\n",
       "      <th>491</th>\n",
       "      <td>288947675</td>\n",
       "      <td>23..1168</td>\n",
       "      <td>+</td>\n",
       "      <td>Allochromatium_vinosum_DSM_180_uid46083</td>\n",
       "      <td>NC_013852</td>\n",
       "      <td>1.0</td>\n",
       "      <td>cd09742</td>\n",
       "      <td>NaN</td>\n",
       "      <td>csm6</td>\n",
       "      <td>60</td>\n",
       "      <td>CAS-III-B</td>\n",
       "      <td>23</td>\n",
       "      <td>1168</td>\n",
       "    </tr>\n",
       "    <tr>\n",
       "      <th>552</th>\n",
       "      <td>260892869</td>\n",
       "      <td>999552..1000265</td>\n",
       "      <td>+</td>\n",
       "      <td>Ammonifex_degensii_KC4_uid41053</td>\n",
       "      <td>NC_013385</td>\n",
       "      <td>939.0</td>\n",
       "      <td>cd09683</td>\n",
       "      <td>+</td>\n",
       "      <td>csm3gr7</td>\n",
       "      <td>67</td>\n",
       "      <td>CAS-I-B;CAS-III</td>\n",
       "      <td>999552</td>\n",
       "      <td>1000265</td>\n",
       "    </tr>\n",
       "    <tr>\n",
       "      <th>3214</th>\n",
       "      <td>479136975</td>\n",
       "      <td>8236..12252</td>\n",
       "      <td>+</td>\n",
       "      <td>Coprococcus_catus_GD_7_uid197174</td>\n",
       "      <td>NC_021009</td>\n",
       "      <td>8.0</td>\n",
       "      <td>mkCas0193</td>\n",
       "      <td>+</td>\n",
       "      <td>cas9</td>\n",
       "      <td>359</td>\n",
       "      <td>CAS-II-A</td>\n",
       "      <td>8236</td>\n",
       "      <td>12252</td>\n",
       "    </tr>\n",
       "    <tr>\n",
       "      <th>3924</th>\n",
       "      <td>452202937</td>\n",
       "      <td>97899..100319</td>\n",
       "      <td>+</td>\n",
       "      <td>Dehalococcoides_mccartyi_DCMB5_uid190184</td>\n",
       "      <td>NC_020386</td>\n",
       "      <td>92.0</td>\n",
       "      <td>COG1203</td>\n",
       "      <td>+</td>\n",
       "      <td>cas3</td>\n",
       "      <td>449</td>\n",
       "      <td>CAS-I-C</td>\n",
       "      <td>97899</td>\n",
       "      <td>100319</td>\n",
       "    </tr>\n",
       "    <tr>\n",
       "      <th>3981</th>\n",
       "      <td>386855144</td>\n",
       "      <td>9628..10290</td>\n",
       "      <td>-</td>\n",
       "      <td>Deinococcus_gobiensis_I_0_uid162509</td>\n",
       "      <td>NC_017806</td>\n",
       "      <td>16.0</td>\n",
       "      <td>cd09756</td>\n",
       "      <td>+</td>\n",
       "      <td>cas5</td>\n",
       "      <td>455</td>\n",
       "      <td>CAS-I-E</td>\n",
       "      <td>9628</td>\n",
       "      <td>10290</td>\n",
       "    </tr>\n",
       "    <tr>\n",
       "      <th>4097</th>\n",
       "      <td>328951837</td>\n",
       "      <td>99529..101334</td>\n",
       "      <td>-</td>\n",
       "      <td>Desulfobacca_acetoxidans_DSM_11109_uid65785</td>\n",
       "      <td>NC_015388</td>\n",
       "      <td>91.0</td>\n",
       "      <td>COG1203</td>\n",
       "      <td>+</td>\n",
       "      <td>cas3</td>\n",
       "      <td>467</td>\n",
       "      <td>CAS-I-B</td>\n",
       "      <td>99529</td>\n",
       "      <td>101334</td>\n",
       "    </tr>\n",
       "    <tr>\n",
       "      <th>4573</th>\n",
       "      <td>317051106</td>\n",
       "      <td>999836..1000039</td>\n",
       "      <td>+</td>\n",
       "      <td>Desulfurispirillum_indicum_S5_uid45897</td>\n",
       "      <td>NC_014836</td>\n",
       "      <td>907.0</td>\n",
       "      <td>-</td>\n",
       "      <td>NaN</td>\n",
       "      <td>-</td>\n",
       "      <td>522</td>\n",
       "      <td>CAS-I-F</td>\n",
       "      <td>999836</td>\n",
       "      <td>1000039</td>\n",
       "    </tr>\n",
       "    <tr>\n",
       "      <th>5005</th>\n",
       "      <td>386594500</td>\n",
       "      <td>999625..1001133</td>\n",
       "      <td>+</td>\n",
       "      <td>Escherichia_coli_DH1_uid161951</td>\n",
       "      <td>NC_017625</td>\n",
       "      <td>910.0</td>\n",
       "      <td>cd09669</td>\n",
       "      <td>+</td>\n",
       "      <td>cas8e</td>\n",
       "      <td>571</td>\n",
       "      <td>CAS-I-E</td>\n",
       "      <td>999625</td>\n",
       "      <td>1001133</td>\n",
       "    </tr>\n",
       "    <tr>\n",
       "      <th>5501</th>\n",
       "      <td>518651370</td>\n",
       "      <td>9550..10275</td>\n",
       "      <td>-</td>\n",
       "      <td>Ferroplasma_acidarmanus_fer1_uid54095</td>\n",
       "      <td>NC_021592</td>\n",
       "      <td>9.0</td>\n",
       "      <td>COG1583</td>\n",
       "      <td>+</td>\n",
       "      <td>cas6</td>\n",
       "      <td>629</td>\n",
       "      <td>CAS-I-B</td>\n",
       "      <td>9550</td>\n",
       "      <td>10275</td>\n",
       "    </tr>\n",
       "    <tr>\n",
       "      <th>6666</th>\n",
       "      <td>159901591</td>\n",
       "      <td>99827..100840</td>\n",
       "      <td>+</td>\n",
       "      <td>Herpetosiphon_aurantiacus_DSM_785_uid58599</td>\n",
       "      <td>NC_009973</td>\n",
       "      <td>81.0</td>\n",
       "      <td>cd09634</td>\n",
       "      <td>+</td>\n",
       "      <td>cas1</td>\n",
       "      <td>758</td>\n",
       "      <td>CAS-I-B</td>\n",
       "      <td>99827</td>\n",
       "      <td>100840</td>\n",
       "    </tr>\n",
       "    <tr>\n",
       "      <th>8234</th>\n",
       "      <td>261402132</td>\n",
       "      <td>747..1010</td>\n",
       "      <td>+</td>\n",
       "      <td>Methanocaldococcus_vulcanius_M7_uid41131</td>\n",
       "      <td>NC_013407</td>\n",
       "      <td>1.0</td>\n",
       "      <td>cd09725</td>\n",
       "      <td>+</td>\n",
       "      <td>cas2</td>\n",
       "      <td>938</td>\n",
       "      <td>CAS-I-D</td>\n",
       "      <td>747</td>\n",
       "      <td>1010</td>\n",
       "    </tr>\n",
       "    <tr>\n",
       "      <th>8242</th>\n",
       "      <td>261402140</td>\n",
       "      <td>9861..10613</td>\n",
       "      <td>-</td>\n",
       "      <td>Methanocaldococcus_vulcanius_M7_uid41131</td>\n",
       "      <td>NC_013407</td>\n",
       "      <td>9.0</td>\n",
       "      <td>cd09759</td>\n",
       "      <td>+</td>\n",
       "      <td>cas6</td>\n",
       "      <td>938</td>\n",
       "      <td>CAS-I-D</td>\n",
       "      <td>9861</td>\n",
       "      <td>10613</td>\n",
       "    </tr>\n",
       "    <tr>\n",
       "      <th>8704</th>\n",
       "      <td>15679095</td>\n",
       "      <td>999658..1000662</td>\n",
       "      <td>-</td>\n",
       "      <td>Methanothermobacter_thermautotrophicus_Delta_H...</td>\n",
       "      <td>NC_000916</td>\n",
       "      <td>1067.0</td>\n",
       "      <td>cd09722</td>\n",
       "      <td>+</td>\n",
       "      <td>cas1</td>\n",
       "      <td>983</td>\n",
       "      <td>CAS-III-A;CAS-I-B</td>\n",
       "      <td>999658</td>\n",
       "      <td>1000662</td>\n",
       "    </tr>\n",
       "    <tr>\n",
       "      <th>8912</th>\n",
       "      <td>428314604</td>\n",
       "      <td>8790..10793</td>\n",
       "      <td>-</td>\n",
       "      <td>Microcoleus_PCC_7113_uid183114</td>\n",
       "      <td>NC_019740</td>\n",
       "      <td>11.0</td>\n",
       "      <td>cd01651,cd09634</td>\n",
       "      <td>+</td>\n",
       "      <td>RT_G2_intron: Reverse transcri,cas1</td>\n",
       "      <td>1010</td>\n",
       "      <td>CAS-III-D</td>\n",
       "      <td>8790</td>\n",
       "      <td>10793</td>\n",
       "    </tr>\n",
       "    <tr>\n",
       "      <th>9952</th>\n",
       "      <td>313667215</td>\n",
       "      <td>92..706</td>\n",
       "      <td>-</td>\n",
       "      <td>Oceanithermus_profundus_DSM_14977_uid60855</td>\n",
       "      <td>NC_014753</td>\n",
       "      <td>1.0</td>\n",
       "      <td>cd09727</td>\n",
       "      <td>+</td>\n",
       "      <td>cas6e</td>\n",
       "      <td>1135</td>\n",
       "      <td>CAS-I-E</td>\n",
       "      <td>92</td>\n",
       "      <td>706</td>\n",
       "    </tr>\n",
       "    <tr>\n",
       "      <th>9953</th>\n",
       "      <td>313667216</td>\n",
       "      <td>703..1362</td>\n",
       "      <td>-</td>\n",
       "      <td>Oceanithermus_profundus_DSM_14977_uid60855</td>\n",
       "      <td>NC_014753</td>\n",
       "      <td>2.0</td>\n",
       "      <td>cd09756</td>\n",
       "      <td>+</td>\n",
       "      <td>cas5</td>\n",
       "      <td>1135</td>\n",
       "      <td>CAS-I-E</td>\n",
       "      <td>703</td>\n",
       "      <td>1362</td>\n",
       "    </tr>\n",
       "    <tr>\n",
       "      <th>9986</th>\n",
       "      <td>428315983</td>\n",
       "      <td>999804..1001339</td>\n",
       "      <td>-</td>\n",
       "      <td>Oscillatoria_PCC_7112_uid183110</td>\n",
       "      <td>NC_019729</td>\n",
       "      <td>801.0</td>\n",
       "      <td>cd09684,cd09683</td>\n",
       "      <td>+</td>\n",
       "      <td>csm3gr7,csm3gr7</td>\n",
       "      <td>1140</td>\n",
       "      <td>CAS-III-D</td>\n",
       "      <td>999804</td>\n",
       "      <td>1001339</td>\n",
       "    </tr>\n",
       "    <tr>\n",
       "      <th>10388</th>\n",
       "      <td>48477075</td>\n",
       "      <td>792..1748</td>\n",
       "      <td>-</td>\n",
       "      <td>Picrophilus_torridus_DSM_9790_uid58041</td>\n",
       "      <td>NC_005877</td>\n",
       "      <td>3.0</td>\n",
       "      <td>cd09722</td>\n",
       "      <td>+</td>\n",
       "      <td>cas1</td>\n",
       "      <td>1186</td>\n",
       "      <td>CAS-I-D</td>\n",
       "      <td>792</td>\n",
       "      <td>1748</td>\n",
       "    </tr>\n",
       "    <tr>\n",
       "      <th>11078</th>\n",
       "      <td>389851550</td>\n",
       "      <td>99184..100077</td>\n",
       "      <td>-</td>\n",
       "      <td>Pyrococcus_ST04_uid167261</td>\n",
       "      <td>NC_017946</td>\n",
       "      <td>101.0</td>\n",
       "      <td>cd09663</td>\n",
       "      <td>+</td>\n",
       "      <td>csm4gr5</td>\n",
       "      <td>1262</td>\n",
       "      <td>CAS-I-B;CAS-III-A</td>\n",
       "      <td>99184</td>\n",
       "      <td>100077</td>\n",
       "    </tr>\n",
       "    <tr>\n",
       "      <th>11589</th>\n",
       "      <td>268318346</td>\n",
       "      <td>37..2838</td>\n",
       "      <td>-</td>\n",
       "      <td>Rhodothermus_marinus_DSM_4252_uid41729</td>\n",
       "      <td>NC_013502</td>\n",
       "      <td>1.0</td>\n",
       "      <td>cd09696</td>\n",
       "      <td>+</td>\n",
       "      <td>cas3</td>\n",
       "      <td>1315</td>\n",
       "      <td>partial CAS-I-U</td>\n",
       "      <td>37</td>\n",
       "      <td>2838</td>\n",
       "    </tr>\n",
       "    <tr>\n",
       "      <th>12223</th>\n",
       "      <td>525814202</td>\n",
       "      <td>9875..10621</td>\n",
       "      <td>-</td>\n",
       "      <td>Salmonella_enterica_serovar_Heidelberg_41578_u...</td>\n",
       "      <td>NC_021810</td>\n",
       "      <td>11.0</td>\n",
       "      <td>cd09645</td>\n",
       "      <td>+</td>\n",
       "      <td>cas5</td>\n",
       "      <td>1386</td>\n",
       "      <td>CAS-I-E</td>\n",
       "      <td>9875</td>\n",
       "      <td>10621</td>\n",
       "    </tr>\n",
       "    <tr>\n",
       "      <th>12494</th>\n",
       "      <td>541862392</td>\n",
       "      <td>558..1481</td>\n",
       "      <td>-</td>\n",
       "      <td>Serratia_ATCC_39006_uid218470</td>\n",
       "      <td>NC_022268</td>\n",
       "      <td>2.0</td>\n",
       "      <td>cd09719</td>\n",
       "      <td>+</td>\n",
       "      <td>cas1</td>\n",
       "      <td>1418</td>\n",
       "      <td>CAS-I-E</td>\n",
       "      <td>558</td>\n",
       "      <td>1481</td>\n",
       "    </tr>\n",
       "    <tr>\n",
       "      <th>14636</th>\n",
       "      <td>38505679</td>\n",
       "      <td>8531..11458</td>\n",
       "      <td>+</td>\n",
       "      <td>Synechocystis_PCC_6803_uid57659</td>\n",
       "      <td>NC_005230</td>\n",
       "      <td>11.0</td>\n",
       "      <td>cd09712</td>\n",
       "      <td>+</td>\n",
       "      <td>cas10d</td>\n",
       "      <td>1679</td>\n",
       "      <td>CAS-I-D</td>\n",
       "      <td>8531</td>\n",
       "      <td>11458</td>\n",
       "    </tr>\n",
       "    <tr>\n",
       "      <th>15526</th>\n",
       "      <td>530547482</td>\n",
       "      <td>9139..10086</td>\n",
       "      <td>-</td>\n",
       "      <td>Thermococcus_litoralis_DSM_5473_uid82997</td>\n",
       "      <td>NC_022084</td>\n",
       "      <td>10.0</td>\n",
       "      <td>cd09685</td>\n",
       "      <td>+</td>\n",
       "      <td>cas7</td>\n",
       "      <td>1765</td>\n",
       "      <td>CAS-I-A;CAS-I-B</td>\n",
       "      <td>9139</td>\n",
       "      <td>10086</td>\n",
       "    </tr>\n",
       "    <tr>\n",
       "      <th>15568</th>\n",
       "      <td>289547788</td>\n",
       "      <td>9642..10496</td>\n",
       "      <td>+</td>\n",
       "      <td>Thermocrinis_albus_DSM_14484_uid46231</td>\n",
       "      <td>NC_013894</td>\n",
       "      <td>11.0</td>\n",
       "      <td>cd09661</td>\n",
       "      <td>+</td>\n",
       "      <td>cmr6gr7</td>\n",
       "      <td>1769</td>\n",
       "      <td>CAS-III-B;CAS-I-B</td>\n",
       "      <td>9642</td>\n",
       "      <td>10496</td>\n",
       "    </tr>\n",
       "    <tr>\n",
       "      <th>16036</th>\n",
       "      <td>157362965</td>\n",
       "      <td>98639..100621</td>\n",
       "      <td>+</td>\n",
       "      <td>Thermotoga_lettingae_TMO_uid58419</td>\n",
       "      <td>NC_009828</td>\n",
       "      <td>95.0</td>\n",
       "      <td>mkCas0168</td>\n",
       "      <td>+</td>\n",
       "      <td>cas10</td>\n",
       "      <td>1808</td>\n",
       "      <td>CAS-III-A</td>\n",
       "      <td>98639</td>\n",
       "      <td>100621</td>\n",
       "    </tr>\n",
       "    <tr>\n",
       "      <th>16450</th>\n",
       "      <td>384432229</td>\n",
       "      <td>98978..101743</td>\n",
       "      <td>+</td>\n",
       "      <td>Thermus_thermophilus_SG0_5JP17_16_uid159537</td>\n",
       "      <td>NC_017273</td>\n",
       "      <td>100.0</td>\n",
       "      <td>cd09696</td>\n",
       "      <td>+</td>\n",
       "      <td>cas3</td>\n",
       "      <td>1846</td>\n",
       "      <td>CAS-I-U</td>\n",
       "      <td>98978</td>\n",
       "      <td>101743</td>\n",
       "    </tr>\n",
       "  </tbody>\n",
       "</table>\n",
       "</div>"
      ],
      "text/plain": [
       "         gene_id (sub)Type / Coordinates Strand  \\\n",
       "142    302347811             7459..10350      -   \n",
       "491    288947675                23..1168      +   \n",
       "552    260892869         999552..1000265      +   \n",
       "3214   479136975             8236..12252      +   \n",
       "3924   452202937           97899..100319      +   \n",
       "3981   386855144             9628..10290      -   \n",
       "4097   328951837           99529..101334      -   \n",
       "4573   317051106         999836..1000039      +   \n",
       "5005   386594500         999625..1001133      +   \n",
       "5501   518651370             9550..10275      -   \n",
       "6666   159901591           99827..100840      +   \n",
       "8234   261402132               747..1010      +   \n",
       "8242   261402140             9861..10613      -   \n",
       "8704    15679095         999658..1000662      -   \n",
       "8912   428314604             8790..10793      -   \n",
       "9952   313667215                 92..706      -   \n",
       "9953   313667216               703..1362      -   \n",
       "9986   428315983         999804..1001339      -   \n",
       "10388   48477075               792..1748      -   \n",
       "11078  389851550           99184..100077      -   \n",
       "11589  268318346                37..2838      -   \n",
       "12223  525814202             9875..10621      -   \n",
       "12494  541862392               558..1481      -   \n",
       "14636   38505679             8531..11458      +   \n",
       "15526  530547482             9139..10086      -   \n",
       "15568  289547788             9642..10496      +   \n",
       "16036  157362965           98639..100621      +   \n",
       "16450  384432229           98978..101743      +   \n",
       "\n",
       "                                                  Genome  accession  \\\n",
       "142            Acidilobus_saccharovorans_345_15_uid51395  NC_014374   \n",
       "491              Allochromatium_vinosum_DSM_180_uid46083  NC_013852   \n",
       "552                      Ammonifex_degensii_KC4_uid41053  NC_013385   \n",
       "3214                    Coprococcus_catus_GD_7_uid197174  NC_021009   \n",
       "3924            Dehalococcoides_mccartyi_DCMB5_uid190184  NC_020386   \n",
       "3981                 Deinococcus_gobiensis_I_0_uid162509  NC_017806   \n",
       "4097         Desulfobacca_acetoxidans_DSM_11109_uid65785  NC_015388   \n",
       "4573              Desulfurispirillum_indicum_S5_uid45897  NC_014836   \n",
       "5005                      Escherichia_coli_DH1_uid161951  NC_017625   \n",
       "5501               Ferroplasma_acidarmanus_fer1_uid54095  NC_021592   \n",
       "6666          Herpetosiphon_aurantiacus_DSM_785_uid58599  NC_009973   \n",
       "8234            Methanocaldococcus_vulcanius_M7_uid41131  NC_013407   \n",
       "8242            Methanocaldococcus_vulcanius_M7_uid41131  NC_013407   \n",
       "8704   Methanothermobacter_thermautotrophicus_Delta_H...  NC_000916   \n",
       "8912                      Microcoleus_PCC_7113_uid183114  NC_019740   \n",
       "9952          Oceanithermus_profundus_DSM_14977_uid60855  NC_014753   \n",
       "9953          Oceanithermus_profundus_DSM_14977_uid60855  NC_014753   \n",
       "9986                     Oscillatoria_PCC_7112_uid183110  NC_019729   \n",
       "10388             Picrophilus_torridus_DSM_9790_uid58041  NC_005877   \n",
       "11078                          Pyrococcus_ST04_uid167261  NC_017946   \n",
       "11589             Rhodothermus_marinus_DSM_4252_uid41729  NC_013502   \n",
       "12223  Salmonella_enterica_serovar_Heidelberg_41578_u...  NC_021810   \n",
       "12494                      Serratia_ATCC_39006_uid218470  NC_022268   \n",
       "14636                    Synechocystis_PCC_6803_uid57659  NC_005230   \n",
       "15526           Thermococcus_litoralis_DSM_5473_uid82997  NC_022084   \n",
       "15568              Thermocrinis_albus_DSM_14484_uid46231  NC_013894   \n",
       "16036                  Thermotoga_lettingae_TMO_uid58419  NC_009828   \n",
       "16450        Thermus_thermophilus_SG0_5JP17_16_uid159537  NC_017273   \n",
       "\n",
       "       Gene number on the genome partition  \\\n",
       "142                                    9.0   \n",
       "491                                    1.0   \n",
       "552                                  939.0   \n",
       "3214                                   8.0   \n",
       "3924                                  92.0   \n",
       "3981                                  16.0   \n",
       "4097                                  91.0   \n",
       "4573                                 907.0   \n",
       "5005                                 910.0   \n",
       "5501                                   9.0   \n",
       "6666                                  81.0   \n",
       "8234                                   1.0   \n",
       "8242                                   9.0   \n",
       "8704                                1067.0   \n",
       "8912                                  11.0   \n",
       "9952                                   1.0   \n",
       "9953                                   2.0   \n",
       "9986                                 801.0   \n",
       "10388                                  3.0   \n",
       "11078                                101.0   \n",
       "11589                                  1.0   \n",
       "12223                                 11.0   \n",
       "12494                                  2.0   \n",
       "14636                                 11.0   \n",
       "15526                                 10.0   \n",
       "15568                                 11.0   \n",
       "16036                                 95.0   \n",
       "16450                                100.0   \n",
       "\n",
       "      Cas profile ID (CDD ID for non-cas proteins) Cas core  \\\n",
       "142                                      cls000742        +   \n",
       "491                                        cd09742      NaN   \n",
       "552                                        cd09683        +   \n",
       "3214                                     mkCas0193        +   \n",
       "3924                                       COG1203        +   \n",
       "3981                                       cd09756        +   \n",
       "4097                                       COG1203        +   \n",
       "4573                                             -      NaN   \n",
       "5005                                       cd09669        +   \n",
       "5501                                       COG1583        +   \n",
       "6666                                       cd09634        +   \n",
       "8234                                       cd09725        +   \n",
       "8242                                       cd09759        +   \n",
       "8704                                       cd09722        +   \n",
       "8912                               cd01651,cd09634        +   \n",
       "9952                                       cd09727        +   \n",
       "9953                                       cd09756        +   \n",
       "9986                               cd09684,cd09683        +   \n",
       "10388                                      cd09722        +   \n",
       "11078                                      cd09663        +   \n",
       "11589                                      cd09696        +   \n",
       "12223                                      cd09645        +   \n",
       "12494                                      cd09719        +   \n",
       "14636                                      cd09712        +   \n",
       "15526                                      cd09685        +   \n",
       "15568                                      cd09661        +   \n",
       "16036                                    mkCas0168        +   \n",
       "16450                                      cd09696        +   \n",
       "\n",
       "                                  Cas gene  locus_id        CRISPR_type  \\\n",
       "142                                  cas10        15          CAS-III-B   \n",
       "491                                   csm6        60          CAS-III-B   \n",
       "552                                csm3gr7        67    CAS-I-B;CAS-III   \n",
       "3214                                  cas9       359           CAS-II-A   \n",
       "3924                                  cas3       449            CAS-I-C   \n",
       "3981                                  cas5       455            CAS-I-E   \n",
       "4097                                  cas3       467            CAS-I-B   \n",
       "4573                                     -       522            CAS-I-F   \n",
       "5005                                 cas8e       571            CAS-I-E   \n",
       "5501                                  cas6       629            CAS-I-B   \n",
       "6666                                  cas1       758            CAS-I-B   \n",
       "8234                                  cas2       938            CAS-I-D   \n",
       "8242                                  cas6       938            CAS-I-D   \n",
       "8704                                  cas1       983  CAS-III-A;CAS-I-B   \n",
       "8912   RT_G2_intron: Reverse transcri,cas1      1010          CAS-III-D   \n",
       "9952                                 cas6e      1135            CAS-I-E   \n",
       "9953                                  cas5      1135            CAS-I-E   \n",
       "9986                       csm3gr7,csm3gr7      1140          CAS-III-D   \n",
       "10388                                 cas1      1186            CAS-I-D   \n",
       "11078                              csm4gr5      1262  CAS-I-B;CAS-III-A   \n",
       "11589                                 cas3      1315    partial CAS-I-U   \n",
       "12223                                 cas5      1386            CAS-I-E   \n",
       "12494                                 cas1      1418            CAS-I-E   \n",
       "14636                               cas10d      1679            CAS-I-D   \n",
       "15526                                 cas7      1765    CAS-I-A;CAS-I-B   \n",
       "15568                              cmr6gr7      1769  CAS-III-B;CAS-I-B   \n",
       "16036                                cas10      1808          CAS-III-A   \n",
       "16450                                 cas3      1846            CAS-I-U   \n",
       "\n",
       "      Genomic start Genomic end  \n",
       "142            7459       10350  \n",
       "491              23        1168  \n",
       "552          999552     1000265  \n",
       "3214           8236       12252  \n",
       "3924          97899      100319  \n",
       "3981           9628       10290  \n",
       "4097          99529      101334  \n",
       "4573         999836     1000039  \n",
       "5005         999625     1001133  \n",
       "5501           9550       10275  \n",
       "6666          99827      100840  \n",
       "8234            747        1010  \n",
       "8242           9861       10613  \n",
       "8704         999658     1000662  \n",
       "8912           8790       10793  \n",
       "9952             92         706  \n",
       "9953            703        1362  \n",
       "9986         999804     1001339  \n",
       "10388           792        1748  \n",
       "11078         99184      100077  \n",
       "11589            37        2838  \n",
       "12223          9875       10621  \n",
       "12494           558        1481  \n",
       "14636          8531       11458  \n",
       "15526          9139       10086  \n",
       "15568          9642       10496  \n",
       "16036         98639      100621  \n",
       "16450         98978      101743  "
      ]
     },
     "execution_count": 75,
     "metadata": {},
     "output_type": "execute_result"
    }
   ],
   "source": [
    "makarova_subset.loc[makarova_subset[\"Genomic start\"] > makarova_subset[\"Genomic end\"]]"
   ]
  },
  {
   "cell_type": "markdown",
   "metadata": {},
   "source": [
    "Looks like the genomic start is always less than the genomic end. "
   ]
  },
  {
   "cell_type": "markdown",
   "metadata": {},
   "source": [
    "Now get the ones that are near loci!"
   ]
  },
  {
   "cell_type": "code",
   "execution_count": 76,
   "metadata": {},
   "outputs": [
    {
     "data": {
      "text/html": [
       "<div>\n",
       "<style scoped>\n",
       "    .dataframe tbody tr th:only-of-type {\n",
       "        vertical-align: middle;\n",
       "    }\n",
       "\n",
       "    .dataframe tbody tr th {\n",
       "        vertical-align: top;\n",
       "    }\n",
       "\n",
       "    .dataframe thead th {\n",
       "        text-align: right;\n",
       "    }\n",
       "</style>\n",
       "<table border=\"1\" class=\"dataframe\">\n",
       "  <thead>\n",
       "    <tr style=\"text-align: right;\">\n",
       "      <th></th>\n",
       "      <th>accession</th>\n",
       "      <th>Genomic start</th>\n",
       "      <th>Genomic end</th>\n",
       "    </tr>\n",
       "    <tr>\n",
       "      <th>locus_id</th>\n",
       "      <th></th>\n",
       "      <th></th>\n",
       "      <th></th>\n",
       "    </tr>\n",
       "  </thead>\n",
       "  <tbody>\n",
       "    <tr>\n",
       "      <th>1813</th>\n",
       "      <td>NC_000853</td>\n",
       "      <td>1766027</td>\n",
       "      <td>1791275</td>\n",
       "    </tr>\n",
       "    <tr>\n",
       "      <th>41</th>\n",
       "      <td>NC_000854</td>\n",
       "      <td>776023</td>\n",
       "      <td>786281</td>\n",
       "    </tr>\n",
       "    <tr>\n",
       "      <th>1264</th>\n",
       "      <td>NC_000868</td>\n",
       "      <td>978707</td>\n",
       "      <td>984864</td>\n",
       "    </tr>\n",
       "    <tr>\n",
       "      <th>936</th>\n",
       "      <td>NC_000909</td>\n",
       "      <td>339917</td>\n",
       "      <td>351645</td>\n",
       "    </tr>\n",
       "    <tr>\n",
       "      <th>937</th>\n",
       "      <td>NC_000909</td>\n",
       "      <td>1648677</td>\n",
       "      <td>1658533</td>\n",
       "    </tr>\n",
       "  </tbody>\n",
       "</table>\n",
       "</div>"
      ],
      "text/plain": [
       "          accession Genomic start Genomic end\n",
       "locus_id                                     \n",
       "1813      NC_000853       1766027     1791275\n",
       "41        NC_000854        776023      786281\n",
       "1264      NC_000868        978707      984864\n",
       "936       NC_000909        339917      351645\n",
       "937       NC_000909       1648677     1658533"
      ]
     },
     "execution_count": 76,
     "metadata": {},
     "output_type": "execute_result"
    }
   ],
   "source": [
    "locus_min_max = (makarova_subset.groupby([\"accession\",\"locus_id\"])\n",
    "                 .agg({\"Genomic start\": np.min,\"Genomic end\": np.max}))\n",
    "\n",
    "locus_min_max = locus_min_max.reset_index()\n",
    "locus_min_max = locus_min_max.set_index('locus_id')\n",
    "locus_min_max.head()\n",
    "\n"
   ]
  },
  {
   "cell_type": "code",
   "execution_count": 77,
   "metadata": {},
   "outputs": [],
   "source": [
    "cas_locus_to_crispr_array = {}\n",
    "cutoff = 530\n",
    "count = 0\n",
    "for locus in np.unique(makarova_subset[\"locus_id\"]):\n",
    "    accession = locus_min_max.loc[locus]['accession']\n",
    "    org_id = accession_to_organism_id[accession]\n",
    "    cas_locus_start = int(locus_min_max.loc[locus]['Genomic start'])\n",
    "    cas_locus_end = int(locus_min_max.loc[locus]['Genomic end'])\n",
    "    \n",
    "    for loc in organism_dict[org_id]['loci']:\n",
    "        crispr_array_start = loc['genomic_start']\n",
    "        crispr_array_end = loc['genomic_end']\n",
    "        \n",
    "        if np.abs(crispr_array_start - cas_locus_end) < cutoff or np.abs(crispr_array_end - cas_locus_start) < cutoff:\n",
    "            count += 1\n",
    "            try:\n",
    "                cas_locus_to_crispr_array[locus].append({\"locus_id\": loc['id'], \"crispr_length\": len(loc['spacers'])})\n",
    "            except:\n",
    "                cas_locus_to_crispr_array[locus] = [{\"locus_id\": loc['id'], \"crispr_length\": len(loc['spacers'])}]"
   ]
  },
  {
   "cell_type": "markdown",
   "metadata": {},
   "source": [
    "### What do do with cas genes near multiple loci?"
   ]
  },
  {
   "cell_type": "code",
   "execution_count": 108,
   "metadata": {},
   "outputs": [
    {
     "name": "stdout",
     "output_type": "stream",
     "text": [
      "[{'crispr_length': 4, 'locus_id': 3162}, {'crispr_length': 7, 'locus_id': 7212}]\n"
     ]
    }
   ],
   "source": [
    "# an example with two nearby loci\n",
    "print(cas_locus_to_crispr_array[20])\n",
    "\n",
    "array1 = [loci_dict[3162]['genomic_start'], loci_dict[3162]['genomic_end']]\n",
    "array2 = [loci_dict[7212]['genomic_start'], loci_dict[7212]['genomic_end']]\n",
    "locus1 = [int(locus_min_max.loc[20]['Genomic start']), int(locus_min_max.loc[20]['Genomic end'])]\n",
    "\n",
    "accession = organism_dict[loci_dict[3162]['organism']]['accession']"
   ]
  },
  {
   "cell_type": "code",
   "execution_count": 112,
   "metadata": {},
   "outputs": [
    {
     "data": {
      "image/png": "[encoded data removed]",
      "text/plain": [
       "<matplotlib.figure.Figure at 0x7fa3b85bf860>"
      ]
     },
     "metadata": {},
     "output_type": "display_data"
    }
   ],
   "source": [
    "fig, ax = plt.subplots(figsize = (20,2))\n",
    "\n",
    "ax.fill_between([array1[0], array1[1]],0,1, color = 'b', label = 'CRISPR array')\n",
    "ax.fill_between([array2[0], array2[1]],0,1, color = 'b')\n",
    "ax.fill_between([locus1[0], locus1[1]],0,1, color = 'g', label = \"cas gene array\")\n",
    "\n",
    "#ax.set_xlim(1893000, 1910000)\n",
    "ax.set_xlim(934500, 942000)\n",
    "ax.legend(loc='best')\n",
    "ax.set_yticks([])\n",
    "plt.savefig(\"locus_example_%s.png\" %accession)"
   ]
  },
  {
   "cell_type": "code",
   "execution_count": 116,
   "metadata": {},
   "outputs": [
    {
     "data": {
      "text/plain": [
       "151"
      ]
     },
     "execution_count": 116,
     "metadata": {},
     "output_type": "execute_result"
    }
   ],
   "source": [
    "# distance between 1st\n",
    "locus1[0] - array1[1]"
   ]
  },
  {
   "cell_type": "code",
   "execution_count": 118,
   "metadata": {},
   "outputs": [
    {
     "data": {
      "text/plain": [
       "136"
      ]
     },
     "execution_count": 118,
     "metadata": {},
     "output_type": "execute_result"
    }
   ],
   "source": [
    "# distance between second\n",
    "array2[0] - locus1[1]"
   ]
  },
  {
   "cell_type": "code",
   "execution_count": 79,
   "metadata": {},
   "outputs": [],
   "source": [
    "expression_list = []\n",
    "locus_size_list = []\n",
    "locus_id_list = []\n",
    "gene_id_list = []\n",
    "num_skipped = 0\n",
    "for locus_num in np.unique(list(cas_locus_to_crispr_array.keys())):\n",
    "    \n",
    "    if len(cas_locus_to_crispr_array[locus_num]) > 1:\n",
    "        num_skipped += 1\n",
    "        continue # skip the ones that are near two arrays for now\n",
    "    \n",
    "    accession = locus_min_max.loc[locus_num]['accession']\n",
    "    expression = pd.read_csv(\"%s/%s-expression.csv\" %(folder,accession))\n",
    "    #print(np.mean(expression.PHI))\n",
    "    # split names column from the right to isolate cds position\n",
    "    names_split = expression[\"names\"].str.rsplit(\"_\", n=1, expand = True)  \n",
    "    expression[\"protein_position\"] = names_split.iloc[:,-1] # create column for cds position\n",
    "    expression[\"protein_position\"] = pd.to_numeric(expression[\"protein_position\"]) # convert to numeric\n",
    "    \n",
    "    expression_all_list.append(expression)\n",
    "    \n",
    "    cas_gene_positions = makarova_subset[makarova_subset['locus_id'] == locus_num][\"Gene number on the genome partition\"]\n",
    "    \n",
    "    genes_in_expression = expression.loc[expression[\"protein_position\"].isin(cas_gene_positions)]['protein_position']\n",
    "    \n",
    "    expression_vals = (expression.loc[expression[\"protein_position\"].isin(cas_gene_positions)].PHI \n",
    "                       / np.mean(expression.PHI))\n",
    "    gene_ids = makarova_subset.loc[makarova_subset['locus_id'] == locus_num][\"gene_id\"]\n",
    "    gene_ids = gene_ids[cas_gene_positions.isin(genes_in_expression)] # if some don't have expression data, skip\n",
    "    # find nearby loci - compare locus positions with cas gene positions?\n",
    "        \n",
    "    locus = cas_locus_to_crispr_array[locus_num][0] # only take the first nearby array (not necessarily the closest)\n",
    "    locus_length = locus['crispr_length']\n",
    "    locus_size_list.append([locus_length]*len(expression_vals))\n",
    "    expression_list.append(list(expression_vals))\n",
    "    locus_id_list.append([locus_num]*len(expression_vals)) # makarova locus ID\n",
    "    gene_id_list.append(list(gene_ids))"
   ]
  },
  {
   "cell_type": "code",
   "execution_count": 81,
   "metadata": {},
   "outputs": [],
   "source": [
    "# flatten lists\n",
    "expression_list_flat = [item for sublist in expression_list for item in sublist] \n",
    "locus_size_list_flat = [item for sublist in locus_size_list for item in sublist] \n",
    "locus_id_list_flat = [item for sublist in locus_id_list for item in sublist]\n",
    "gene_id_list_flat = [item for sublist in gene_id_list for item in sublist]"
   ]
  },
  {
   "cell_type": "code",
   "execution_count": 82,
   "metadata": {},
   "outputs": [],
   "source": [
    "# make data frame with expression list, locus size, and locus ID to group by locus ID\n",
    "# also add grouping info for CRISPR type?\n",
    "expression_df = pd.DataFrame(expression_list_flat)\n",
    "expression_df.columns = ['expression']\n",
    "expression_df['locus_id'] = locus_id_list_flat\n",
    "expression_df['locus_length'] = locus_size_list_flat\n",
    "expression_df['gene_id'] = gene_id_list_flat"
   ]
  },
  {
   "cell_type": "code",
   "execution_count": 83,
   "metadata": {},
   "outputs": [
    {
     "name": "stderr",
     "output_type": "stream",
     "text": [
      "/home/madeleine/anaconda2/envs/django/lib/python3.5/site-packages/ipykernel/__main__.py:4: SettingWithCopyWarning: \n",
      "A value is trying to be set on a copy of a slice from a DataFrame.\n",
      "Try using .loc[row_indexer,col_indexer] = value instead\n",
      "\n",
      "See the caveats in the documentation: http://pandas.pydata.org/pandas-docs/stable/indexing.html#indexing-view-versus-copy\n"
     ]
    }
   ],
   "source": [
    "# merge expression_df with makarova columns\n",
    "\n",
    "expression_df['gene_id'] = pd.to_numeric(expression_df['gene_id'])\n",
    "makarova_subset['gene_id'] = pd.to_numeric(makarova_subset['gene_id'])\n",
    "expression_df = expression_df.merge(makarova_subset[['gene_id', 'locus_id', 'accession', 'CRISPR_type']], \n",
    "                   on = ['gene_id'])"
   ]
  },
  {
   "cell_type": "markdown",
   "metadata": {},
   "source": [
    "### Plot cas expression nicely grouped"
   ]
  },
  {
   "cell_type": "code",
   "execution_count": 85,
   "metadata": {},
   "outputs": [],
   "source": [
    "# create type and subtype columns\n",
    "Crispr_types = expression_df['CRISPR_type'].str.split(';', expand = True)\n",
    "\n",
    "expression_df['CRISPR_type1'] = Crispr_types[0]\n",
    "expression_df['CRISPR_type2'] = Crispr_types[1]\n",
    "\n",
    "types_subtypes = expression_df['CRISPR_type1'].str.rsplit('-', n = 2, expand = True)\n",
    "\n",
    "expression_df['type'] = types_subtypes[0].str.cat(types_subtypes[1], sep = '-')"
   ]
  },
  {
   "cell_type": "code",
   "execution_count": null,
   "metadata": {},
   "outputs": [],
   "source": [
    "types_subtypes = expression_df['CRISPR_type1'].str.rsplit('-', n = 2, expand = True)\n",
    "#types_subtypes[0].str.cat(types_subtypes[1], sep = '-')"
   ]
  },
  {
   "cell_type": "code",
   "execution_count": 87,
   "metadata": {},
   "outputs": [
    {
     "data": {
      "text/plain": [
       "array(['CAS-I', 'CAS-II', 'partial CAS-IV', 'CAS-III', 'partial CAS-I',\n",
       "       'partial (CAS-III-A/CAS-I', 'partial CAS-III', 'partial CAS-II',\n",
       "       'partial (CAS-II-C/CAS-V', 'CAS-V', 'partial (CAS-II-C/CAS-III',\n",
       "       'partial (CAS-III-A/CAS-III', 'CAS-IV'], dtype=object)"
      ]
     },
     "execution_count": 87,
     "metadata": {},
     "output_type": "execute_result"
    }
   ],
   "source": [
    "expression_df['type'].unique()"
   ]
  },
  {
   "cell_type": "code",
   "execution_count": 143,
   "metadata": {},
   "outputs": [
    {
     "data": {
      "image/png": "[encoded data removed]",
      "text/plain": [
       "<matplotlib.figure.Figure at 0x7fa3d7a02c18>"
      ]
     },
     "metadata": {},
     "output_type": "display_data"
    }
   ],
   "source": [
    "sns.lmplot(x = 'locus_length', y = 'expression', hue = 'type',\n",
    "           data = expression_df.loc[~expression_df['type'].str.contains('partial')], \n",
    "           fit_reg = False, scatter_kws={'alpha':0.3})\n",
    "plt.savefig(\"makarova_expression_all.png\")"
   ]
  },
  {
   "cell_type": "code",
   "execution_count": 140,
   "metadata": {},
   "outputs": [
    {
     "data": {
      "text/plain": [
       "SpearmanrResult(correlation=-0.0011604173921244295, pvalue=0.91284881726190326)"
      ]
     },
     "execution_count": 140,
     "metadata": {},
     "output_type": "execute_result"
    }
   ],
   "source": [
    "# spearman correlation for all makarova data\n",
    "stats.spearmanr(expression_df['locus_length'], expression_df['expression'])"
   ]
  },
  {
   "cell_type": "code",
   "execution_count": 144,
   "metadata": {},
   "outputs": [
    {
     "data": {
      "text/plain": [
       "LinregressResult(slope=-1.4416080494176872e-06, intercept=0.97354924179318192, rvalue=-0.00017790905631996258, pvalue=0.98661239395566092, stderr=8.5911588369581623e-05)"
      ]
     },
     "execution_count": 144,
     "metadata": {},
     "output_type": "execute_result"
    }
   ],
   "source": [
    "#overall fit\n",
    "stats.linregress(expression_df['locus_length'], \n",
    "                 expression_df['expression'])"
   ]
  },
  {
   "cell_type": "code",
   "execution_count": 146,
   "metadata": {},
   "outputs": [
    {
     "data": {
      "text/plain": [
       "SpearmanrResult(correlation=-0.0024857510337163856, pvalue=0.84477941157834469)"
      ]
     },
     "execution_count": 146,
     "metadata": {},
     "output_type": "execute_result"
    }
   ],
   "source": [
    "stats.spearmanr(expression_df.loc[expression_df['type'] == 'CAS-I']['locus_length'], \n",
    "                 expression_df.loc[expression_df['type'] == 'CAS-I']['expression'])"
   ]
  },
  {
   "cell_type": "code",
   "execution_count": 147,
   "metadata": {},
   "outputs": [
    {
     "data": {
      "text/plain": [
       "SpearmanrResult(correlation=-0.05405257575981616, pvalue=0.18209456628593862)"
      ]
     },
     "execution_count": 147,
     "metadata": {},
     "output_type": "execute_result"
    }
   ],
   "source": [
    "stats.spearmanr(expression_df.loc[expression_df['type'] == 'CAS-II']['locus_length'], \n",
    "                 expression_df.loc[expression_df['type'] == 'CAS-II']['expression'])"
   ]
  },
  {
   "cell_type": "code",
   "execution_count": 148,
   "metadata": {},
   "outputs": [
    {
     "data": {
      "text/plain": [
       "SpearmanrResult(correlation=0.015006300599654384, pvalue=0.56470188504756147)"
      ]
     },
     "execution_count": 148,
     "metadata": {},
     "output_type": "execute_result"
    }
   ],
   "source": [
    "stats.spearmanr(expression_df.loc[expression_df['type'] == 'CAS-III']['locus_length'], \n",
    "                 expression_df.loc[expression_df['type'] == 'CAS-III']['expression'])"
   ]
  },
  {
   "cell_type": "code",
   "execution_count": 149,
   "metadata": {},
   "outputs": [
    {
     "data": {
      "text/plain": [
       "SpearmanrResult(correlation=-0.22034393241350797, pvalue=0.49135148460603872)"
      ]
     },
     "execution_count": 149,
     "metadata": {},
     "output_type": "execute_result"
    }
   ],
   "source": [
    "stats.spearmanr(expression_df.loc[expression_df['type'] == 'CAS-IV']['locus_length'], \n",
    "                 expression_df.loc[expression_df['type'] == 'CAS-IV']['expression'])"
   ]
  },
  {
   "cell_type": "code",
   "execution_count": 150,
   "metadata": {},
   "outputs": [
    {
     "data": {
      "text/plain": [
       "SpearmanrResult(correlation=-0.23873122764416504, pvalue=0.31075087377300026)"
      ]
     },
     "execution_count": 150,
     "metadata": {},
     "output_type": "execute_result"
    }
   ],
   "source": [
    "stats.spearmanr(expression_df.loc[expression_df['type'] == 'CAS-V']['locus_length'], \n",
    "                 expression_df.loc[expression_df['type'] == 'CAS-V']['expression'])"
   ]
  },
  {
   "cell_type": "code",
   "execution_count": 151,
   "metadata": {},
   "outputs": [
    {
     "data": {
      "image/png": "[encoded data removed]",
      "text/plain": [
       "<matplotlib.figure.Figure at 0x7fa3dd496908>"
      ]
     },
     "metadata": {},
     "output_type": "display_data"
    }
   ],
   "source": [
    "g = sns.lmplot(x = 'locus_length', y = 'expression', col = 'type', hue = 'type', col_wrap = 3,\n",
    "           data = expression_df.loc[~expression_df['type'].str.contains('partial')], \n",
    "           fit_reg = True)\n",
    "axes = g.axes\n",
    "axes[0].set_ylim(0,5)\n",
    "plt.savefig(\"makarova_expression_by_type.png\")"
   ]
  },
  {
   "cell_type": "code",
   "execution_count": 89,
   "metadata": {},
   "outputs": [
    {
     "data": {
      "image/png": "[encoded data removed]",
      "text/plain": [
       "<matplotlib.figure.Figure at 0x7fa412798940>"
      ]
     },
     "metadata": {},
     "output_type": "display_data"
    }
   ],
   "source": [
    "fig, ax = plt.subplots()\n",
    "#ax.set_xscale('log')\n",
    "ax.scatter(locus_size_list_flat, expression_list_flat, alpha = 0.4, c = locus_id_list_flat, cmap = \"viridis\")\n",
    "#ax.plot(locus_size_list_flat, np.array(locus_size_list_flat)*A+B)\n",
    "ax.set_xlabel(\"locus size\")\n",
    "ax.set_ylabel(\"protein expression relative to genome mean\")\n",
    "plt.savefig(\"makarova_cas_expression_vs_locus_size.png\", dpi = 200)"
   ]
  },
  {
   "cell_type": "markdown",
   "metadata": {},
   "source": [
    "## Normalize to some common genes\n",
    "\n",
    "Instead of normalizing to the total expression for a cell, normalize to a set of 'housekeeping' or reference genes that most or all organisms should constitutively express. Genes involved in DNA replication are good candidates, since we would like things to be relative to cell generation times.\n",
    "\n",
    "From some googling:\n",
    "\n",
    "| Gene name | String to search in CDS annotation | Gene function | Approx length | Reference | Notes | \n",
    "| --------- | ---------------------------------- | ------------- | ------------- | --------- | ------ |\n",
    "| recombinase A | recA                               | DNA repair, found in pretty much every organism | 353 aa | [PFAM](http://pfam.xfam.org/family/PF00154) | Homolog is radA in archaea |\n",
    "|DNA gyrase A subunit| gyrA                             |      | | [BCCM](http://bccm.belspo.be/services/identification-using-sequence-analysis-housekeeping-genes-bccmlmg), |\n",
    "|DNA gyrase B subunit| gyrB                            |      | | [BCCM](http://bccm.belspo.be/services/identification-using-sequence-analysis-housekeeping-genes-bccmlmg),   |\n",
    "| chaperone DnaJ | dnaJ | | | [BCCM](http://bccm.belspo.be/services/identification-using-sequence-analysis-housekeeping-genes-bccmlmg), [PFAM](https://pfam.xfam.org/family/DnaJ) |\n",
    "|  | rpoA | | | [BCCM](http://bccm.belspo.be/services/identification-using-sequence-analysis-housekeeping-genes-bccmlmg), |\n",
    "|  | rpoB |  |  | [BCCM](http://bccm.belspo.be/services/identification-using-sequence-analysis-housekeeping-genes-bccmlmg),  |\n",
    "|  | atpD | | | [BCCM](http://bccm.belspo.be/services/identification-using-sequence-analysis-housekeeping-genes-bccmlmg), |\n",
    "|  | infB| | | [BCCM](http://bccm.belspo.be/services/identification-using-sequence-analysis-housekeeping-genes-bccmlmg), |\n",
    "|  | gmk |  |  |  |\n",
    "|  | 16S |  |  | | Not a gene, so maybe not the best choice? |\n"
   ]
  },
  {
   "cell_type": "markdown",
   "metadata": {},
   "source": [
    "### Get gene names from fasta files and make a large data frame"
   ]
  },
  {
   "cell_type": "code",
   "execution_count": 90,
   "metadata": {},
   "outputs": [],
   "source": [
    "from Bio import SeqIO"
   ]
  },
  {
   "cell_type": "code",
   "execution_count": 95,
   "metadata": {},
   "outputs": [],
   "source": [
    "folder_python = '/media/madeleine/My Passport1/Data/AnaCoDa'"
   ]
  },
  {
   "cell_type": "code",
   "execution_count": 97,
   "metadata": {},
   "outputs": [],
   "source": [
    "expression_all = pd.read_csv(\"all_expression_data.csv\")"
   ]
  },
  {
   "cell_type": "code",
   "execution_count": 96,
   "metadata": {},
   "outputs": [
    {
     "name": "stderr",
     "output_type": "stream",
     "text": [
      "100%|██████████| 1354/1354 [2:37:45<00:00,  4.82s/it]\n"
     ]
    }
   ],
   "source": [
    "# DON'T RUN THIS unless it's the first time - takes a long time\n",
    "\n",
    "expression_all = []\n",
    "count = 0\n",
    "\n",
    "for accession in tqdm(accessions_done['acc']):\n",
    "    expression = pd.read_csv(\"%s/%s-expression.csv\" %(folder, accession))\n",
    "    # split names column from the right to isolate cds position\n",
    "    names_split = expression[\"names\"].str.rsplit(\"_\", n=1, expand = True)  \n",
    "    expression[\"protein_position\"] = names_split.iloc[:,-1] # create column for cds position\n",
    "    expression[\"protein_position\"] = pd.to_numeric(expression[\"protein_position\"]) # convert to numeric\n",
    "\n",
    "    # make columns for gene and protein name\n",
    "    expression[\"protein_name\"] = np.nan\n",
    "    expression[\"gene_name\"] = np.nan\n",
    "\n",
    "    org_id = accession_to_organism_id[accession]\n",
    "    for record in SeqIO.parse(\"%s/%s.fasta\" %(folder_python, accession), \"fasta\"):\n",
    "        header = record.id\n",
    "\n",
    "        cds_number = int(header.split('_')[-1])\n",
    "        description = record.description\n",
    "\n",
    "        try:\n",
    "            protein = description[description.index(\"protein=\") + 8:].split(']')[0]\n",
    "            expression.loc[expression['protein_position'] == cds_number, 'protein_name'] = protein\n",
    "            #print(protein)\n",
    "        except:\n",
    "            pass\n",
    "        try:\n",
    "            gene = description[description.index(\"gene=\") + 5:].split(']')[0]\n",
    "            expression.loc[expression['protein_position'] == cds_number, 'gene_name'] = gene\n",
    "        except:\n",
    "            pass\n",
    "        \n",
    "    # remove genes that have no protein or gene name\n",
    "    expression = expression.loc[np.any(~pd.isnull(expression[['gene_name', 'protein_name']]), axis = 1)]\n",
    "\n",
    "    expression['accession'] = accession # make accession column\n",
    "    \n",
    "    expression_all.append(expression) \n",
    "    count += 1\n",
    "    \n",
    "expression_all = pd.concat(expression_all)\n",
    "            \n",
    "# reset index and rename old index\n",
    "expression_all = expression_all.reset_index()\n",
    "expression_all = expression_all.rename({'index': 'old_index'})\n",
    "\n",
    "expression_all[[\"index\", \"PHI\", \"Std.Error\", \"names\", \n",
    "                \"protein_position\", \"protein_name\", \n",
    "                \"gene_name\", \"accession\" ]].to_csv(\"all_expression_data.csv\")"
   ]
  },
  {
   "cell_type": "code",
   "execution_count": 160,
   "metadata": {},
   "outputs": [],
   "source": [
    "\n",
    "expression_all_protein = expression_all.dropna(subset = ['protein_name'])\n",
    "expression_all_gene = expression_all.dropna(subset = ['gene_name'])"
   ]
  },
  {
   "cell_type": "markdown",
   "metadata": {},
   "source": [
    "#### Normalize to recA"
   ]
  },
  {
   "cell_type": "code",
   "execution_count": 285,
   "metadata": {},
   "outputs": [],
   "source": [
    "# get row indices for genes that are recA\n",
    "rec_A_gene_inds = expression_all_gene.loc[expression_all_gene['gene_name'].str.contains('recA', case=False)].index\n",
    "rad_A_gene_inds = expression_all_gene.loc[expression_all_gene['gene_name'].str.contains('radA', case=False)].index"
   ]
  },
  {
   "cell_type": "code",
   "execution_count": 286,
   "metadata": {},
   "outputs": [],
   "source": [
    "# get row indices for protein names that contain recA\n",
    "\n",
    "rec_A_protein_inds1 = expression_all_protein.loc[expression_all_protein\n",
    "                                                 ['protein_name'].str.contains('recA', case=False)].index\n",
    "rec_A_protein_inds2 = expression_all_protein.loc[expression_all_protein\n",
    "                                                 ['protein_name'].str.contains('recombinase', case=False)].index"
   ]
  },
  {
   "cell_type": "code",
   "execution_count": 288,
   "metadata": {},
   "outputs": [],
   "source": [
    "# get indices for proteins that have both 'recombinase' and 'recA' in their name\n",
    "protein_inds = set(rec_A_protein_inds1).intersection(set(rec_A_protein_inds2))\n",
    "\n",
    "gene_protein_inds = np.sort(list(set(protein_inds).union(set(rec_A_gene_inds), set(rad_A_gene_inds))))"
   ]
  },
  {
   "cell_type": "code",
   "execution_count": 290,
   "metadata": {},
   "outputs": [],
   "source": [
    "recA_df = expression_all.loc[gene_protein_inds]"
   ]
  },
  {
   "cell_type": "code",
   "execution_count": 291,
   "metadata": {},
   "outputs": [],
   "source": [
    "# if more than one gene for an organism, then take the mean\n",
    "recA_means = recA_df.groupby(['accession'])['PHI'].mean().reset_index()"
   ]
  },
  {
   "cell_type": "code",
   "execution_count": 292,
   "metadata": {},
   "outputs": [],
   "source": [
    "# these organisms have a recA gene to normalize with\n",
    "expression_df_recA = expression_df.loc[expression_df['accession'].isin(recA_means['accession'])]"
   ]
  },
  {
   "cell_type": "code",
   "execution_count": 293,
   "metadata": {},
   "outputs": [
    {
     "name": "stderr",
     "output_type": "stream",
     "text": [
      "/home/madeleine/anaconda2/envs/django/lib/python3.5/site-packages/ipykernel/__main__.py:1: SettingWithCopyWarning: \n",
      "A value is trying to be set on a copy of a slice from a DataFrame.\n",
      "Try using .loc[row_indexer,col_indexer] = value instead\n",
      "\n",
      "See the caveats in the documentation: http://pandas.pydata.org/pandas-docs/stable/indexing.html#indexing-view-versus-copy\n",
      "  if __name__ == '__main__':\n"
     ]
    }
   ],
   "source": [
    "expression_df_recA['expression_normalized'] = np.nan"
   ]
  },
  {
   "cell_type": "code",
   "execution_count": 294,
   "metadata": {},
   "outputs": [],
   "source": [
    "norm_list = []\n",
    "\n",
    "for index, row in expression_df_recA.iterrows():\n",
    "    accession = row['accession']\n",
    "    #expression_df.loc[index, 'expression_normalized'] = row['expression'] / float(recA_means.loc[recA_means['accession'] == accession]['PHI'])\n",
    "    norm_list.append(row['expression'] / float(recA_means.loc[recA_means['accession'] == accession]['PHI']))\n",
    "    #print (row['expression'] / float(recA_means.loc[recA_means['accession'] == accession]['PHI']))\n",
    "    "
   ]
  },
  {
   "cell_type": "code",
   "execution_count": 295,
   "metadata": {},
   "outputs": [
    {
     "name": "stderr",
     "output_type": "stream",
     "text": [
      "/home/madeleine/anaconda2/envs/django/lib/python3.5/site-packages/ipykernel/__main__.py:2: SettingWithCopyWarning: \n",
      "A value is trying to be set on a copy of a slice from a DataFrame.\n",
      "Try using .loc[row_indexer,col_indexer] = value instead\n",
      "\n",
      "See the caveats in the documentation: http://pandas.pydata.org/pandas-docs/stable/indexing.html#indexing-view-versus-copy\n",
      "  from ipykernel import kernelapp as app\n"
     ]
    }
   ],
   "source": [
    "# assign to column\n",
    "expression_df_recA['expression_normalized'] = norm_list"
   ]
  },
  {
   "cell_type": "code",
   "execution_count": 297,
   "metadata": {},
   "outputs": [
    {
     "data": {
      "image/png": "[encoded data removed]",
      "text/plain": [
       "<matplotlib.figure.Figure at 0x7fa3e5804048>"
      ]
     },
     "metadata": {},
     "output_type": "display_data"
    }
   ],
   "source": [
    "g = sns.lmplot(x = 'locus_length', y = 'expression_normalized', col = 'type', hue = 'type', col_wrap = 2,\n",
    "           data = expression_df_recA.loc[~expression_df_recA['type'].str.contains('partial')], \n",
    "           fit_reg = True)\n",
    "axes = g.axes\n",
    "axes[0].set_ylim(0,5)\n",
    "axes[0].set_xlim(0,500)\n",
    "plt.savefig(\"makarova_expression_by_type_recA.png\")"
   ]
  },
  {
   "cell_type": "code",
   "execution_count": 298,
   "metadata": {},
   "outputs": [
    {
     "name": "stdout",
     "output_type": "stream",
     "text": [
      "SpearmanrResult(correlation=0.16159116469959708, pvalue=2.0380651584617873e-31)\n"
     ]
    }
   ],
   "source": [
    "print(stats.spearmanr(expression_df_recA.loc[expression_df_recA['type'] == 'CAS-I']['locus_length'], \n",
    "                 expression_df_recA.loc[expression_df_recA['type'] == 'CAS-I']['expression_normalized']))"
   ]
  },
  {
   "cell_type": "code",
   "execution_count": 299,
   "metadata": {},
   "outputs": [
    {
     "name": "stdout",
     "output_type": "stream",
     "text": [
      "SpearmanrResult(correlation=-0.057055491081952174, pvalue=0.16454746513774551)\n"
     ]
    }
   ],
   "source": [
    "print(stats.spearmanr(expression_df_recA.loc[expression_df_recA['type'] == 'CAS-II']['locus_length'], \n",
    "                 expression_df_recA.loc[expression_df_recA['type'] == 'CAS-II']['expression_normalized']))"
   ]
  },
  {
   "cell_type": "code",
   "execution_count": 300,
   "metadata": {},
   "outputs": [
    {
     "name": "stdout",
     "output_type": "stream",
     "text": [
      "SpearmanrResult(correlation=0.21794199212496482, pvalue=4.800173265264103e-15)\n"
     ]
    }
   ],
   "source": [
    "print(stats.spearmanr(expression_df_recA.loc[expression_df_recA['type'] == 'CAS-III']['locus_length'], \n",
    "                 expression_df_recA.loc[expression_df_recA['type'] == 'CAS-III']['expression_normalized']))"
   ]
  },
  {
   "cell_type": "code",
   "execution_count": 301,
   "metadata": {},
   "outputs": [
    {
     "name": "stdout",
     "output_type": "stream",
     "text": [
      "SpearmanrResult(correlation=-0.67667011566272284, pvalue=0.0039933770208588617)\n"
     ]
    }
   ],
   "source": [
    "print(stats.spearmanr(expression_df_recA.loc[expression_df_recA['type'] == 'CAS-V']['locus_length'], \n",
    "                 expression_df_recA.loc[expression_df_recA['type'] == 'CAS-V']['expression_normalized']))"
   ]
  },
  {
   "cell_type": "markdown",
   "metadata": {},
   "source": [
    "#### Normalize to 16S"
   ]
  },
  {
   "cell_type": "code",
   "execution_count": 306,
   "metadata": {},
   "outputs": [
    {
     "data": {
      "text/plain": [
       "Int64Index([    260,    1364,    1495,    1551,    3949,    4355,    6028,\n",
       "               6524,    7256,    7288,\n",
       "            ...\n",
       "            3974191, 3974999, 3976487, 3977668, 3978294, 3978378, 3978554,\n",
       "            3978612, 3979801, 3979808],\n",
       "           dtype='int64', length=8181)"
      ]
     },
     "execution_count": 306,
     "metadata": {},
     "output_type": "execute_result"
    }
   ],
   "source": []
  },
  {
   "cell_type": "code",
   "execution_count": 308,
   "metadata": {},
   "outputs": [],
   "source": [
    "# get row indices for protein names that contain 16S\n",
    "\n",
    "sixteen_S_protein_inds = expression_all_protein.loc[expression_all_protein\n",
    "                                                 ['protein_name'].str.contains('16S', case=False)].index"
   ]
  },
  {
   "cell_type": "code",
   "execution_count": 309,
   "metadata": {},
   "outputs": [],
   "source": [
    "gene_protein_inds = np.sort(list(sixteen_S_protein_inds))"
   ]
  },
  {
   "cell_type": "code",
   "execution_count": 310,
   "metadata": {},
   "outputs": [],
   "source": [
    "sixteenS_df = expression_all.loc[gene_protein_inds]"
   ]
  },
  {
   "cell_type": "code",
   "execution_count": 311,
   "metadata": {},
   "outputs": [],
   "source": [
    "# if more than one gene for an organism, then take the mean. In this case there are about ~4x as many genes as accessions\n",
    "sixteenS_means = sixteenS_df.groupby(['accession'])['PHI'].mean().reset_index()"
   ]
  },
  {
   "cell_type": "code",
   "execution_count": 315,
   "metadata": {},
   "outputs": [],
   "source": [
    "# these organisms have a 16S gene to normalize with\n",
    "expression_df_16S = expression_df.loc[expression_df['accession'].isin(sixteenS_means['accession'])]"
   ]
  },
  {
   "cell_type": "code",
   "execution_count": 317,
   "metadata": {},
   "outputs": [],
   "source": [
    "norm_list = []\n",
    "\n",
    "for index, row in expression_df_16S.iterrows():\n",
    "    accession = row['accession']\n",
    "    norm_list.append(row['expression'] / float(sixteenS_means.loc[sixteenS_means['accession'] == accession]['PHI']))"
   ]
  },
  {
   "cell_type": "code",
   "execution_count": 318,
   "metadata": {},
   "outputs": [
    {
     "name": "stderr",
     "output_type": "stream",
     "text": [
      "/home/madeleine/anaconda2/envs/django/lib/python3.5/site-packages/ipykernel/__main__.py:2: SettingWithCopyWarning: \n",
      "A value is trying to be set on a copy of a slice from a DataFrame.\n",
      "Try using .loc[row_indexer,col_indexer] = value instead\n",
      "\n",
      "See the caveats in the documentation: http://pandas.pydata.org/pandas-docs/stable/indexing.html#indexing-view-versus-copy\n",
      "  from ipykernel import kernelapp as app\n"
     ]
    }
   ],
   "source": [
    "# assign to column\n",
    "expression_df_16S['expression_normalized'] = norm_list"
   ]
  },
  {
   "cell_type": "code",
   "execution_count": 319,
   "metadata": {},
   "outputs": [
    {
     "data": {
      "image/png": "[encoded data removed]",
      "text/plain": [
       "<matplotlib.figure.Figure at 0x7fa3f7ebb710>"
      ]
     },
     "metadata": {},
     "output_type": "display_data"
    }
   ],
   "source": [
    "g = sns.lmplot(x = 'locus_length', y = 'expression_normalized', col = 'type', hue = 'type', col_wrap = 2,\n",
    "           data = expression_df_16S.loc[~expression_df_16S['type'].str.contains('partial')], \n",
    "           fit_reg = True)\n",
    "axes = g.axes\n",
    "axes[0].set_ylim(0,5)\n",
    "axes[0].set_xlim(0,500)\n",
    "plt.savefig(\"makarova_expression_by_type_16S.png\")"
   ]
  },
  {
   "cell_type": "code",
   "execution_count": 320,
   "metadata": {},
   "outputs": [
    {
     "name": "stdout",
     "output_type": "stream",
     "text": [
      "SpearmanrResult(correlation=-0.0074235025244696242, pvalue=0.57423848919483822)\n"
     ]
    }
   ],
   "source": [
    "print(stats.spearmanr(expression_df_16S.loc[expression_df_16S['type'] == 'CAS-I']['locus_length'], \n",
    "                 expression_df_16S.loc[expression_df_16S['type'] == 'CAS-I']['expression_normalized']))"
   ]
  },
  {
   "cell_type": "code",
   "execution_count": 321,
   "metadata": {},
   "outputs": [
    {
     "name": "stdout",
     "output_type": "stream",
     "text": [
      "SpearmanrResult(correlation=-0.12863507395536616, pvalue=0.0015210201199193703)\n"
     ]
    }
   ],
   "source": [
    "print(stats.spearmanr(expression_df_16S.loc[expression_df_16S['type'] == 'CAS-II']['locus_length'], \n",
    "                 expression_df_16S.loc[expression_df_16S['type'] == 'CAS-II']['expression_normalized']))"
   ]
  },
  {
   "cell_type": "code",
   "execution_count": 322,
   "metadata": {},
   "outputs": [
    {
     "name": "stdout",
     "output_type": "stream",
     "text": [
      "SpearmanrResult(correlation=0.05156704095106935, pvalue=0.061561979704485306)\n"
     ]
    }
   ],
   "source": [
    "print(stats.spearmanr(expression_df_16S.loc[expression_df_16S['type'] == 'CAS-III']['locus_length'], \n",
    "                 expression_df_16S.loc[expression_df_16S['type'] == 'CAS-III']['expression_normalized']))"
   ]
  },
  {
   "cell_type": "code",
   "execution_count": 323,
   "metadata": {},
   "outputs": [
    {
     "name": "stdout",
     "output_type": "stream",
     "text": [
      "SpearmanrResult(correlation=-0.49723848948698962, pvalue=0.050037629131943755)\n"
     ]
    }
   ],
   "source": [
    "print(stats.spearmanr(expression_df_16S.loc[expression_df_16S['type'] == 'CAS-V']['locus_length'], \n",
    "                 expression_df_16S.loc[expression_df_16S['type'] == 'CAS-V']['expression_normalized']))"
   ]
  },
  {
   "cell_type": "code",
   "execution_count": null,
   "metadata": {},
   "outputs": [],
   "source": []
  },
  {
   "cell_type": "code",
   "execution_count": null,
   "metadata": {},
   "outputs": [],
   "source": []
  },
  {
   "cell_type": "markdown",
   "metadata": {},
   "source": [
    "## Compare local and scinet runs of AnaCoDa - make sure they're consistent"
   ]
  },
  {
   "cell_type": "code",
   "execution_count": 17,
   "metadata": {},
   "outputs": [],
   "source": [
    "compare_accessions = [\"NC_000853\", \"NC_000868\", \"NC_000909\"]"
   ]
  },
  {
   "cell_type": "code",
   "execution_count": 27,
   "metadata": {},
   "outputs": [
    {
     "name": "stdout",
     "output_type": "stream",
     "text": [
      "(0.99965824371657874, 0.0)\n",
      "(0.99971317458074027, 0.0)\n",
      "(0.99875036443657517, 0.0)\n"
     ]
    },
    {
     "data": {
      "text/plain": [
       "<matplotlib.text.Text at 0x7f247c46be48>"
      ]
     },
     "execution_count": 27,
     "metadata": {},
     "output_type": "execute_result"
    },
    {
     "data": {
      "image/png": "[encoded data removed]",
      "text/plain": [
       "<matplotlib.figure.Figure at 0x7f247c212438>"
      ]
     },
     "metadata": {},
     "output_type": "display_data"
    }
   ],
   "source": [
    "fig, ax = plt.subplots(3,2, figsize = (8,12))\n",
    "\n",
    "for i, accession in enumerate(compare_accessions):\n",
    "    expression_local = pd.read_csv(\"%s-expression_local.csv\" %(accession))\n",
    "    expression_scinet = pd.read_csv(\"%s-expression_scinet.csv\" %accession)\n",
    "    \n",
    "    ax[i, 0].hist(expression_local.PHI, bins = 20)\n",
    "    ax[i, 1].hist(expression_scinet.PHI, bins = 20)\n",
    "    \n",
    "    print(pearsonr(expression_local.PHI, expression_scinet.PHI))\n",
    "    \n",
    "ax[0,0].set_title(\"Run 1 (local)\")\n",
    "ax[0,1].set_title(\"Run 2 (scinet)\")\n",
    "    "
   ]
  }
 ],
 "metadata": {
  "kernelspec": {
   "display_name": "Python [conda env:django]",
   "language": "python",
   "name": "conda-env-django-py"
  },
  "language_info": {
   "codemirror_mode": {
    "name": "ipython",
    "version": 3
   },
   "file_extension": ".py",
   "mimetype": "text/x-python",
   "name": "python",
   "nbconvert_exporter": "python",
   "pygments_lexer": "ipython3",
   "version": "3.5.2"
  }
 },
 "nbformat": 4,
 "nbformat_minor": 2
}
